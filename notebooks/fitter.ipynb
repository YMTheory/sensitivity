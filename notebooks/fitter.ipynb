{
 "cells": [
  {
   "cell_type": "code",
   "execution_count": 2,
   "metadata": {},
   "outputs": [],
   "source": [
    "import numpy as np\n",
    "import matplotlib.pyplot as plt\n",
    "import histlite as hl\n",
    "\n",
    "import sys\n",
    "sys.path.append('/Users/yumiao/Documents/Works/0nbb/nEXO/Physics/sterile_nu/sensitivity/')\n",
    "\n",
    "from fitter import fitter\n",
    "from detector import detector\n",
    "from neutrino_source import neutrino_source"
   ]
  },
  {
   "cell_type": "code",
   "execution_count": 3,
   "metadata": {},
   "outputs": [
    {
     "name": "stdout",
     "output_type": "stream",
     "text": [
      "A Cr51 hot neutrino source with nominal 100000.0 in xx years with neutrino energies [0.75] and branch ratios [0.9] is created.\n"
     ]
    }
   ],
   "source": [
    "source = neutrino_source('Cr51', 1e5, [0.75], [0.9])\n",
    "det = detector('nEXO')\n",
    "\n",
    "det.position = (0, 0, 0)\n",
    "dist = 0.1 # unit: m\n",
    "source.position = (0, 0, -det.height/2-dist)\n",
    "\n",
    "#det.baseline = np.sqrt((source.position[0]-det.position[0])**2 + (source.position[1]-det.position[1])**2 + (source.position[2]-det.position[2])**2 )\n",
    "det.run_time = 100 # days\n",
    "\n",
    "\n",
    "Emin, Emax, Estep = 0.3, 1.0, 0.01 # unit: MeV\n",
    "bins = np.arange(Emin, Emax, Estep)\n",
    "dm2 = 1 # unit: eV\n",
    "sin2theta_square = 0.1\n",
    "\n",
    "fit = fitter(source, det)"
   ]
  },
  {
   "cell_type": "code",
   "execution_count": 4,
   "metadata": {},
   "outputs": [
    {
     "data": {
      "application/vnd.jupyter.widget-view+json": {
       "model_id": "1ae7562714604df59ab04f4c22f093ff",
       "version_major": 2,
       "version_minor": 0
      },
      "text/plain": [
       "Loop sin2theta_square...:   0%|          | 0/20 [00:00<?, ?it/s]"
      ]
     },
     "metadata": {},
     "output_type": "display_data"
    },
    {
     "data": {
      "application/vnd.jupyter.widget-view+json": {
       "model_id": "37d7003249db49f19a91514acc7dd4e5",
       "version_major": 2,
       "version_minor": 0
      },
      "text/plain": [
       "Loop delta_m2...:   0%|          | 0/20 [00:00<?, ?it/s]"
      ]
     },
     "metadata": {},
     "output_type": "display_data"
    },
    {
     "data": {
      "application/vnd.jupyter.widget-view+json": {
       "model_id": "d3277afd46e348ba8dfc75cc6c157717",
       "version_major": 2,
       "version_minor": 0
      },
      "text/plain": [
       "Loop delta_m2...:   0%|          | 0/20 [00:00<?, ?it/s]"
      ]
     },
     "metadata": {},
     "output_type": "display_data"
    },
    {
     "data": {
      "application/vnd.jupyter.widget-view+json": {
       "model_id": "341a4340a8a042a7a0ae7f199cac9c45",
       "version_major": 2,
       "version_minor": 0
      },
      "text/plain": [
       "Loop delta_m2...:   0%|          | 0/20 [00:00<?, ?it/s]"
      ]
     },
     "metadata": {},
     "output_type": "display_data"
    },
    {
     "data": {
      "application/vnd.jupyter.widget-view+json": {
       "model_id": "46903b1c373c4c22830014a8caf90b48",
       "version_major": 2,
       "version_minor": 0
      },
      "text/plain": [
       "Loop delta_m2...:   0%|          | 0/20 [00:00<?, ?it/s]"
      ]
     },
     "metadata": {},
     "output_type": "display_data"
    },
    {
     "data": {
      "application/vnd.jupyter.widget-view+json": {
       "model_id": "4ef89072660e439380f9c93a3531b9f9",
       "version_major": 2,
       "version_minor": 0
      },
      "text/plain": [
       "Loop delta_m2...:   0%|          | 0/20 [00:00<?, ?it/s]"
      ]
     },
     "metadata": {},
     "output_type": "display_data"
    },
    {
     "data": {
      "application/vnd.jupyter.widget-view+json": {
       "model_id": "7f58b13190004216af3df8b202d3dab9",
       "version_major": 2,
       "version_minor": 0
      },
      "text/plain": [
       "Loop delta_m2...:   0%|          | 0/20 [00:00<?, ?it/s]"
      ]
     },
     "metadata": {},
     "output_type": "display_data"
    },
    {
     "data": {
      "application/vnd.jupyter.widget-view+json": {
       "model_id": "0c819f664aa14b5f94941269e943beb6",
       "version_major": 2,
       "version_minor": 0
      },
      "text/plain": [
       "Loop delta_m2...:   0%|          | 0/20 [00:00<?, ?it/s]"
      ]
     },
     "metadata": {},
     "output_type": "display_data"
    },
    {
     "data": {
      "application/vnd.jupyter.widget-view+json": {
       "model_id": "6dbd47ba4fcd4cb5842582a6bd5ae440",
       "version_major": 2,
       "version_minor": 0
      },
      "text/plain": [
       "Loop delta_m2...:   0%|          | 0/20 [00:00<?, ?it/s]"
      ]
     },
     "metadata": {},
     "output_type": "display_data"
    },
    {
     "data": {
      "application/vnd.jupyter.widget-view+json": {
       "model_id": "6b7daa68a7af4f759dd1f3ded69d1489",
       "version_major": 2,
       "version_minor": 0
      },
      "text/plain": [
       "Loop delta_m2...:   0%|          | 0/20 [00:00<?, ?it/s]"
      ]
     },
     "metadata": {},
     "output_type": "display_data"
    },
    {
     "data": {
      "application/vnd.jupyter.widget-view+json": {
       "model_id": "df0c99e8442a426590da477218a0484d",
       "version_major": 2,
       "version_minor": 0
      },
      "text/plain": [
       "Loop delta_m2...:   0%|          | 0/20 [00:00<?, ?it/s]"
      ]
     },
     "metadata": {},
     "output_type": "display_data"
    },
    {
     "data": {
      "application/vnd.jupyter.widget-view+json": {
       "model_id": "ed78605d61c446d6ba59767cd6210865",
       "version_major": 2,
       "version_minor": 0
      },
      "text/plain": [
       "Loop delta_m2...:   0%|          | 0/20 [00:00<?, ?it/s]"
      ]
     },
     "metadata": {},
     "output_type": "display_data"
    },
    {
     "data": {
      "application/vnd.jupyter.widget-view+json": {
       "model_id": "d78e16ccd06546a0be3f7defdcb0ee62",
       "version_major": 2,
       "version_minor": 0
      },
      "text/plain": [
       "Loop delta_m2...:   0%|          | 0/20 [00:00<?, ?it/s]"
      ]
     },
     "metadata": {},
     "output_type": "display_data"
    },
    {
     "data": {
      "application/vnd.jupyter.widget-view+json": {
       "model_id": "a0e620bf77134a32baec8b41afdbc2f3",
       "version_major": 2,
       "version_minor": 0
      },
      "text/plain": [
       "Loop delta_m2...:   0%|          | 0/20 [00:00<?, ?it/s]"
      ]
     },
     "metadata": {},
     "output_type": "display_data"
    },
    {
     "data": {
      "application/vnd.jupyter.widget-view+json": {
       "model_id": "042d821598a84630bc80467ebe1ffcc1",
       "version_major": 2,
       "version_minor": 0
      },
      "text/plain": [
       "Loop delta_m2...:   0%|          | 0/20 [00:00<?, ?it/s]"
      ]
     },
     "metadata": {},
     "output_type": "display_data"
    },
    {
     "data": {
      "application/vnd.jupyter.widget-view+json": {
       "model_id": "f9d23f4c440545cdbaa61445d8da8b0d",
       "version_major": 2,
       "version_minor": 0
      },
      "text/plain": [
       "Loop delta_m2...:   0%|          | 0/20 [00:00<?, ?it/s]"
      ]
     },
     "metadata": {},
     "output_type": "display_data"
    },
    {
     "data": {
      "application/vnd.jupyter.widget-view+json": {
       "model_id": "5d7349537c16470db112a6275f3ac1d8",
       "version_major": 2,
       "version_minor": 0
      },
      "text/plain": [
       "Loop delta_m2...:   0%|          | 0/20 [00:00<?, ?it/s]"
      ]
     },
     "metadata": {},
     "output_type": "display_data"
    },
    {
     "data": {
      "application/vnd.jupyter.widget-view+json": {
       "model_id": "7b2de82de30f47d3899ef3fb25633985",
       "version_major": 2,
       "version_minor": 0
      },
      "text/plain": [
       "Loop delta_m2...:   0%|          | 0/20 [00:00<?, ?it/s]"
      ]
     },
     "metadata": {},
     "output_type": "display_data"
    },
    {
     "data": {
      "application/vnd.jupyter.widget-view+json": {
       "model_id": "f2ac7af5e49a4bc48d28aa51a94b24bd",
       "version_major": 2,
       "version_minor": 0
      },
      "text/plain": [
       "Loop delta_m2...:   0%|          | 0/20 [00:00<?, ?it/s]"
      ]
     },
     "metadata": {},
     "output_type": "display_data"
    },
    {
     "data": {
      "application/vnd.jupyter.widget-view+json": {
       "model_id": "741c7a0f9bc44dd9b3e2c2a71de9cd28",
       "version_major": 2,
       "version_minor": 0
      },
      "text/plain": [
       "Loop delta_m2...:   0%|          | 0/20 [00:00<?, ?it/s]"
      ]
     },
     "metadata": {},
     "output_type": "display_data"
    },
    {
     "data": {
      "application/vnd.jupyter.widget-view+json": {
       "model_id": "328100d1d3c34a6f833d497624c03833",
       "version_major": 2,
       "version_minor": 0
      },
      "text/plain": [
       "Loop delta_m2...:   0%|          | 0/20 [00:00<?, ?it/s]"
      ]
     },
     "metadata": {},
     "output_type": "display_data"
    }
   ],
   "source": [
    "from tqdm.notebook import tqdm\n",
    "PDFs = []\n",
    "names = []\n",
    "for sin in tqdm(np.logspace(-2, 1, 20), desc=\"Loop sin2theta_square...\"):\n",
    "    for dm2 in tqdm(np.logspace(-2, 1, 20), desc=\"Loop delta_m2...\"):\n",
    "        h = fit.generate_PDF(dm2, sin, 0.75)\n",
    "        PDFs.append(h)\n",
    "        name = f'dm2_{dm2:.2f}_sin2theta_square_{sin:.2f}'\n",
    "        names.append(name)"
   ]
  },
  {
   "cell_type": "code",
   "execution_count": 5,
   "metadata": {},
   "outputs": [
    {
     "name": "stdout",
     "output_type": "stream",
     "text": [
      "{'dm2_0.01_sin2theta_square_0.01': Hist(40 bins in [0.09999999999999998,1.283], with sum 33.8123415046492, 0 empty bins, and 0 non-finite values), 'dm2_0.04_sin2theta_square_0.01': Hist(40 bins in [0.09999999999999998,1.283], with sum 33.8123415046492, 0 empty bins, and 0 non-finite values), 'dm2_0.18_sin2theta_square_0.01': Hist(40 bins in [0.09999999999999998,1.283], with sum 33.8123415046492, 0 empty bins, and 0 non-finite values), 'dm2_0.78_sin2theta_square_0.01': Hist(40 bins in [0.09999999999999998,1.283], with sum 33.8123415046492, 0 empty bins, and 0 non-finite values), 'dm2_3.36_sin2theta_square_0.01': Hist(40 bins in [0.09999999999999998,1.283], with sum 33.812341504649204, 0 empty bins, and 0 non-finite values), 'dm2_14.38_sin2theta_square_0.01': Hist(40 bins in [0.09999999999999998,1.283], with sum 33.8123415046492, 0 empty bins, and 0 non-finite values), 'dm2_61.58_sin2theta_square_0.01': Hist(40 bins in [0.09999999999999998,1.283], with sum 33.812341504649204, 0 empty bins, and 0 non-finite values), 'dm2_263.67_sin2theta_square_0.01': Hist(40 bins in [0.09999999999999998,1.283], with sum 33.8123415046492, 0 empty bins, and 0 non-finite values), 'dm2_1128.84_sin2theta_square_0.01': Hist(40 bins in [0.09999999999999998,1.283], with sum 33.8123415046492, 0 empty bins, and 0 non-finite values), 'dm2_4832.93_sin2theta_square_0.01': Hist(40 bins in [0.09999999999999998,1.283], with sum 33.812341504649204, 0 empty bins, and 0 non-finite values), 'dm2_20691.38_sin2theta_square_0.01': Hist(40 bins in [0.09999999999999998,1.283], with sum 33.8123415046492, 0 empty bins, and 0 non-finite values), 'dm2_88586.68_sin2theta_square_0.01': Hist(40 bins in [0.09999999999999998,1.283], with sum 33.8123415046492, 0 empty bins, and 0 non-finite values), 'dm2_379269.02_sin2theta_square_0.01': Hist(40 bins in [0.09999999999999998,1.283], with sum 33.812341504649204, 0 empty bins, and 0 non-finite values), 'dm2_1623776.74_sin2theta_square_0.01': Hist(40 bins in [0.09999999999999998,1.283], with sum 33.8123415046492, 0 empty bins, and 0 non-finite values), 'dm2_6951927.96_sin2theta_square_0.01': Hist(40 bins in [0.09999999999999998,1.283], with sum 33.812341504649204, 0 empty bins, and 0 non-finite values), 'dm2_29763514.42_sin2theta_square_0.01': Hist(40 bins in [0.09999999999999998,1.283], with sum 33.8123415046492, 0 empty bins, and 0 non-finite values), 'dm2_127427498.57_sin2theta_square_0.01': Hist(40 bins in [0.09999999999999998,1.283], with sum 33.8123415046492, 0 empty bins, and 0 non-finite values), 'dm2_545559478.12_sin2theta_square_0.01': Hist(40 bins in [0.09999999999999998,1.283], with sum 33.8123415046492, 0 empty bins, and 0 non-finite values), 'dm2_2335721469.09_sin2theta_square_0.01': Hist(40 bins in [0.09999999999999998,1.283], with sum 33.8123415046492, 0 empty bins, and 0 non-finite values), 'dm2_10000000000.00_sin2theta_square_0.01': Hist(40 bins in [0.09999999999999998,1.283], with sum 33.8123415046492, 0 empty bins, and 0 non-finite values), 'dm2_0.01_sin2theta_square_0.02': Hist(40 bins in [0.09999999999999998,1.283], with sum 33.8123415046492, 0 empty bins, and 0 non-finite values), 'dm2_0.04_sin2theta_square_0.02': Hist(40 bins in [0.09999999999999998,1.283], with sum 33.8123415046492, 0 empty bins, and 0 non-finite values), 'dm2_0.18_sin2theta_square_0.02': Hist(40 bins in [0.09999999999999998,1.283], with sum 33.8123415046492, 0 empty bins, and 0 non-finite values), 'dm2_0.78_sin2theta_square_0.02': Hist(40 bins in [0.09999999999999998,1.283], with sum 33.812341504649204, 0 empty bins, and 0 non-finite values), 'dm2_3.36_sin2theta_square_0.02': Hist(40 bins in [0.09999999999999998,1.283], with sum 33.8123415046492, 0 empty bins, and 0 non-finite values), 'dm2_14.38_sin2theta_square_0.02': Hist(40 bins in [0.09999999999999998,1.283], with sum 33.8123415046492, 0 empty bins, and 0 non-finite values), 'dm2_61.58_sin2theta_square_0.02': Hist(40 bins in [0.09999999999999998,1.283], with sum 33.8123415046492, 0 empty bins, and 0 non-finite values), 'dm2_263.67_sin2theta_square_0.02': Hist(40 bins in [0.09999999999999998,1.283], with sum 33.8123415046492, 0 empty bins, and 0 non-finite values), 'dm2_1128.84_sin2theta_square_0.02': Hist(40 bins in [0.09999999999999998,1.283], with sum 33.8123415046492, 0 empty bins, and 0 non-finite values), 'dm2_4832.93_sin2theta_square_0.02': Hist(40 bins in [0.09999999999999998,1.283], with sum 33.8123415046492, 0 empty bins, and 0 non-finite values), 'dm2_20691.38_sin2theta_square_0.02': Hist(40 bins in [0.09999999999999998,1.283], with sum 33.8123415046492, 0 empty bins, and 0 non-finite values), 'dm2_88586.68_sin2theta_square_0.02': Hist(40 bins in [0.09999999999999998,1.283], with sum 33.8123415046492, 0 empty bins, and 0 non-finite values), 'dm2_379269.02_sin2theta_square_0.02': Hist(40 bins in [0.09999999999999998,1.283], with sum 33.8123415046492, 0 empty bins, and 0 non-finite values), 'dm2_1623776.74_sin2theta_square_0.02': Hist(40 bins in [0.09999999999999998,1.283], with sum 33.8123415046492, 0 empty bins, and 0 non-finite values), 'dm2_6951927.96_sin2theta_square_0.02': Hist(40 bins in [0.09999999999999998,1.283], with sum 33.8123415046492, 0 empty bins, and 0 non-finite values), 'dm2_29763514.42_sin2theta_square_0.02': Hist(40 bins in [0.09999999999999998,1.283], with sum 33.8123415046492, 0 empty bins, and 0 non-finite values), 'dm2_127427498.57_sin2theta_square_0.02': Hist(40 bins in [0.09999999999999998,1.283], with sum 33.812341504649204, 0 empty bins, and 0 non-finite values), 'dm2_545559478.12_sin2theta_square_0.02': Hist(40 bins in [0.09999999999999998,1.283], with sum 33.8123415046492, 0 empty bins, and 0 non-finite values), 'dm2_2335721469.09_sin2theta_square_0.02': Hist(40 bins in [0.09999999999999998,1.283], with sum 33.812341504649204, 0 empty bins, and 0 non-finite values), 'dm2_10000000000.00_sin2theta_square_0.02': Hist(40 bins in [0.09999999999999998,1.283], with sum 33.8123415046492, 0 empty bins, and 0 non-finite values), 'dm2_0.01_sin2theta_square_0.03': Hist(40 bins in [0.09999999999999998,1.283], with sum 33.812341504649204, 0 empty bins, and 0 non-finite values), 'dm2_0.04_sin2theta_square_0.03': Hist(40 bins in [0.09999999999999998,1.283], with sum 33.8123415046492, 0 empty bins, and 0 non-finite values), 'dm2_0.18_sin2theta_square_0.03': Hist(40 bins in [0.09999999999999998,1.283], with sum 33.8123415046492, 0 empty bins, and 0 non-finite values), 'dm2_0.78_sin2theta_square_0.03': Hist(40 bins in [0.09999999999999998,1.283], with sum 33.8123415046492, 0 empty bins, and 0 non-finite values), 'dm2_3.36_sin2theta_square_0.03': Hist(40 bins in [0.09999999999999998,1.283], with sum 33.8123415046492, 0 empty bins, and 0 non-finite values), 'dm2_14.38_sin2theta_square_0.03': Hist(40 bins in [0.09999999999999998,1.283], with sum 33.8123415046492, 0 empty bins, and 0 non-finite values), 'dm2_61.58_sin2theta_square_0.03': Hist(40 bins in [0.09999999999999998,1.283], with sum 33.8123415046492, 0 empty bins, and 0 non-finite values), 'dm2_263.67_sin2theta_square_0.03': Hist(40 bins in [0.09999999999999998,1.283], with sum 33.812341504649204, 0 empty bins, and 0 non-finite values), 'dm2_1128.84_sin2theta_square_0.03': Hist(40 bins in [0.09999999999999998,1.283], with sum 33.8123415046492, 0 empty bins, and 0 non-finite values), 'dm2_4832.93_sin2theta_square_0.03': Hist(40 bins in [0.09999999999999998,1.283], with sum 33.8123415046492, 0 empty bins, and 0 non-finite values), 'dm2_20691.38_sin2theta_square_0.03': Hist(40 bins in [0.09999999999999998,1.283], with sum 33.812341504649204, 0 empty bins, and 0 non-finite values), 'dm2_88586.68_sin2theta_square_0.03': Hist(40 bins in [0.09999999999999998,1.283], with sum 33.8123415046492, 0 empty bins, and 0 non-finite values), 'dm2_379269.02_sin2theta_square_0.03': Hist(40 bins in [0.09999999999999998,1.283], with sum 33.8123415046492, 0 empty bins, and 0 non-finite values), 'dm2_1623776.74_sin2theta_square_0.03': Hist(40 bins in [0.09999999999999998,1.283], with sum 33.8123415046492, 0 empty bins, and 0 non-finite values), 'dm2_6951927.96_sin2theta_square_0.03': Hist(40 bins in [0.09999999999999998,1.283], with sum 33.8123415046492, 0 empty bins, and 0 non-finite values), 'dm2_29763514.42_sin2theta_square_0.03': Hist(40 bins in [0.09999999999999998,1.283], with sum 33.8123415046492, 0 empty bins, and 0 non-finite values), 'dm2_127427498.57_sin2theta_square_0.03': Hist(40 bins in [0.09999999999999998,1.283], with sum 33.812341504649204, 0 empty bins, and 0 non-finite values), 'dm2_545559478.12_sin2theta_square_0.03': Hist(40 bins in [0.09999999999999998,1.283], with sum 33.8123415046492, 0 empty bins, and 0 non-finite values), 'dm2_2335721469.09_sin2theta_square_0.03': Hist(40 bins in [0.09999999999999998,1.283], with sum 33.8123415046492, 0 empty bins, and 0 non-finite values), 'dm2_10000000000.00_sin2theta_square_0.03': Hist(40 bins in [0.09999999999999998,1.283], with sum 33.8123415046492, 0 empty bins, and 0 non-finite values), 'dm2_0.01_sin2theta_square_0.04': Hist(40 bins in [0.09999999999999998,1.283], with sum 33.8123415046492, 0 empty bins, and 0 non-finite values), 'dm2_0.04_sin2theta_square_0.04': Hist(40 bins in [0.09999999999999998,1.283], with sum 33.8123415046492, 0 empty bins, and 0 non-finite values), 'dm2_0.18_sin2theta_square_0.04': Hist(40 bins in [0.09999999999999998,1.283], with sum 33.8123415046492, 0 empty bins, and 0 non-finite values), 'dm2_0.78_sin2theta_square_0.04': Hist(40 bins in [0.09999999999999998,1.283], with sum 33.8123415046492, 0 empty bins, and 0 non-finite values), 'dm2_3.36_sin2theta_square_0.04': Hist(40 bins in [0.09999999999999998,1.283], with sum 33.8123415046492, 0 empty bins, and 0 non-finite values), 'dm2_14.38_sin2theta_square_0.04': Hist(40 bins in [0.09999999999999998,1.283], with sum 33.8123415046492, 0 empty bins, and 0 non-finite values), 'dm2_61.58_sin2theta_square_0.04': Hist(40 bins in [0.09999999999999998,1.283], with sum 33.8123415046492, 0 empty bins, and 0 non-finite values), 'dm2_263.67_sin2theta_square_0.04': Hist(40 bins in [0.09999999999999998,1.283], with sum 33.8123415046492, 0 empty bins, and 0 non-finite values), 'dm2_1128.84_sin2theta_square_0.04': Hist(40 bins in [0.09999999999999998,1.283], with sum 33.8123415046492, 0 empty bins, and 0 non-finite values), 'dm2_4832.93_sin2theta_square_0.04': Hist(40 bins in [0.09999999999999998,1.283], with sum 33.812341504649204, 0 empty bins, and 0 non-finite values), 'dm2_20691.38_sin2theta_square_0.04': Hist(40 bins in [0.09999999999999998,1.283], with sum 33.812341504649204, 0 empty bins, and 0 non-finite values), 'dm2_88586.68_sin2theta_square_0.04': Hist(40 bins in [0.09999999999999998,1.283], with sum 33.8123415046492, 0 empty bins, and 0 non-finite values), 'dm2_379269.02_sin2theta_square_0.04': Hist(40 bins in [0.09999999999999998,1.283], with sum 33.8123415046492, 0 empty bins, and 0 non-finite values), 'dm2_1623776.74_sin2theta_square_0.04': Hist(40 bins in [0.09999999999999998,1.283], with sum 33.8123415046492, 0 empty bins, and 0 non-finite values), 'dm2_6951927.96_sin2theta_square_0.04': Hist(40 bins in [0.09999999999999998,1.283], with sum 33.8123415046492, 0 empty bins, and 0 non-finite values), 'dm2_29763514.42_sin2theta_square_0.04': Hist(40 bins in [0.09999999999999998,1.283], with sum 33.812341504649204, 0 empty bins, and 0 non-finite values), 'dm2_127427498.57_sin2theta_square_0.04': Hist(40 bins in [0.09999999999999998,1.283], with sum 33.8123415046492, 0 empty bins, and 0 non-finite values), 'dm2_545559478.12_sin2theta_square_0.04': Hist(40 bins in [0.09999999999999998,1.283], with sum 33.8123415046492, 0 empty bins, and 0 non-finite values), 'dm2_2335721469.09_sin2theta_square_0.04': Hist(40 bins in [0.09999999999999998,1.283], with sum 33.8123415046492, 0 empty bins, and 0 non-finite values), 'dm2_10000000000.00_sin2theta_square_0.04': Hist(40 bins in [0.09999999999999998,1.283], with sum 33.8123415046492, 0 empty bins, and 0 non-finite values), 'dm2_0.01_sin2theta_square_0.06': Hist(40 bins in [0.09999999999999998,1.283], with sum 33.8123415046492, 0 empty bins, and 0 non-finite values), 'dm2_0.04_sin2theta_square_0.06': Hist(40 bins in [0.09999999999999998,1.283], with sum 33.8123415046492, 0 empty bins, and 0 non-finite values), 'dm2_0.18_sin2theta_square_0.06': Hist(40 bins in [0.09999999999999998,1.283], with sum 33.8123415046492, 0 empty bins, and 0 non-finite values), 'dm2_0.78_sin2theta_square_0.06': Hist(40 bins in [0.09999999999999998,1.283], with sum 33.8123415046492, 0 empty bins, and 0 non-finite values), 'dm2_3.36_sin2theta_square_0.06': Hist(40 bins in [0.09999999999999998,1.283], with sum 33.8123415046492, 0 empty bins, and 0 non-finite values), 'dm2_14.38_sin2theta_square_0.06': Hist(40 bins in [0.09999999999999998,1.283], with sum 33.8123415046492, 0 empty bins, and 0 non-finite values), 'dm2_61.58_sin2theta_square_0.06': Hist(40 bins in [0.09999999999999998,1.283], with sum 33.8123415046492, 0 empty bins, and 0 non-finite values), 'dm2_263.67_sin2theta_square_0.06': Hist(40 bins in [0.09999999999999998,1.283], with sum 33.8123415046492, 0 empty bins, and 0 non-finite values), 'dm2_1128.84_sin2theta_square_0.06': Hist(40 bins in [0.09999999999999998,1.283], with sum 33.8123415046492, 0 empty bins, and 0 non-finite values), 'dm2_4832.93_sin2theta_square_0.06': Hist(40 bins in [0.09999999999999998,1.283], with sum 33.8123415046492, 0 empty bins, and 0 non-finite values), 'dm2_20691.38_sin2theta_square_0.06': Hist(40 bins in [0.09999999999999998,1.283], with sum 33.8123415046492, 0 empty bins, and 0 non-finite values), 'dm2_88586.68_sin2theta_square_0.06': Hist(40 bins in [0.09999999999999998,1.283], with sum 33.8123415046492, 0 empty bins, and 0 non-finite values), 'dm2_379269.02_sin2theta_square_0.06': Hist(40 bins in [0.09999999999999998,1.283], with sum 33.8123415046492, 0 empty bins, and 0 non-finite values), 'dm2_1623776.74_sin2theta_square_0.06': Hist(40 bins in [0.09999999999999998,1.283], with sum 33.8123415046492, 0 empty bins, and 0 non-finite values), 'dm2_6951927.96_sin2theta_square_0.06': Hist(40 bins in [0.09999999999999998,1.283], with sum 33.8123415046492, 0 empty bins, and 0 non-finite values), 'dm2_29763514.42_sin2theta_square_0.06': Hist(40 bins in [0.09999999999999998,1.283], with sum 33.8123415046492, 0 empty bins, and 0 non-finite values), 'dm2_127427498.57_sin2theta_square_0.06': Hist(40 bins in [0.09999999999999998,1.283], with sum 33.8123415046492, 0 empty bins, and 0 non-finite values), 'dm2_545559478.12_sin2theta_square_0.06': Hist(40 bins in [0.09999999999999998,1.283], with sum 33.8123415046492, 0 empty bins, and 0 non-finite values), 'dm2_2335721469.09_sin2theta_square_0.06': Hist(40 bins in [0.09999999999999998,1.283], with sum 33.8123415046492, 0 empty bins, and 0 non-finite values), 'dm2_10000000000.00_sin2theta_square_0.06': Hist(40 bins in [0.09999999999999998,1.283], with sum 33.8123415046492, 0 empty bins, and 0 non-finite values), 'dm2_0.01_sin2theta_square_0.09': Hist(40 bins in [0.09999999999999998,1.283], with sum 33.8123415046492, 0 empty bins, and 0 non-finite values), 'dm2_0.04_sin2theta_square_0.09': Hist(40 bins in [0.09999999999999998,1.283], with sum 33.8123415046492, 0 empty bins, and 0 non-finite values), 'dm2_0.18_sin2theta_square_0.09': Hist(40 bins in [0.09999999999999998,1.283], with sum 33.812341504649204, 0 empty bins, and 0 non-finite values), 'dm2_0.78_sin2theta_square_0.09': Hist(40 bins in [0.09999999999999998,1.283], with sum 33.8123415046492, 0 empty bins, and 0 non-finite values), 'dm2_3.36_sin2theta_square_0.09': Hist(40 bins in [0.09999999999999998,1.283], with sum 33.8123415046492, 0 empty bins, and 0 non-finite values), 'dm2_14.38_sin2theta_square_0.09': Hist(40 bins in [0.09999999999999998,1.283], with sum 33.812341504649204, 0 empty bins, and 0 non-finite values), 'dm2_61.58_sin2theta_square_0.09': Hist(40 bins in [0.09999999999999998,1.283], with sum 33.8123415046492, 0 empty bins, and 0 non-finite values), 'dm2_263.67_sin2theta_square_0.09': Hist(40 bins in [0.09999999999999998,1.283], with sum 33.81234150464919, 0 empty bins, and 0 non-finite values), 'dm2_1128.84_sin2theta_square_0.09': Hist(40 bins in [0.09999999999999998,1.283], with sum 33.8123415046492, 0 empty bins, and 0 non-finite values), 'dm2_4832.93_sin2theta_square_0.09': Hist(40 bins in [0.09999999999999998,1.283], with sum 33.8123415046492, 0 empty bins, and 0 non-finite values), 'dm2_20691.38_sin2theta_square_0.09': Hist(40 bins in [0.09999999999999998,1.283], with sum 33.8123415046492, 0 empty bins, and 0 non-finite values), 'dm2_88586.68_sin2theta_square_0.09': Hist(40 bins in [0.09999999999999998,1.283], with sum 33.8123415046492, 0 empty bins, and 0 non-finite values), 'dm2_379269.02_sin2theta_square_0.09': Hist(40 bins in [0.09999999999999998,1.283], with sum 33.812341504649204, 0 empty bins, and 0 non-finite values), 'dm2_1623776.74_sin2theta_square_0.09': Hist(40 bins in [0.09999999999999998,1.283], with sum 33.8123415046492, 0 empty bins, and 0 non-finite values), 'dm2_6951927.96_sin2theta_square_0.09': Hist(40 bins in [0.09999999999999998,1.283], with sum 33.8123415046492, 0 empty bins, and 0 non-finite values), 'dm2_29763514.42_sin2theta_square_0.09': Hist(40 bins in [0.09999999999999998,1.283], with sum 33.8123415046492, 0 empty bins, and 0 non-finite values), 'dm2_127427498.57_sin2theta_square_0.09': Hist(40 bins in [0.09999999999999998,1.283], with sum 33.8123415046492, 0 empty bins, and 0 non-finite values), 'dm2_545559478.12_sin2theta_square_0.09': Hist(40 bins in [0.09999999999999998,1.283], with sum 33.8123415046492, 0 empty bins, and 0 non-finite values), 'dm2_2335721469.09_sin2theta_square_0.09': Hist(40 bins in [0.09999999999999998,1.283], with sum 33.8123415046492, 0 empty bins, and 0 non-finite values), 'dm2_10000000000.00_sin2theta_square_0.09': Hist(40 bins in [0.09999999999999998,1.283], with sum 33.8123415046492, 0 empty bins, and 0 non-finite values), 'dm2_0.01_sin2theta_square_0.13': Hist(40 bins in [0.09999999999999998,1.283], with sum 33.812341504649204, 0 empty bins, and 0 non-finite values), 'dm2_0.04_sin2theta_square_0.13': Hist(40 bins in [0.09999999999999998,1.283], with sum 33.8123415046492, 0 empty bins, and 0 non-finite values), 'dm2_0.18_sin2theta_square_0.13': Hist(40 bins in [0.09999999999999998,1.283], with sum 33.8123415046492, 0 empty bins, and 0 non-finite values), 'dm2_0.78_sin2theta_square_0.13': Hist(40 bins in [0.09999999999999998,1.283], with sum 33.8123415046492, 0 empty bins, and 0 non-finite values), 'dm2_3.36_sin2theta_square_0.13': Hist(40 bins in [0.09999999999999998,1.283], with sum 33.8123415046492, 0 empty bins, and 0 non-finite values), 'dm2_14.38_sin2theta_square_0.13': Hist(40 bins in [0.09999999999999998,1.283], with sum 33.812341504649204, 0 empty bins, and 0 non-finite values), 'dm2_61.58_sin2theta_square_0.13': Hist(40 bins in [0.09999999999999998,1.283], with sum 33.8123415046492, 0 empty bins, and 0 non-finite values), 'dm2_263.67_sin2theta_square_0.13': Hist(40 bins in [0.09999999999999998,1.283], with sum 33.8123415046492, 0 empty bins, and 0 non-finite values), 'dm2_1128.84_sin2theta_square_0.13': Hist(40 bins in [0.09999999999999998,1.283], with sum 33.8123415046492, 0 empty bins, and 0 non-finite values), 'dm2_4832.93_sin2theta_square_0.13': Hist(40 bins in [0.09999999999999998,1.283], with sum 33.8123415046492, 0 empty bins, and 0 non-finite values), 'dm2_20691.38_sin2theta_square_0.13': Hist(40 bins in [0.09999999999999998,1.283], with sum 33.8123415046492, 0 empty bins, and 0 non-finite values), 'dm2_88586.68_sin2theta_square_0.13': Hist(40 bins in [0.09999999999999998,1.283], with sum 33.8123415046492, 0 empty bins, and 0 non-finite values), 'dm2_379269.02_sin2theta_square_0.13': Hist(40 bins in [0.09999999999999998,1.283], with sum 33.8123415046492, 0 empty bins, and 0 non-finite values), 'dm2_1623776.74_sin2theta_square_0.13': Hist(40 bins in [0.09999999999999998,1.283], with sum 33.8123415046492, 0 empty bins, and 0 non-finite values), 'dm2_6951927.96_sin2theta_square_0.13': Hist(40 bins in [0.09999999999999998,1.283], with sum 33.81234150464919, 0 empty bins, and 0 non-finite values), 'dm2_29763514.42_sin2theta_square_0.13': Hist(40 bins in [0.09999999999999998,1.283], with sum 33.8123415046492, 0 empty bins, and 0 non-finite values), 'dm2_127427498.57_sin2theta_square_0.13': Hist(40 bins in [0.09999999999999998,1.283], with sum 33.812341504649204, 0 empty bins, and 0 non-finite values), 'dm2_545559478.12_sin2theta_square_0.13': Hist(40 bins in [0.09999999999999998,1.283], with sum 33.8123415046492, 0 empty bins, and 0 non-finite values), 'dm2_2335721469.09_sin2theta_square_0.13': Hist(40 bins in [0.09999999999999998,1.283], with sum 33.8123415046492, 0 empty bins, and 0 non-finite values), 'dm2_10000000000.00_sin2theta_square_0.13': Hist(40 bins in [0.09999999999999998,1.283], with sum 33.8123415046492, 0 empty bins, and 0 non-finite values), 'dm2_0.01_sin2theta_square_0.18': Hist(40 bins in [0.09999999999999998,1.283], with sum 33.8123415046492, 0 empty bins, and 0 non-finite values), 'dm2_0.04_sin2theta_square_0.18': Hist(40 bins in [0.09999999999999998,1.283], with sum 33.8123415046492, 0 empty bins, and 0 non-finite values), 'dm2_0.18_sin2theta_square_0.18': Hist(40 bins in [0.09999999999999998,1.283], with sum 33.8123415046492, 0 empty bins, and 0 non-finite values), 'dm2_0.78_sin2theta_square_0.18': Hist(40 bins in [0.09999999999999998,1.283], with sum 33.8123415046492, 0 empty bins, and 0 non-finite values), 'dm2_3.36_sin2theta_square_0.18': Hist(40 bins in [0.09999999999999998,1.283], with sum 33.8123415046492, 0 empty bins, and 0 non-finite values), 'dm2_14.38_sin2theta_square_0.18': Hist(40 bins in [0.09999999999999998,1.283], with sum 33.8123415046492, 0 empty bins, and 0 non-finite values), 'dm2_61.58_sin2theta_square_0.18': Hist(40 bins in [0.09999999999999998,1.283], with sum 33.812341504649204, 0 empty bins, and 0 non-finite values), 'dm2_263.67_sin2theta_square_0.18': Hist(40 bins in [0.09999999999999998,1.283], with sum 33.8123415046492, 0 empty bins, and 0 non-finite values), 'dm2_1128.84_sin2theta_square_0.18': Hist(40 bins in [0.09999999999999998,1.283], with sum 33.8123415046492, 0 empty bins, and 0 non-finite values), 'dm2_4832.93_sin2theta_square_0.18': Hist(40 bins in [0.09999999999999998,1.283], with sum 33.812341504649204, 0 empty bins, and 0 non-finite values), 'dm2_20691.38_sin2theta_square_0.18': Hist(40 bins in [0.09999999999999998,1.283], with sum 33.8123415046492, 0 empty bins, and 0 non-finite values), 'dm2_88586.68_sin2theta_square_0.18': Hist(40 bins in [0.09999999999999998,1.283], with sum 33.812341504649204, 0 empty bins, and 0 non-finite values), 'dm2_379269.02_sin2theta_square_0.18': Hist(40 bins in [0.09999999999999998,1.283], with sum 33.8123415046492, 0 empty bins, and 0 non-finite values), 'dm2_1623776.74_sin2theta_square_0.18': Hist(40 bins in [0.09999999999999998,1.283], with sum 33.8123415046492, 0 empty bins, and 0 non-finite values), 'dm2_6951927.96_sin2theta_square_0.18': Hist(40 bins in [0.09999999999999998,1.283], with sum 33.8123415046492, 0 empty bins, and 0 non-finite values), 'dm2_29763514.42_sin2theta_square_0.18': Hist(40 bins in [0.09999999999999998,1.283], with sum 33.8123415046492, 0 empty bins, and 0 non-finite values), 'dm2_127427498.57_sin2theta_square_0.18': Hist(40 bins in [0.09999999999999998,1.283], with sum 33.8123415046492, 0 empty bins, and 0 non-finite values), 'dm2_545559478.12_sin2theta_square_0.18': Hist(40 bins in [0.09999999999999998,1.283], with sum 33.8123415046492, 0 empty bins, and 0 non-finite values), 'dm2_2335721469.09_sin2theta_square_0.18': Hist(40 bins in [0.09999999999999998,1.283], with sum 33.8123415046492, 0 empty bins, and 0 non-finite values), 'dm2_10000000000.00_sin2theta_square_0.18': Hist(40 bins in [0.09999999999999998,1.283], with sum 33.8123415046492, 0 empty bins, and 0 non-finite values), 'dm2_0.01_sin2theta_square_0.26': Hist(40 bins in [0.09999999999999998,1.283], with sum 33.8123415046492, 0 empty bins, and 0 non-finite values), 'dm2_0.04_sin2theta_square_0.26': Hist(40 bins in [0.09999999999999998,1.283], with sum 33.8123415046492, 0 empty bins, and 0 non-finite values), 'dm2_0.18_sin2theta_square_0.26': Hist(40 bins in [0.09999999999999998,1.283], with sum 33.8123415046492, 0 empty bins, and 0 non-finite values), 'dm2_0.78_sin2theta_square_0.26': Hist(40 bins in [0.09999999999999998,1.283], with sum 33.8123415046492, 0 empty bins, and 0 non-finite values), 'dm2_3.36_sin2theta_square_0.26': Hist(40 bins in [0.09999999999999998,1.283], with sum 33.8123415046492, 0 empty bins, and 0 non-finite values), 'dm2_14.38_sin2theta_square_0.26': Hist(40 bins in [0.09999999999999998,1.283], with sum 33.812341504649204, 0 empty bins, and 0 non-finite values), 'dm2_61.58_sin2theta_square_0.26': Hist(40 bins in [0.09999999999999998,1.283], with sum 33.8123415046492, 0 empty bins, and 0 non-finite values), 'dm2_263.67_sin2theta_square_0.26': Hist(40 bins in [0.09999999999999998,1.283], with sum 33.8123415046492, 0 empty bins, and 0 non-finite values), 'dm2_1128.84_sin2theta_square_0.26': Hist(40 bins in [0.09999999999999998,1.283], with sum 33.8123415046492, 0 empty bins, and 0 non-finite values), 'dm2_4832.93_sin2theta_square_0.26': Hist(40 bins in [0.09999999999999998,1.283], with sum 33.81234150464921, 0 empty bins, and 0 non-finite values), 'dm2_20691.38_sin2theta_square_0.26': Hist(40 bins in [0.09999999999999998,1.283], with sum 33.8123415046492, 0 empty bins, and 0 non-finite values), 'dm2_88586.68_sin2theta_square_0.26': Hist(40 bins in [0.09999999999999998,1.283], with sum 33.8123415046492, 0 empty bins, and 0 non-finite values), 'dm2_379269.02_sin2theta_square_0.26': Hist(40 bins in [0.09999999999999998,1.283], with sum 33.8123415046492, 0 empty bins, and 0 non-finite values), 'dm2_1623776.74_sin2theta_square_0.26': Hist(40 bins in [0.09999999999999998,1.283], with sum 33.8123415046492, 0 empty bins, and 0 non-finite values), 'dm2_6951927.96_sin2theta_square_0.26': Hist(40 bins in [0.09999999999999998,1.283], with sum 33.8123415046492, 0 empty bins, and 0 non-finite values), 'dm2_29763514.42_sin2theta_square_0.26': Hist(40 bins in [0.09999999999999998,1.283], with sum 33.8123415046492, 0 empty bins, and 0 non-finite values), 'dm2_127427498.57_sin2theta_square_0.26': Hist(40 bins in [0.09999999999999998,1.283], with sum 33.812341504649204, 0 empty bins, and 0 non-finite values), 'dm2_545559478.12_sin2theta_square_0.26': Hist(40 bins in [0.09999999999999998,1.283], with sum 33.8123415046492, 0 empty bins, and 0 non-finite values), 'dm2_2335721469.09_sin2theta_square_0.26': Hist(40 bins in [0.09999999999999998,1.283], with sum 33.8123415046492, 0 empty bins, and 0 non-finite values), 'dm2_10000000000.00_sin2theta_square_0.26': Hist(40 bins in [0.09999999999999998,1.283], with sum 33.81234150464919, 0 empty bins, and 0 non-finite values), 'dm2_0.01_sin2theta_square_0.38': Hist(40 bins in [0.09999999999999998,1.283], with sum 33.8123415046492, 0 empty bins, and 0 non-finite values), 'dm2_0.04_sin2theta_square_0.38': Hist(40 bins in [0.09999999999999998,1.283], with sum 33.8123415046492, 0 empty bins, and 0 non-finite values), 'dm2_0.18_sin2theta_square_0.38': Hist(40 bins in [0.09999999999999998,1.283], with sum 33.8123415046492, 0 empty bins, and 0 non-finite values), 'dm2_0.78_sin2theta_square_0.38': Hist(40 bins in [0.09999999999999998,1.283], with sum 33.8123415046492, 0 empty bins, and 0 non-finite values), 'dm2_3.36_sin2theta_square_0.38': Hist(40 bins in [0.09999999999999998,1.283], with sum 33.8123415046492, 0 empty bins, and 0 non-finite values), 'dm2_14.38_sin2theta_square_0.38': Hist(40 bins in [0.09999999999999998,1.283], with sum 33.8123415046492, 0 empty bins, and 0 non-finite values), 'dm2_61.58_sin2theta_square_0.38': Hist(40 bins in [0.09999999999999998,1.283], with sum 33.8123415046492, 0 empty bins, and 0 non-finite values), 'dm2_263.67_sin2theta_square_0.38': Hist(40 bins in [0.09999999999999998,1.283], with sum 33.8123415046492, 0 empty bins, and 0 non-finite values), 'dm2_1128.84_sin2theta_square_0.38': Hist(40 bins in [0.09999999999999998,1.283], with sum 33.8123415046492, 0 empty bins, and 0 non-finite values), 'dm2_4832.93_sin2theta_square_0.38': Hist(40 bins in [0.09999999999999998,1.283], with sum 33.8123415046492, 0 empty bins, and 0 non-finite values), 'dm2_20691.38_sin2theta_square_0.38': Hist(40 bins in [0.09999999999999998,1.283], with sum 33.8123415046492, 0 empty bins, and 0 non-finite values), 'dm2_88586.68_sin2theta_square_0.38': Hist(40 bins in [0.09999999999999998,1.283], with sum 33.8123415046492, 0 empty bins, and 0 non-finite values), 'dm2_379269.02_sin2theta_square_0.38': Hist(40 bins in [0.09999999999999998,1.283], with sum 33.8123415046492, 0 empty bins, and 0 non-finite values), 'dm2_1623776.74_sin2theta_square_0.38': Hist(40 bins in [0.09999999999999998,1.283], with sum 33.8123415046492, 0 empty bins, and 0 non-finite values), 'dm2_6951927.96_sin2theta_square_0.38': Hist(40 bins in [0.09999999999999998,1.283], with sum 33.8123415046492, 0 empty bins, and 0 non-finite values), 'dm2_29763514.42_sin2theta_square_0.38': Hist(40 bins in [0.09999999999999998,1.283], with sum 33.8123415046492, 0 empty bins, and 0 non-finite values), 'dm2_127427498.57_sin2theta_square_0.38': Hist(40 bins in [0.09999999999999998,1.283], with sum 33.8123415046492, 0 empty bins, and 0 non-finite values), 'dm2_545559478.12_sin2theta_square_0.38': Hist(40 bins in [0.09999999999999998,1.283], with sum 33.8123415046492, 0 empty bins, and 0 non-finite values), 'dm2_2335721469.09_sin2theta_square_0.38': Hist(40 bins in [0.09999999999999998,1.283], with sum 33.812341504649204, 0 empty bins, and 0 non-finite values), 'dm2_10000000000.00_sin2theta_square_0.38': Hist(40 bins in [0.09999999999999998,1.283], with sum 33.8123415046492, 0 empty bins, and 0 non-finite values), 'dm2_0.01_sin2theta_square_0.55': Hist(40 bins in [0.09999999999999998,1.283], with sum 33.8123415046492, 0 empty bins, and 0 non-finite values), 'dm2_0.04_sin2theta_square_0.55': Hist(40 bins in [0.09999999999999998,1.283], with sum 33.8123415046492, 0 empty bins, and 0 non-finite values), 'dm2_0.18_sin2theta_square_0.55': Hist(40 bins in [0.09999999999999998,1.283], with sum 33.8123415046492, 0 empty bins, and 0 non-finite values), 'dm2_0.78_sin2theta_square_0.55': Hist(40 bins in [0.09999999999999998,1.283], with sum 33.812341504649204, 0 empty bins, and 0 non-finite values), 'dm2_3.36_sin2theta_square_0.55': Hist(40 bins in [0.09999999999999998,1.283], with sum 33.812341504649204, 0 empty bins, and 0 non-finite values), 'dm2_14.38_sin2theta_square_0.55': Hist(40 bins in [0.09999999999999998,1.283], with sum 33.812341504649204, 0 empty bins, and 0 non-finite values), 'dm2_61.58_sin2theta_square_0.55': Hist(40 bins in [0.09999999999999998,1.283], with sum 33.8123415046492, 0 empty bins, and 0 non-finite values), 'dm2_263.67_sin2theta_square_0.55': Hist(40 bins in [0.09999999999999998,1.283], with sum 33.8123415046492, 0 empty bins, and 0 non-finite values), 'dm2_1128.84_sin2theta_square_0.55': Hist(40 bins in [0.09999999999999998,1.283], with sum 33.812341504649204, 0 empty bins, and 0 non-finite values), 'dm2_4832.93_sin2theta_square_0.55': Hist(40 bins in [0.09999999999999998,1.283], with sum 33.8123415046492, 0 empty bins, and 0 non-finite values), 'dm2_20691.38_sin2theta_square_0.55': Hist(40 bins in [0.09999999999999998,1.283], with sum 33.812341504649204, 0 empty bins, and 0 non-finite values), 'dm2_88586.68_sin2theta_square_0.55': Hist(40 bins in [0.09999999999999998,1.283], with sum 33.8123415046492, 0 empty bins, and 0 non-finite values), 'dm2_379269.02_sin2theta_square_0.55': Hist(40 bins in [0.09999999999999998,1.283], with sum 33.8123415046492, 0 empty bins, and 0 non-finite values), 'dm2_1623776.74_sin2theta_square_0.55': Hist(40 bins in [0.09999999999999998,1.283], with sum 33.8123415046492, 0 empty bins, and 0 non-finite values), 'dm2_6951927.96_sin2theta_square_0.55': Hist(40 bins in [0.09999999999999998,1.283], with sum 33.8123415046492, 0 empty bins, and 0 non-finite values), 'dm2_29763514.42_sin2theta_square_0.55': Hist(40 bins in [0.09999999999999998,1.283], with sum 33.812341504649204, 0 empty bins, and 0 non-finite values), 'dm2_127427498.57_sin2theta_square_0.55': Hist(40 bins in [0.09999999999999998,1.283], with sum 33.8123415046492, 0 empty bins, and 0 non-finite values), 'dm2_545559478.12_sin2theta_square_0.55': Hist(40 bins in [0.09999999999999998,1.283], with sum 33.812341504649204, 0 empty bins, and 0 non-finite values), 'dm2_2335721469.09_sin2theta_square_0.55': Hist(40 bins in [0.09999999999999998,1.283], with sum 33.812341504649204, 0 empty bins, and 0 non-finite values), 'dm2_10000000000.00_sin2theta_square_0.55': Hist(40 bins in [0.09999999999999998,1.283], with sum 33.8123415046492, 0 empty bins, and 0 non-finite values), 'dm2_0.01_sin2theta_square_0.78': Hist(40 bins in [0.09999999999999998,1.283], with sum 33.8123415046492, 0 empty bins, and 0 non-finite values), 'dm2_0.04_sin2theta_square_0.78': Hist(40 bins in [0.09999999999999998,1.283], with sum 33.8123415046492, 0 empty bins, and 0 non-finite values), 'dm2_0.18_sin2theta_square_0.78': Hist(40 bins in [0.09999999999999998,1.283], with sum 33.8123415046492, 0 empty bins, and 0 non-finite values), 'dm2_0.78_sin2theta_square_0.78': Hist(40 bins in [0.09999999999999998,1.283], with sum 33.812341504649204, 0 empty bins, and 0 non-finite values), 'dm2_3.36_sin2theta_square_0.78': Hist(40 bins in [0.09999999999999998,1.283], with sum 33.8123415046492, 0 empty bins, and 0 non-finite values), 'dm2_14.38_sin2theta_square_0.78': Hist(40 bins in [0.09999999999999998,1.283], with sum 33.81234150464921, 0 empty bins, and 0 non-finite values), 'dm2_61.58_sin2theta_square_0.78': Hist(40 bins in [0.09999999999999998,1.283], with sum 33.8123415046492, 0 empty bins, and 0 non-finite values), 'dm2_263.67_sin2theta_square_0.78': Hist(40 bins in [0.09999999999999998,1.283], with sum 33.8123415046492, 0 empty bins, and 0 non-finite values), 'dm2_1128.84_sin2theta_square_0.78': Hist(40 bins in [0.09999999999999998,1.283], with sum 33.8123415046492, 0 empty bins, and 0 non-finite values), 'dm2_4832.93_sin2theta_square_0.78': Hist(40 bins in [0.09999999999999998,1.283], with sum 33.8123415046492, 0 empty bins, and 0 non-finite values), 'dm2_20691.38_sin2theta_square_0.78': Hist(40 bins in [0.09999999999999998,1.283], with sum 33.8123415046492, 0 empty bins, and 0 non-finite values), 'dm2_88586.68_sin2theta_square_0.78': Hist(40 bins in [0.09999999999999998,1.283], with sum 33.81234150464919, 0 empty bins, and 0 non-finite values), 'dm2_379269.02_sin2theta_square_0.78': Hist(40 bins in [0.09999999999999998,1.283], with sum 33.8123415046492, 0 empty bins, and 0 non-finite values), 'dm2_1623776.74_sin2theta_square_0.78': Hist(40 bins in [0.09999999999999998,1.283], with sum 33.8123415046492, 0 empty bins, and 0 non-finite values), 'dm2_6951927.96_sin2theta_square_0.78': Hist(40 bins in [0.09999999999999998,1.283], with sum 33.8123415046492, 0 empty bins, and 0 non-finite values), 'dm2_29763514.42_sin2theta_square_0.78': Hist(40 bins in [0.09999999999999998,1.283], with sum 33.8123415046492, 0 empty bins, and 0 non-finite values), 'dm2_127427498.57_sin2theta_square_0.78': Hist(40 bins in [0.09999999999999998,1.283], with sum 33.8123415046492, 0 empty bins, and 0 non-finite values), 'dm2_545559478.12_sin2theta_square_0.78': Hist(40 bins in [0.09999999999999998,1.283], with sum 33.8123415046492, 0 empty bins, and 0 non-finite values), 'dm2_2335721469.09_sin2theta_square_0.78': Hist(40 bins in [0.09999999999999998,1.283], with sum 33.8123415046492, 0 empty bins, and 0 non-finite values), 'dm2_10000000000.00_sin2theta_square_0.78': Hist(40 bins in [0.09999999999999998,1.283], with sum 33.8123415046492, 0 empty bins, and 0 non-finite values), 'dm2_0.01_sin2theta_square_1.13': Hist(40 bins in [0.09999999999999998,1.283], with sum 33.8123415046492, 0 empty bins, and 0 non-finite values), 'dm2_0.04_sin2theta_square_1.13': Hist(40 bins in [0.09999999999999998,1.283], with sum 33.81234150464919, 0 empty bins, and 0 non-finite values), 'dm2_0.18_sin2theta_square_1.13': Hist(40 bins in [0.09999999999999998,1.283], with sum 33.812341504649204, 0 empty bins, and 0 non-finite values), 'dm2_0.78_sin2theta_square_1.13': Hist(40 bins in [0.09999999999999998,1.283], with sum 33.8123415046492, 12 empty bins, and 0 non-finite values), 'dm2_3.36_sin2theta_square_1.13': Hist(40 bins in [0.09999999999999998,1.283], with sum 33.8123415046492, 7 empty bins, and 0 non-finite values), 'dm2_14.38_sin2theta_square_1.13': Hist(40 bins in [0.09999999999999998,1.283], with sum 33.81234150464922, 0 empty bins, and 0 non-finite values), 'dm2_61.58_sin2theta_square_1.13': Hist(40 bins in [0.09999999999999998,1.283], with sum 33.812341504649204, 0 empty bins, and 0 non-finite values), 'dm2_263.67_sin2theta_square_1.13': Hist(40 bins in [0.09999999999999998,1.283], with sum 33.81234150464919, 0 empty bins, and 0 non-finite values), 'dm2_1128.84_sin2theta_square_1.13': Hist(40 bins in [0.09999999999999998,1.283], with sum 33.812341504649204, 0 empty bins, and 0 non-finite values), 'dm2_4832.93_sin2theta_square_1.13': Hist(40 bins in [0.09999999999999998,1.283], with sum 33.8123415046492, 0 empty bins, and 0 non-finite values), 'dm2_20691.38_sin2theta_square_1.13': Hist(40 bins in [0.09999999999999998,1.283], with sum 33.812341504649204, 0 empty bins, and 0 non-finite values), 'dm2_88586.68_sin2theta_square_1.13': Hist(40 bins in [0.09999999999999998,1.283], with sum 33.8123415046492, 0 empty bins, and 0 non-finite values), 'dm2_379269.02_sin2theta_square_1.13': Hist(40 bins in [0.09999999999999998,1.283], with sum 33.8123415046492, 0 empty bins, and 0 non-finite values), 'dm2_1623776.74_sin2theta_square_1.13': Hist(40 bins in [0.09999999999999998,1.283], with sum 33.8123415046492, 0 empty bins, and 0 non-finite values), 'dm2_6951927.96_sin2theta_square_1.13': Hist(40 bins in [0.09999999999999998,1.283], with sum 33.8123415046492, 0 empty bins, and 0 non-finite values), 'dm2_29763514.42_sin2theta_square_1.13': Hist(40 bins in [0.09999999999999998,1.283], with sum 33.8123415046492, 0 empty bins, and 0 non-finite values), 'dm2_127427498.57_sin2theta_square_1.13': Hist(40 bins in [0.09999999999999998,1.283], with sum 33.8123415046492, 0 empty bins, and 0 non-finite values), 'dm2_545559478.12_sin2theta_square_1.13': Hist(40 bins in [0.09999999999999998,1.283], with sum 33.8123415046492, 0 empty bins, and 0 non-finite values), 'dm2_2335721469.09_sin2theta_square_1.13': Hist(40 bins in [0.09999999999999998,1.283], with sum 33.8123415046492, 0 empty bins, and 0 non-finite values), 'dm2_10000000000.00_sin2theta_square_1.13': Hist(40 bins in [0.09999999999999998,1.283], with sum 33.8123415046492, 0 empty bins, and 0 non-finite values), 'dm2_0.01_sin2theta_square_1.62': Hist(40 bins in [0.09999999999999998,1.283], with sum 33.8123415046492, 0 empty bins, and 0 non-finite values), 'dm2_0.04_sin2theta_square_1.62': Hist(40 bins in [0.09999999999999998,1.283], with sum 33.8123415046492, 0 empty bins, and 0 non-finite values), 'dm2_0.18_sin2theta_square_1.62': Hist(40 bins in [0.09999999999999998,1.283], with sum 33.812341504649204, 0 empty bins, and 0 non-finite values), 'dm2_0.78_sin2theta_square_1.62': Hist(40 bins in [0.09999999999999998,1.283], with sum 33.8123415046492, 20 empty bins, and 0 non-finite values), 'dm2_3.36_sin2theta_square_1.62': Hist(40 bins in [0.09999999999999998,1.283], with sum 33.812341504649204, 14 empty bins, and 0 non-finite values), 'dm2_14.38_sin2theta_square_1.62': Hist(40 bins in [0.09999999999999998,1.283], with sum 33.81234150464922, 7 empty bins, and 0 non-finite values), 'dm2_61.58_sin2theta_square_1.62': Hist(40 bins in [0.09999999999999998,1.283], with sum 33.8123415046492, 0 empty bins, and 0 non-finite values), 'dm2_263.67_sin2theta_square_1.62': Hist(40 bins in [0.09999999999999998,1.283], with sum 33.8123415046492, 0 empty bins, and 0 non-finite values), 'dm2_1128.84_sin2theta_square_1.62': Hist(40 bins in [0.09999999999999998,1.283], with sum 33.8123415046492, 0 empty bins, and 0 non-finite values), 'dm2_4832.93_sin2theta_square_1.62': Hist(40 bins in [0.09999999999999998,1.283], with sum 33.8123415046492, 0 empty bins, and 0 non-finite values), 'dm2_20691.38_sin2theta_square_1.62': Hist(40 bins in [0.09999999999999998,1.283], with sum 33.8123415046492, 0 empty bins, and 0 non-finite values), 'dm2_88586.68_sin2theta_square_1.62': Hist(40 bins in [0.09999999999999998,1.283], with sum 33.8123415046492, 0 empty bins, and 0 non-finite values), 'dm2_379269.02_sin2theta_square_1.62': Hist(40 bins in [0.09999999999999998,1.283], with sum 33.81234150464919, 0 empty bins, and 0 non-finite values), 'dm2_1623776.74_sin2theta_square_1.62': Hist(40 bins in [0.09999999999999998,1.283], with sum 33.812341504649204, 0 empty bins, and 0 non-finite values), 'dm2_6951927.96_sin2theta_square_1.62': Hist(40 bins in [0.09999999999999998,1.283], with sum 33.812341504649204, 0 empty bins, and 0 non-finite values), 'dm2_29763514.42_sin2theta_square_1.62': Hist(40 bins in [0.09999999999999998,1.283], with sum 33.8123415046492, 0 empty bins, and 0 non-finite values), 'dm2_127427498.57_sin2theta_square_1.62': Hist(40 bins in [0.09999999999999998,1.283], with sum 33.8123415046492, 0 empty bins, and 0 non-finite values), 'dm2_545559478.12_sin2theta_square_1.62': Hist(40 bins in [0.09999999999999998,1.283], with sum 33.8123415046492, 0 empty bins, and 0 non-finite values), 'dm2_2335721469.09_sin2theta_square_1.62': Hist(40 bins in [0.09999999999999998,1.283], with sum 33.8123415046492, 0 empty bins, and 0 non-finite values), 'dm2_10000000000.00_sin2theta_square_1.62': Hist(40 bins in [0.09999999999999998,1.283], with sum 33.8123415046492, 0 empty bins, and 0 non-finite values), 'dm2_0.01_sin2theta_square_2.34': Hist(40 bins in [0.09999999999999998,1.283], with sum 33.8123415046492, 0 empty bins, and 0 non-finite values), 'dm2_0.04_sin2theta_square_2.34': Hist(40 bins in [0.09999999999999998,1.283], with sum 33.8123415046492, 0 empty bins, and 0 non-finite values), 'dm2_0.18_sin2theta_square_2.34': Hist(40 bins in [0.09999999999999998,1.283], with sum 33.8123415046492, 0 empty bins, and 0 non-finite values), 'dm2_0.78_sin2theta_square_2.34': Hist(40 bins in [0.09999999999999998,1.283], with sum 33.8123415046492, 25 empty bins, and 0 non-finite values), 'dm2_3.36_sin2theta_square_2.34': Hist(40 bins in [0.09999999999999998,1.283], with sum 33.812341504649204, 20 empty bins, and 0 non-finite values), 'dm2_14.38_sin2theta_square_2.34': Hist(40 bins in [0.09999999999999998,1.283], with sum 33.81234150464923, 13 empty bins, and 0 non-finite values), 'dm2_61.58_sin2theta_square_2.34': Hist(40 bins in [0.09999999999999998,1.283], with sum 33.8123415046492, 0 empty bins, and 0 non-finite values), 'dm2_263.67_sin2theta_square_2.34': Hist(40 bins in [0.09999999999999998,1.283], with sum 33.8123415046492, 0 empty bins, and 0 non-finite values), 'dm2_1128.84_sin2theta_square_2.34': Hist(40 bins in [0.09999999999999998,1.283], with sum 33.812341504649204, 0 empty bins, and 0 non-finite values), 'dm2_4832.93_sin2theta_square_2.34': Hist(40 bins in [0.09999999999999998,1.283], with sum 33.8123415046492, 0 empty bins, and 0 non-finite values), 'dm2_20691.38_sin2theta_square_2.34': Hist(40 bins in [0.09999999999999998,1.283], with sum 33.8123415046492, 0 empty bins, and 0 non-finite values), 'dm2_88586.68_sin2theta_square_2.34': Hist(40 bins in [0.09999999999999998,1.283], with sum 33.8123415046492, 0 empty bins, and 0 non-finite values), 'dm2_379269.02_sin2theta_square_2.34': Hist(40 bins in [0.09999999999999998,1.283], with sum 33.8123415046492, 0 empty bins, and 0 non-finite values), 'dm2_1623776.74_sin2theta_square_2.34': Hist(40 bins in [0.09999999999999998,1.283], with sum 33.81234150464919, 0 empty bins, and 0 non-finite values), 'dm2_6951927.96_sin2theta_square_2.34': Hist(40 bins in [0.09999999999999998,1.283], with sum 33.8123415046492, 0 empty bins, and 0 non-finite values), 'dm2_29763514.42_sin2theta_square_2.34': Hist(40 bins in [0.09999999999999998,1.283], with sum 33.8123415046492, 0 empty bins, and 0 non-finite values), 'dm2_127427498.57_sin2theta_square_2.34': Hist(40 bins in [0.09999999999999998,1.283], with sum 33.8123415046492, 0 empty bins, and 0 non-finite values), 'dm2_545559478.12_sin2theta_square_2.34': Hist(40 bins in [0.09999999999999998,1.283], with sum 33.8123415046492, 0 empty bins, and 0 non-finite values), 'dm2_2335721469.09_sin2theta_square_2.34': Hist(40 bins in [0.09999999999999998,1.283], with sum 33.8123415046492, 0 empty bins, and 0 non-finite values), 'dm2_10000000000.00_sin2theta_square_2.34': Hist(40 bins in [0.09999999999999998,1.283], with sum 33.8123415046492, 0 empty bins, and 0 non-finite values), 'dm2_0.01_sin2theta_square_3.36': Hist(40 bins in [0.09999999999999998,1.283], with sum 33.8123415046492, 0 empty bins, and 0 non-finite values), 'dm2_0.04_sin2theta_square_3.36': Hist(40 bins in [0.09999999999999998,1.283], with sum 33.8123415046492, 0 empty bins, and 0 non-finite values), 'dm2_0.18_sin2theta_square_3.36': Hist(40 bins in [0.09999999999999998,1.283], with sum 33.8123415046492, 0 empty bins, and 0 non-finite values), 'dm2_0.78_sin2theta_square_3.36': Hist(40 bins in [0.09999999999999998,1.283], with sum 33.8123415046492, 28 empty bins, and 0 non-finite values), 'dm2_3.36_sin2theta_square_3.36': Hist(40 bins in [0.09999999999999998,1.283], with sum 33.8123415046492, 24 empty bins, and 0 non-finite values), 'dm2_14.38_sin2theta_square_3.36': Hist(40 bins in [0.09999999999999998,1.283], with sum 33.81234150464923, 16 empty bins, and 0 non-finite values), 'dm2_61.58_sin2theta_square_3.36': Hist(40 bins in [0.09999999999999998,1.283], with sum 33.8123415046492, 0 empty bins, and 0 non-finite values), 'dm2_263.67_sin2theta_square_3.36': Hist(40 bins in [0.09999999999999998,1.283], with sum 33.8123415046492, 0 empty bins, and 0 non-finite values), 'dm2_1128.84_sin2theta_square_3.36': Hist(40 bins in [0.09999999999999998,1.283], with sum 33.812341504649204, 0 empty bins, and 0 non-finite values), 'dm2_4832.93_sin2theta_square_3.36': Hist(40 bins in [0.09999999999999998,1.283], with sum 33.8123415046492, 0 empty bins, and 0 non-finite values), 'dm2_20691.38_sin2theta_square_3.36': Hist(40 bins in [0.09999999999999998,1.283], with sum 33.8123415046492, 0 empty bins, and 0 non-finite values), 'dm2_88586.68_sin2theta_square_3.36': Hist(40 bins in [0.09999999999999998,1.283], with sum 33.8123415046492, 0 empty bins, and 0 non-finite values), 'dm2_379269.02_sin2theta_square_3.36': Hist(40 bins in [0.09999999999999998,1.283], with sum 33.8123415046492, 0 empty bins, and 0 non-finite values), 'dm2_1623776.74_sin2theta_square_3.36': Hist(40 bins in [0.09999999999999998,1.283], with sum 33.8123415046492, 0 empty bins, and 0 non-finite values), 'dm2_6951927.96_sin2theta_square_3.36': Hist(40 bins in [0.09999999999999998,1.283], with sum 33.8123415046492, 0 empty bins, and 0 non-finite values), 'dm2_29763514.42_sin2theta_square_3.36': Hist(40 bins in [0.09999999999999998,1.283], with sum 33.8123415046492, 0 empty bins, and 0 non-finite values), 'dm2_127427498.57_sin2theta_square_3.36': Hist(40 bins in [0.09999999999999998,1.283], with sum 33.8123415046492, 0 empty bins, and 0 non-finite values), 'dm2_545559478.12_sin2theta_square_3.36': Hist(40 bins in [0.09999999999999998,1.283], with sum 33.8123415046492, 0 empty bins, and 0 non-finite values), 'dm2_2335721469.09_sin2theta_square_3.36': Hist(40 bins in [0.09999999999999998,1.283], with sum 33.81234150464919, 0 empty bins, and 0 non-finite values), 'dm2_10000000000.00_sin2theta_square_3.36': Hist(40 bins in [0.09999999999999998,1.283], with sum 33.812341504649204, 0 empty bins, and 0 non-finite values), 'dm2_0.01_sin2theta_square_4.83': Hist(40 bins in [0.09999999999999998,1.283], with sum 33.8123415046492, 0 empty bins, and 0 non-finite values), 'dm2_0.04_sin2theta_square_4.83': Hist(40 bins in [0.09999999999999998,1.283], with sum 33.8123415046492, 0 empty bins, and 0 non-finite values), 'dm2_0.18_sin2theta_square_4.83': Hist(40 bins in [0.09999999999999998,1.283], with sum 33.8123415046492, 0 empty bins, and 0 non-finite values), 'dm2_0.78_sin2theta_square_4.83': Hist(40 bins in [0.09999999999999998,1.283], with sum 33.8123415046492, 31 empty bins, and 0 non-finite values), 'dm2_3.36_sin2theta_square_4.83': Hist(40 bins in [0.09999999999999998,1.283], with sum 33.81234150464919, 27 empty bins, and 0 non-finite values), 'dm2_14.38_sin2theta_square_4.83': Hist(40 bins in [0.09999999999999998,1.283], with sum 33.81234150464924, 19 empty bins, and 0 non-finite values), 'dm2_61.58_sin2theta_square_4.83': Hist(40 bins in [0.09999999999999998,1.283], with sum 33.8123415046492, 0 empty bins, and 0 non-finite values), 'dm2_263.67_sin2theta_square_4.83': Hist(40 bins in [0.09999999999999998,1.283], with sum 33.8123415046492, 0 empty bins, and 0 non-finite values), 'dm2_1128.84_sin2theta_square_4.83': Hist(40 bins in [0.09999999999999998,1.283], with sum 33.8123415046492, 0 empty bins, and 0 non-finite values), 'dm2_4832.93_sin2theta_square_4.83': Hist(40 bins in [0.09999999999999998,1.283], with sum 33.8123415046492, 0 empty bins, and 0 non-finite values), 'dm2_20691.38_sin2theta_square_4.83': Hist(40 bins in [0.09999999999999998,1.283], with sum 33.8123415046492, 0 empty bins, and 0 non-finite values), 'dm2_88586.68_sin2theta_square_4.83': Hist(40 bins in [0.09999999999999998,1.283], with sum 33.8123415046492, 0 empty bins, and 0 non-finite values), 'dm2_379269.02_sin2theta_square_4.83': Hist(40 bins in [0.09999999999999998,1.283], with sum 33.8123415046492, 0 empty bins, and 0 non-finite values), 'dm2_1623776.74_sin2theta_square_4.83': Hist(40 bins in [0.09999999999999998,1.283], with sum 33.8123415046492, 0 empty bins, and 0 non-finite values), 'dm2_6951927.96_sin2theta_square_4.83': Hist(40 bins in [0.09999999999999998,1.283], with sum 33.8123415046492, 0 empty bins, and 0 non-finite values), 'dm2_29763514.42_sin2theta_square_4.83': Hist(40 bins in [0.09999999999999998,1.283], with sum 33.8123415046492, 0 empty bins, and 0 non-finite values), 'dm2_127427498.57_sin2theta_square_4.83': Hist(40 bins in [0.09999999999999998,1.283], with sum 33.8123415046492, 0 empty bins, and 0 non-finite values), 'dm2_545559478.12_sin2theta_square_4.83': Hist(40 bins in [0.09999999999999998,1.283], with sum 33.8123415046492, 0 empty bins, and 0 non-finite values), 'dm2_2335721469.09_sin2theta_square_4.83': Hist(40 bins in [0.09999999999999998,1.283], with sum 33.8123415046492, 0 empty bins, and 0 non-finite values), 'dm2_10000000000.00_sin2theta_square_4.83': Hist(40 bins in [0.09999999999999998,1.283], with sum 33.8123415046492, 0 empty bins, and 0 non-finite values), 'dm2_0.01_sin2theta_square_6.95': Hist(40 bins in [0.09999999999999998,1.283], with sum 33.8123415046492, 0 empty bins, and 0 non-finite values), 'dm2_0.04_sin2theta_square_6.95': Hist(40 bins in [0.09999999999999998,1.283], with sum 33.8123415046492, 0 empty bins, and 0 non-finite values), 'dm2_0.18_sin2theta_square_6.95': Hist(40 bins in [0.09999999999999998,1.283], with sum 33.812341504649204, 1 empty bins, and 0 non-finite values), 'dm2_0.78_sin2theta_square_6.95': Hist(40 bins in [0.09999999999999998,1.283], with sum 33.8123415046492, 33 empty bins, and 0 non-finite values), 'dm2_3.36_sin2theta_square_6.95': Hist(40 bins in [0.09999999999999998,1.283], with sum 33.81234150464918, 28 empty bins, and 0 non-finite values), 'dm2_14.38_sin2theta_square_6.95': Hist(40 bins in [0.09999999999999998,1.283], with sum 33.81234150464924, 20 empty bins, and 0 non-finite values), 'dm2_61.58_sin2theta_square_6.95': Hist(40 bins in [0.09999999999999998,1.283], with sum 33.812341504649204, 0 empty bins, and 0 non-finite values), 'dm2_263.67_sin2theta_square_6.95': Hist(40 bins in [0.09999999999999998,1.283], with sum 33.8123415046492, 0 empty bins, and 0 non-finite values), 'dm2_1128.84_sin2theta_square_6.95': Hist(40 bins in [0.09999999999999998,1.283], with sum 33.8123415046492, 0 empty bins, and 0 non-finite values), 'dm2_4832.93_sin2theta_square_6.95': Hist(40 bins in [0.09999999999999998,1.283], with sum 33.8123415046492, 0 empty bins, and 0 non-finite values), 'dm2_20691.38_sin2theta_square_6.95': Hist(40 bins in [0.09999999999999998,1.283], with sum 33.8123415046492, 0 empty bins, and 0 non-finite values), 'dm2_88586.68_sin2theta_square_6.95': Hist(40 bins in [0.09999999999999998,1.283], with sum 33.812341504649204, 0 empty bins, and 0 non-finite values), 'dm2_379269.02_sin2theta_square_6.95': Hist(40 bins in [0.09999999999999998,1.283], with sum 33.8123415046492, 0 empty bins, and 0 non-finite values), 'dm2_1623776.74_sin2theta_square_6.95': Hist(40 bins in [0.09999999999999998,1.283], with sum 33.8123415046492, 0 empty bins, and 0 non-finite values), 'dm2_6951927.96_sin2theta_square_6.95': Hist(40 bins in [0.09999999999999998,1.283], with sum 33.8123415046492, 0 empty bins, and 0 non-finite values), 'dm2_29763514.42_sin2theta_square_6.95': Hist(40 bins in [0.09999999999999998,1.283], with sum 33.8123415046492, 0 empty bins, and 0 non-finite values), 'dm2_127427498.57_sin2theta_square_6.95': Hist(40 bins in [0.09999999999999998,1.283], with sum 33.8123415046492, 0 empty bins, and 0 non-finite values), 'dm2_545559478.12_sin2theta_square_6.95': Hist(40 bins in [0.09999999999999998,1.283], with sum 33.8123415046492, 0 empty bins, and 0 non-finite values), 'dm2_2335721469.09_sin2theta_square_6.95': Hist(40 bins in [0.09999999999999998,1.283], with sum 33.812341504649204, 0 empty bins, and 0 non-finite values), 'dm2_10000000000.00_sin2theta_square_6.95': Hist(40 bins in [0.09999999999999998,1.283], with sum 33.8123415046492, 0 empty bins, and 0 non-finite values), 'dm2_0.01_sin2theta_square_10.00': Hist(40 bins in [0.09999999999999998,1.283], with sum 33.8123415046492, 0 empty bins, and 0 non-finite values), 'dm2_0.04_sin2theta_square_10.00': Hist(40 bins in [0.09999999999999998,1.283], with sum 33.8123415046492, 0 empty bins, and 0 non-finite values), 'dm2_0.18_sin2theta_square_10.00': Hist(40 bins in [0.09999999999999998,1.283], with sum 33.8123415046492, 8 empty bins, and 0 non-finite values), 'dm2_0.78_sin2theta_square_10.00': Hist(40 bins in [0.09999999999999998,1.283], with sum 33.8123415046492, 35 empty bins, and 0 non-finite values), 'dm2_3.36_sin2theta_square_10.00': Hist(40 bins in [0.09999999999999998,1.283], with sum 33.812341504649176, 31 empty bins, and 0 non-finite values), 'dm2_14.38_sin2theta_square_10.00': Hist(40 bins in [0.09999999999999998,1.283], with sum 33.81234150464924, 22 empty bins, and 0 non-finite values), 'dm2_61.58_sin2theta_square_10.00': Hist(40 bins in [0.09999999999999998,1.283], with sum 33.8123415046492, 0 empty bins, and 0 non-finite values), 'dm2_263.67_sin2theta_square_10.00': Hist(40 bins in [0.09999999999999998,1.283], with sum 33.8123415046492, 0 empty bins, and 0 non-finite values), 'dm2_1128.84_sin2theta_square_10.00': Hist(40 bins in [0.09999999999999998,1.283], with sum 33.8123415046492, 0 empty bins, and 0 non-finite values), 'dm2_4832.93_sin2theta_square_10.00': Hist(40 bins in [0.09999999999999998,1.283], with sum 33.8123415046492, 0 empty bins, and 0 non-finite values), 'dm2_20691.38_sin2theta_square_10.00': Hist(40 bins in [0.09999999999999998,1.283], with sum 33.8123415046492, 0 empty bins, and 0 non-finite values), 'dm2_88586.68_sin2theta_square_10.00': Hist(40 bins in [0.09999999999999998,1.283], with sum 33.8123415046492, 0 empty bins, and 0 non-finite values), 'dm2_379269.02_sin2theta_square_10.00': Hist(40 bins in [0.09999999999999998,1.283], with sum 33.8123415046492, 0 empty bins, and 0 non-finite values), 'dm2_1623776.74_sin2theta_square_10.00': Hist(40 bins in [0.09999999999999998,1.283], with sum 33.8123415046492, 0 empty bins, and 0 non-finite values), 'dm2_6951927.96_sin2theta_square_10.00': Hist(40 bins in [0.09999999999999998,1.283], with sum 33.8123415046492, 0 empty bins, and 0 non-finite values), 'dm2_29763514.42_sin2theta_square_10.00': Hist(40 bins in [0.09999999999999998,1.283], with sum 33.8123415046492, 0 empty bins, and 0 non-finite values), 'dm2_127427498.57_sin2theta_square_10.00': Hist(40 bins in [0.09999999999999998,1.283], with sum 33.8123415046492, 0 empty bins, and 0 non-finite values), 'dm2_545559478.12_sin2theta_square_10.00': Hist(40 bins in [0.09999999999999998,1.283], with sum 33.8123415046492, 0 empty bins, and 0 non-finite values), 'dm2_2335721469.09_sin2theta_square_10.00': Hist(40 bins in [0.09999999999999998,1.283], with sum 33.8123415046492, 0 empty bins, and 0 non-finite values), 'dm2_10000000000.00_sin2theta_square_10.00': Hist(40 bins in [0.09999999999999998,1.283], with sum 33.8123415046492, 0 empty bins, and 0 non-finite values)}\n"
     ]
    }
   ],
   "source": [
    "dd = {}\n",
    "for name, pdf in zip(names, PDFs):\n",
    "    dd[name] = pdf\n",
    "    \n",
    "print(dd)"
   ]
  },
  {
   "cell_type": "code",
   "execution_count": 13,
   "metadata": {},
   "outputs": [],
   "source": [
    "pdffile = '../PDFs/Enu750keV_dist10cm_Lbinwidth3cm_20dm2_20sin2theta2.p'\n",
    "fit.write_PDFs_intoFile(PDFs, pdffile)"
   ]
  },
  {
   "cell_type": "code",
   "execution_count": 15,
   "metadata": {},
   "outputs": [],
   "source": [
    "hs = fit.load_PDFs_fromFile(pdffile)"
   ]
  },
  {
   "cell_type": "code",
   "execution_count": 18,
   "metadata": {},
   "outputs": [
    {
     "data": {
      "text/plain": [
       "[Hist(40 bins in [0.09999999999999998,1.283], with sum 33.812341504649204, 5 empty bins, and 0 non-finite values),\n",
       " Hist(40 bins in [0.09999999999999998,1.283], with sum 33.8123415046492, 1 empty bins, and 0 non-finite values),\n",
       " Hist(40 bins in [0.09999999999999998,1.283], with sum 33.812341504649225, 0 empty bins, and 0 non-finite values),\n",
       " Hist(40 bins in [0.09999999999999998,1.283], with sum 33.8123415046492, 0 empty bins, and 0 non-finite values),\n",
       " Hist(40 bins in [0.09999999999999998,1.283], with sum 33.8123415046492, 0 empty bins, and 0 non-finite values),\n",
       " Hist(40 bins in [0.09999999999999998,1.283], with sum 33.8123415046492, 0 empty bins, and 0 non-finite values),\n",
       " Hist(40 bins in [0.09999999999999998,1.283], with sum 33.8123415046492, 0 empty bins, and 0 non-finite values),\n",
       " Hist(40 bins in [0.09999999999999998,1.283], with sum 33.812341504649204, 0 empty bins, and 0 non-finite values),\n",
       " Hist(40 bins in [0.09999999999999998,1.283], with sum 33.8123415046492, 0 empty bins, and 0 non-finite values),\n",
       " Hist(40 bins in [0.09999999999999998,1.283], with sum 33.8123415046492, 0 empty bins, and 0 non-finite values),\n",
       " Hist(40 bins in [0.09999999999999998,1.283], with sum 33.8123415046492, 0 empty bins, and 0 non-finite values),\n",
       " Hist(40 bins in [0.09999999999999998,1.283], with sum 33.8123415046492, 0 empty bins, and 0 non-finite values),\n",
       " Hist(40 bins in [0.09999999999999998,1.283], with sum 33.8123415046492, 0 empty bins, and 0 non-finite values),\n",
       " Hist(40 bins in [0.09999999999999998,1.283], with sum 33.8123415046492, 0 empty bins, and 0 non-finite values),\n",
       " Hist(40 bins in [0.09999999999999998,1.283], with sum 33.8123415046492, 0 empty bins, and 0 non-finite values),\n",
       " Hist(40 bins in [0.09999999999999998,1.283], with sum 33.8123415046492, 0 empty bins, and 0 non-finite values),\n",
       " Hist(40 bins in [0.09999999999999998,1.283], with sum 33.8123415046492, 0 empty bins, and 0 non-finite values),\n",
       " Hist(40 bins in [0.09999999999999998,1.283], with sum 33.8123415046492, 0 empty bins, and 0 non-finite values),\n",
       " Hist(40 bins in [0.09999999999999998,1.283], with sum 33.8123415046492, 0 empty bins, and 0 non-finite values),\n",
       " Hist(40 bins in [0.09999999999999998,1.283], with sum 33.8123415046492, 0 empty bins, and 0 non-finite values),\n",
       " Hist(40 bins in [0.09999999999999998,1.283], with sum 33.8123415046492, 14 empty bins, and 0 non-finite values),\n",
       " Hist(40 bins in [0.09999999999999998,1.283], with sum 33.8123415046492, 7 empty bins, and 0 non-finite values),\n",
       " Hist(40 bins in [0.09999999999999998,1.283], with sum 33.812341504649225, 2 empty bins, and 0 non-finite values),\n",
       " Hist(40 bins in [0.09999999999999998,1.283], with sum 33.81234150464918, 0 empty bins, and 0 non-finite values),\n",
       " Hist(40 bins in [0.09999999999999998,1.283], with sum 33.8123415046492, 0 empty bins, and 0 non-finite values),\n",
       " Hist(40 bins in [0.09999999999999998,1.283], with sum 33.8123415046492, 0 empty bins, and 0 non-finite values),\n",
       " Hist(40 bins in [0.09999999999999998,1.283], with sum 33.8123415046492, 0 empty bins, and 0 non-finite values),\n",
       " Hist(40 bins in [0.09999999999999998,1.283], with sum 33.8123415046492, 0 empty bins, and 0 non-finite values),\n",
       " Hist(40 bins in [0.09999999999999998,1.283], with sum 33.8123415046492, 0 empty bins, and 0 non-finite values),\n",
       " Hist(40 bins in [0.09999999999999998,1.283], with sum 33.8123415046492, 0 empty bins, and 0 non-finite values),\n",
       " Hist(40 bins in [0.09999999999999998,1.283], with sum 33.8123415046492, 0 empty bins, and 0 non-finite values),\n",
       " Hist(40 bins in [0.09999999999999998,1.283], with sum 33.8123415046492, 0 empty bins, and 0 non-finite values),\n",
       " Hist(40 bins in [0.09999999999999998,1.283], with sum 33.8123415046492, 0 empty bins, and 0 non-finite values),\n",
       " Hist(40 bins in [0.09999999999999998,1.283], with sum 33.8123415046492, 0 empty bins, and 0 non-finite values),\n",
       " Hist(40 bins in [0.09999999999999998,1.283], with sum 33.8123415046492, 0 empty bins, and 0 non-finite values),\n",
       " Hist(40 bins in [0.09999999999999998,1.283], with sum 33.812341504649204, 0 empty bins, and 0 non-finite values),\n",
       " Hist(40 bins in [0.09999999999999998,1.283], with sum 33.8123415046492, 0 empty bins, and 0 non-finite values),\n",
       " Hist(40 bins in [0.09999999999999998,1.283], with sum 33.8123415046492, 0 empty bins, and 0 non-finite values),\n",
       " Hist(40 bins in [0.09999999999999998,1.283], with sum 33.8123415046492, 0 empty bins, and 0 non-finite values),\n",
       " Hist(40 bins in [0.09999999999999998,1.283], with sum 33.8123415046492, 0 empty bins, and 0 non-finite values),\n",
       " Hist(40 bins in [0.09999999999999998,1.283], with sum 33.8123415046492, 19 empty bins, and 0 non-finite values),\n",
       " Hist(40 bins in [0.09999999999999998,1.283], with sum 33.8123415046492, 9 empty bins, and 0 non-finite values),\n",
       " Hist(40 bins in [0.09999999999999998,1.283], with sum 33.81234150464923, 5 empty bins, and 0 non-finite values),\n",
       " Hist(40 bins in [0.09999999999999998,1.283], with sum 33.81234150464918, 0 empty bins, and 0 non-finite values),\n",
       " Hist(40 bins in [0.09999999999999998,1.283], with sum 33.8123415046492, 0 empty bins, and 0 non-finite values),\n",
       " Hist(40 bins in [0.09999999999999998,1.283], with sum 33.8123415046492, 0 empty bins, and 0 non-finite values),\n",
       " Hist(40 bins in [0.09999999999999998,1.283], with sum 33.8123415046492, 0 empty bins, and 0 non-finite values),\n",
       " Hist(40 bins in [0.09999999999999998,1.283], with sum 33.8123415046492, 0 empty bins, and 0 non-finite values),\n",
       " Hist(40 bins in [0.09999999999999998,1.283], with sum 33.812341504649204, 0 empty bins, and 0 non-finite values),\n",
       " Hist(40 bins in [0.09999999999999998,1.283], with sum 33.8123415046492, 0 empty bins, and 0 non-finite values),\n",
       " Hist(40 bins in [0.09999999999999998,1.283], with sum 33.8123415046492, 0 empty bins, and 0 non-finite values),\n",
       " Hist(40 bins in [0.09999999999999998,1.283], with sum 33.8123415046492, 0 empty bins, and 0 non-finite values),\n",
       " Hist(40 bins in [0.09999999999999998,1.283], with sum 33.8123415046492, 0 empty bins, and 0 non-finite values),\n",
       " Hist(40 bins in [0.09999999999999998,1.283], with sum 33.81234150464919, 0 empty bins, and 0 non-finite values),\n",
       " Hist(40 bins in [0.09999999999999998,1.283], with sum 33.8123415046492, 0 empty bins, and 0 non-finite values),\n",
       " Hist(40 bins in [0.09999999999999998,1.283], with sum 33.8123415046492, 0 empty bins, and 0 non-finite values),\n",
       " Hist(40 bins in [0.09999999999999998,1.283], with sum 33.8123415046492, 0 empty bins, and 0 non-finite values),\n",
       " Hist(40 bins in [0.09999999999999998,1.283], with sum 33.8123415046492, 0 empty bins, and 0 non-finite values),\n",
       " Hist(40 bins in [0.09999999999999998,1.283], with sum 33.8123415046492, 0 empty bins, and 0 non-finite values),\n",
       " Hist(40 bins in [0.09999999999999998,1.283], with sum 33.8123415046492, 0 empty bins, and 0 non-finite values),\n",
       " Hist(40 bins in [0.09999999999999998,1.283], with sum 33.812341504649204, 22 empty bins, and 0 non-finite values),\n",
       " Hist(40 bins in [0.09999999999999998,1.283], with sum 33.8123415046492, 13 empty bins, and 0 non-finite values),\n",
       " Hist(40 bins in [0.09999999999999998,1.283], with sum 33.81234150464923, 8 empty bins, and 0 non-finite values),\n",
       " Hist(40 bins in [0.09999999999999998,1.283], with sum 33.81234150464919, 0 empty bins, and 0 non-finite values),\n",
       " Hist(40 bins in [0.09999999999999998,1.283], with sum 33.8123415046492, 0 empty bins, and 0 non-finite values),\n",
       " Hist(40 bins in [0.09999999999999998,1.283], with sum 33.8123415046492, 0 empty bins, and 0 non-finite values),\n",
       " Hist(40 bins in [0.09999999999999998,1.283], with sum 33.8123415046492, 0 empty bins, and 0 non-finite values),\n",
       " Hist(40 bins in [0.09999999999999998,1.283], with sum 33.8123415046492, 0 empty bins, and 0 non-finite values),\n",
       " Hist(40 bins in [0.09999999999999998,1.283], with sum 33.8123415046492, 0 empty bins, and 0 non-finite values),\n",
       " Hist(40 bins in [0.09999999999999998,1.283], with sum 33.8123415046492, 0 empty bins, and 0 non-finite values),\n",
       " Hist(40 bins in [0.09999999999999998,1.283], with sum 33.8123415046492, 0 empty bins, and 0 non-finite values),\n",
       " Hist(40 bins in [0.09999999999999998,1.283], with sum 33.8123415046492, 0 empty bins, and 0 non-finite values),\n",
       " Hist(40 bins in [0.09999999999999998,1.283], with sum 33.8123415046492, 0 empty bins, and 0 non-finite values),\n",
       " Hist(40 bins in [0.09999999999999998,1.283], with sum 33.8123415046492, 0 empty bins, and 0 non-finite values),\n",
       " Hist(40 bins in [0.09999999999999998,1.283], with sum 33.8123415046492, 0 empty bins, and 0 non-finite values),\n",
       " Hist(40 bins in [0.09999999999999998,1.283], with sum 33.81234150464919, 0 empty bins, and 0 non-finite values),\n",
       " Hist(40 bins in [0.09999999999999998,1.283], with sum 33.8123415046492, 0 empty bins, and 0 non-finite values),\n",
       " Hist(40 bins in [0.09999999999999998,1.283], with sum 33.8123415046492, 0 empty bins, and 0 non-finite values),\n",
       " Hist(40 bins in [0.09999999999999998,1.283], with sum 33.8123415046492, 0 empty bins, and 0 non-finite values),\n",
       " Hist(40 bins in [0.09999999999999998,1.283], with sum 33.8123415046492, 0 empty bins, and 0 non-finite values),\n",
       " Hist(40 bins in [0.09999999999999998,1.283], with sum 33.8123415046492, 26 empty bins, and 0 non-finite values),\n",
       " Hist(40 bins in [0.09999999999999998,1.283], with sum 33.812341504649204, 14 empty bins, and 0 non-finite values),\n",
       " Hist(40 bins in [0.09999999999999998,1.283], with sum 33.81234150464924, 9 empty bins, and 0 non-finite values),\n",
       " Hist(40 bins in [0.09999999999999998,1.283], with sum 33.81234150464918, 0 empty bins, and 0 non-finite values),\n",
       " Hist(40 bins in [0.09999999999999998,1.283], with sum 33.8123415046492, 0 empty bins, and 0 non-finite values),\n",
       " Hist(40 bins in [0.09999999999999998,1.283], with sum 33.8123415046492, 0 empty bins, and 0 non-finite values),\n",
       " Hist(40 bins in [0.09999999999999998,1.283], with sum 33.8123415046492, 0 empty bins, and 0 non-finite values),\n",
       " Hist(40 bins in [0.09999999999999998,1.283], with sum 33.81234150464919, 0 empty bins, and 0 non-finite values),\n",
       " Hist(40 bins in [0.09999999999999998,1.283], with sum 33.8123415046492, 0 empty bins, and 0 non-finite values),\n",
       " Hist(40 bins in [0.09999999999999998,1.283], with sum 33.8123415046492, 0 empty bins, and 0 non-finite values),\n",
       " Hist(40 bins in [0.09999999999999998,1.283], with sum 33.8123415046492, 0 empty bins, and 0 non-finite values),\n",
       " Hist(40 bins in [0.09999999999999998,1.283], with sum 33.8123415046492, 0 empty bins, and 0 non-finite values),\n",
       " Hist(40 bins in [0.09999999999999998,1.283], with sum 33.8123415046492, 0 empty bins, and 0 non-finite values),\n",
       " Hist(40 bins in [0.09999999999999998,1.283], with sum 33.8123415046492, 0 empty bins, and 0 non-finite values),\n",
       " Hist(40 bins in [0.09999999999999998,1.283], with sum 33.8123415046492, 0 empty bins, and 0 non-finite values),\n",
       " Hist(40 bins in [0.09999999999999998,1.283], with sum 33.812341504649204, 0 empty bins, and 0 non-finite values),\n",
       " Hist(40 bins in [0.09999999999999998,1.283], with sum 33.8123415046492, 0 empty bins, and 0 non-finite values),\n",
       " Hist(40 bins in [0.09999999999999998,1.283], with sum 33.8123415046492, 0 empty bins, and 0 non-finite values),\n",
       " Hist(40 bins in [0.09999999999999998,1.283], with sum 33.8123415046492, 0 empty bins, and 0 non-finite values),\n",
       " Hist(40 bins in [0.09999999999999998,1.283], with sum 33.8123415046492, 0 empty bins, and 0 non-finite values),\n",
       " Hist(40 bins in [0.09999999999999998,1.283], with sum 33.8123415046492, 27 empty bins, and 0 non-finite values),\n",
       " Hist(40 bins in [0.09999999999999998,1.283], with sum 33.812341504649204, 18 empty bins, and 0 non-finite values),\n",
       " Hist(40 bins in [0.09999999999999998,1.283], with sum 33.81234150464924, 11 empty bins, and 0 non-finite values),\n",
       " Hist(40 bins in [0.09999999999999998,1.283], with sum 33.81234150464918, 0 empty bins, and 0 non-finite values),\n",
       " Hist(40 bins in [0.09999999999999998,1.283], with sum 33.812341504649204, 0 empty bins, and 0 non-finite values),\n",
       " Hist(40 bins in [0.09999999999999998,1.283], with sum 33.812341504649204, 0 empty bins, and 0 non-finite values),\n",
       " Hist(40 bins in [0.09999999999999998,1.283], with sum 33.8123415046492, 0 empty bins, and 0 non-finite values),\n",
       " Hist(40 bins in [0.09999999999999998,1.283], with sum 33.812341504649204, 0 empty bins, and 0 non-finite values),\n",
       " Hist(40 bins in [0.09999999999999998,1.283], with sum 33.8123415046492, 0 empty bins, and 0 non-finite values),\n",
       " Hist(40 bins in [0.09999999999999998,1.283], with sum 33.8123415046492, 0 empty bins, and 0 non-finite values),\n",
       " Hist(40 bins in [0.09999999999999998,1.283], with sum 33.8123415046492, 0 empty bins, and 0 non-finite values),\n",
       " Hist(40 bins in [0.09999999999999998,1.283], with sum 33.8123415046492, 0 empty bins, and 0 non-finite values),\n",
       " Hist(40 bins in [0.09999999999999998,1.283], with sum 33.812341504649204, 0 empty bins, and 0 non-finite values),\n",
       " Hist(40 bins in [0.09999999999999998,1.283], with sum 33.812341504649204, 0 empty bins, and 0 non-finite values),\n",
       " Hist(40 bins in [0.09999999999999998,1.283], with sum 33.8123415046492, 0 empty bins, and 0 non-finite values),\n",
       " Hist(40 bins in [0.09999999999999998,1.283], with sum 33.8123415046492, 0 empty bins, and 0 non-finite values),\n",
       " Hist(40 bins in [0.09999999999999998,1.283], with sum 33.8123415046492, 0 empty bins, and 0 non-finite values),\n",
       " Hist(40 bins in [0.09999999999999998,1.283], with sum 33.8123415046492, 0 empty bins, and 0 non-finite values),\n",
       " Hist(40 bins in [0.09999999999999998,1.283], with sum 33.8123415046492, 0 empty bins, and 0 non-finite values),\n",
       " Hist(40 bins in [0.09999999999999998,1.283], with sum 33.8123415046492, 0 empty bins, and 0 non-finite values),\n",
       " Hist(40 bins in [0.09999999999999998,1.283], with sum 33.8123415046492, 28 empty bins, and 0 non-finite values),\n",
       " Hist(40 bins in [0.09999999999999998,1.283], with sum 33.8123415046492, 19 empty bins, and 0 non-finite values),\n",
       " Hist(40 bins in [0.09999999999999998,1.283], with sum 33.81234150464924, 12 empty bins, and 0 non-finite values),\n",
       " Hist(40 bins in [0.09999999999999998,1.283], with sum 33.81234150464918, 0 empty bins, and 0 non-finite values),\n",
       " Hist(40 bins in [0.09999999999999998,1.283], with sum 33.812341504649204, 0 empty bins, and 0 non-finite values),\n",
       " Hist(40 bins in [0.09999999999999998,1.283], with sum 33.8123415046492, 0 empty bins, and 0 non-finite values),\n",
       " Hist(40 bins in [0.09999999999999998,1.283], with sum 33.8123415046492, 0 empty bins, and 0 non-finite values),\n",
       " Hist(40 bins in [0.09999999999999998,1.283], with sum 33.8123415046492, 0 empty bins, and 0 non-finite values),\n",
       " Hist(40 bins in [0.09999999999999998,1.283], with sum 33.8123415046492, 0 empty bins, and 0 non-finite values),\n",
       " Hist(40 bins in [0.09999999999999998,1.283], with sum 33.8123415046492, 0 empty bins, and 0 non-finite values),\n",
       " Hist(40 bins in [0.09999999999999998,1.283], with sum 33.8123415046492, 0 empty bins, and 0 non-finite values),\n",
       " Hist(40 bins in [0.09999999999999998,1.283], with sum 33.8123415046492, 0 empty bins, and 0 non-finite values),\n",
       " Hist(40 bins in [0.09999999999999998,1.283], with sum 33.8123415046492, 0 empty bins, and 0 non-finite values),\n",
       " Hist(40 bins in [0.09999999999999998,1.283], with sum 33.8123415046492, 0 empty bins, and 0 non-finite values),\n",
       " Hist(40 bins in [0.09999999999999998,1.283], with sum 33.8123415046492, 0 empty bins, and 0 non-finite values),\n",
       " Hist(40 bins in [0.09999999999999998,1.283], with sum 33.8123415046492, 0 empty bins, and 0 non-finite values),\n",
       " Hist(40 bins in [0.09999999999999998,1.283], with sum 33.812341504649204, 0 empty bins, and 0 non-finite values),\n",
       " Hist(40 bins in [0.09999999999999998,1.283], with sum 33.8123415046492, 0 empty bins, and 0 non-finite values),\n",
       " Hist(40 bins in [0.09999999999999998,1.283], with sum 33.812341504649204, 0 empty bins, and 0 non-finite values),\n",
       " Hist(40 bins in [0.09999999999999998,1.283], with sum 33.812341504649204, 0 empty bins, and 0 non-finite values),\n",
       " Hist(40 bins in [0.09999999999999998,1.283], with sum 33.8123415046492, 29 empty bins, and 0 non-finite values),\n",
       " Hist(40 bins in [0.09999999999999998,1.283], with sum 33.8123415046492, 21 empty bins, and 0 non-finite values),\n",
       " Hist(40 bins in [0.09999999999999998,1.283], with sum 33.812341504649254, 14 empty bins, and 0 non-finite values),\n",
       " Hist(40 bins in [0.09999999999999998,1.283], with sum 33.81234150464918, 0 empty bins, and 0 non-finite values),\n",
       " Hist(40 bins in [0.09999999999999998,1.283], with sum 33.8123415046492, 0 empty bins, and 0 non-finite values),\n",
       " Hist(40 bins in [0.09999999999999998,1.283], with sum 33.8123415046492, 0 empty bins, and 0 non-finite values),\n",
       " Hist(40 bins in [0.09999999999999998,1.283], with sum 33.8123415046492, 0 empty bins, and 0 non-finite values),\n",
       " Hist(40 bins in [0.09999999999999998,1.283], with sum 33.8123415046492, 0 empty bins, and 0 non-finite values),\n",
       " Hist(40 bins in [0.09999999999999998,1.283], with sum 33.812341504649204, 0 empty bins, and 0 non-finite values),\n",
       " Hist(40 bins in [0.09999999999999998,1.283], with sum 33.8123415046492, 0 empty bins, and 0 non-finite values),\n",
       " Hist(40 bins in [0.09999999999999998,1.283], with sum 33.8123415046492, 0 empty bins, and 0 non-finite values),\n",
       " Hist(40 bins in [0.09999999999999998,1.283], with sum 33.8123415046492, 0 empty bins, and 0 non-finite values),\n",
       " Hist(40 bins in [0.09999999999999998,1.283], with sum 33.8123415046492, 0 empty bins, and 0 non-finite values),\n",
       " Hist(40 bins in [0.09999999999999998,1.283], with sum 33.81234150464919, 0 empty bins, and 0 non-finite values),\n",
       " Hist(40 bins in [0.09999999999999998,1.283], with sum 33.812341504649204, 0 empty bins, and 0 non-finite values),\n",
       " Hist(40 bins in [0.09999999999999998,1.283], with sum 33.8123415046492, 0 empty bins, and 0 non-finite values),\n",
       " Hist(40 bins in [0.09999999999999998,1.283], with sum 33.8123415046492, 0 empty bins, and 0 non-finite values),\n",
       " Hist(40 bins in [0.09999999999999998,1.283], with sum 33.8123415046492, 0 empty bins, and 0 non-finite values),\n",
       " Hist(40 bins in [0.09999999999999998,1.283], with sum 33.812341504649204, 0 empty bins, and 0 non-finite values),\n",
       " Hist(40 bins in [0.09999999999999998,1.283], with sum 33.8123415046492, 0 empty bins, and 0 non-finite values),\n",
       " Hist(40 bins in [0.09999999999999998,1.283], with sum 33.8123415046492, 30 empty bins, and 0 non-finite values),\n",
       " Hist(40 bins in [0.09999999999999998,1.283], with sum 33.81234150464919, 24 empty bins, and 0 non-finite values),\n",
       " Hist(40 bins in [0.09999999999999998,1.283], with sum 33.812341504649254, 16 empty bins, and 0 non-finite values),\n",
       " Hist(40 bins in [0.09999999999999998,1.283], with sum 33.81234150464918, 0 empty bins, and 0 non-finite values),\n",
       " Hist(40 bins in [0.09999999999999998,1.283], with sum 33.8123415046492, 0 empty bins, and 0 non-finite values),\n",
       " Hist(40 bins in [0.09999999999999998,1.283], with sum 33.8123415046492, 0 empty bins, and 0 non-finite values),\n",
       " Hist(40 bins in [0.09999999999999998,1.283], with sum 33.8123415046492, 0 empty bins, and 0 non-finite values),\n",
       " Hist(40 bins in [0.09999999999999998,1.283], with sum 33.8123415046492, 0 empty bins, and 0 non-finite values),\n",
       " Hist(40 bins in [0.09999999999999998,1.283], with sum 33.8123415046492, 0 empty bins, and 0 non-finite values),\n",
       " Hist(40 bins in [0.09999999999999998,1.283], with sum 33.8123415046492, 0 empty bins, and 0 non-finite values),\n",
       " Hist(40 bins in [0.09999999999999998,1.283], with sum 33.8123415046492, 0 empty bins, and 0 non-finite values),\n",
       " Hist(40 bins in [0.09999999999999998,1.283], with sum 33.8123415046492, 0 empty bins, and 0 non-finite values),\n",
       " Hist(40 bins in [0.09999999999999998,1.283], with sum 33.8123415046492, 0 empty bins, and 0 non-finite values),\n",
       " Hist(40 bins in [0.09999999999999998,1.283], with sum 33.8123415046492, 0 empty bins, and 0 non-finite values),\n",
       " Hist(40 bins in [0.09999999999999998,1.283], with sum 33.8123415046492, 0 empty bins, and 0 non-finite values),\n",
       " Hist(40 bins in [0.09999999999999998,1.283], with sum 33.8123415046492, 0 empty bins, and 0 non-finite values),\n",
       " Hist(40 bins in [0.09999999999999998,1.283], with sum 33.8123415046492, 0 empty bins, and 0 non-finite values),\n",
       " Hist(40 bins in [0.09999999999999998,1.283], with sum 33.81234150464919, 0 empty bins, and 0 non-finite values),\n",
       " Hist(40 bins in [0.09999999999999998,1.283], with sum 33.8123415046492, 0 empty bins, and 0 non-finite values),\n",
       " Hist(40 bins in [0.09999999999999998,1.283], with sum 33.8123415046492, 0 empty bins, and 0 non-finite values),\n",
       " Hist(40 bins in [0.09999999999999998,1.283], with sum 33.8123415046492, 31 empty bins, and 0 non-finite values),\n",
       " Hist(40 bins in [0.09999999999999998,1.283], with sum 33.8123415046492, 24 empty bins, and 0 non-finite values),\n",
       " Hist(40 bins in [0.09999999999999998,1.283], with sum 33.812341504649254, 17 empty bins, and 0 non-finite values),\n",
       " Hist(40 bins in [0.09999999999999998,1.283], with sum 33.81234150464918, 0 empty bins, and 0 non-finite values),\n",
       " Hist(40 bins in [0.09999999999999998,1.283], with sum 33.8123415046492, 0 empty bins, and 0 non-finite values),\n",
       " Hist(40 bins in [0.09999999999999998,1.283], with sum 33.8123415046492, 0 empty bins, and 0 non-finite values),\n",
       " Hist(40 bins in [0.09999999999999998,1.283], with sum 33.8123415046492, 0 empty bins, and 0 non-finite values),\n",
       " Hist(40 bins in [0.09999999999999998,1.283], with sum 33.8123415046492, 0 empty bins, and 0 non-finite values),\n",
       " Hist(40 bins in [0.09999999999999998,1.283], with sum 33.8123415046492, 0 empty bins, and 0 non-finite values),\n",
       " Hist(40 bins in [0.09999999999999998,1.283], with sum 33.812341504649204, 0 empty bins, and 0 non-finite values),\n",
       " Hist(40 bins in [0.09999999999999998,1.283], with sum 33.8123415046492, 0 empty bins, and 0 non-finite values),\n",
       " Hist(40 bins in [0.09999999999999998,1.283], with sum 33.812341504649204, 0 empty bins, and 0 non-finite values),\n",
       " Hist(40 bins in [0.09999999999999998,1.283], with sum 33.8123415046492, 0 empty bins, and 0 non-finite values),\n",
       " Hist(40 bins in [0.09999999999999998,1.283], with sum 33.8123415046492, 0 empty bins, and 0 non-finite values),\n",
       " Hist(40 bins in [0.09999999999999998,1.283], with sum 33.8123415046492, 0 empty bins, and 0 non-finite values),\n",
       " Hist(40 bins in [0.09999999999999998,1.283], with sum 33.8123415046492, 0 empty bins, and 0 non-finite values),\n",
       " Hist(40 bins in [0.09999999999999998,1.283], with sum 33.8123415046492, 0 empty bins, and 0 non-finite values),\n",
       " Hist(40 bins in [0.09999999999999998,1.283], with sum 33.8123415046492, 0 empty bins, and 0 non-finite values),\n",
       " Hist(40 bins in [0.09999999999999998,1.283], with sum 33.8123415046492, 0 empty bins, and 0 non-finite values),\n",
       " Hist(40 bins in [0.09999999999999998,1.283], with sum 33.8123415046492, 0 empty bins, and 0 non-finite values),\n",
       " Hist(40 bins in [0.09999999999999998,1.283], with sum 33.8123415046492, 32 empty bins, and 0 non-finite values),\n",
       " Hist(40 bins in [0.09999999999999998,1.283], with sum 33.81234150464919, 24 empty bins, and 0 non-finite values),\n",
       " Hist(40 bins in [0.09999999999999998,1.283], with sum 33.812341504649254, 18 empty bins, and 0 non-finite values),\n",
       " Hist(40 bins in [0.09999999999999998,1.283], with sum 33.81234150464918, 1 empty bins, and 0 non-finite values),\n",
       " Hist(40 bins in [0.09999999999999998,1.283], with sum 33.8123415046492, 0 empty bins, and 0 non-finite values),\n",
       " Hist(40 bins in [0.09999999999999998,1.283], with sum 33.8123415046492, 0 empty bins, and 0 non-finite values),\n",
       " Hist(40 bins in [0.09999999999999998,1.283], with sum 33.8123415046492, 0 empty bins, and 0 non-finite values),\n",
       " Hist(40 bins in [0.09999999999999998,1.283], with sum 33.8123415046492, 0 empty bins, and 0 non-finite values),\n",
       " Hist(40 bins in [0.09999999999999998,1.283], with sum 33.81234150464919, 0 empty bins, and 0 non-finite values),\n",
       " Hist(40 bins in [0.09999999999999998,1.283], with sum 33.8123415046492, 0 empty bins, and 0 non-finite values),\n",
       " Hist(40 bins in [0.09999999999999998,1.283], with sum 33.8123415046492, 0 empty bins, and 0 non-finite values),\n",
       " Hist(40 bins in [0.09999999999999998,1.283], with sum 33.8123415046492, 0 empty bins, and 0 non-finite values),\n",
       " Hist(40 bins in [0.09999999999999998,1.283], with sum 33.8123415046492, 0 empty bins, and 0 non-finite values),\n",
       " Hist(40 bins in [0.09999999999999998,1.283], with sum 33.812341504649204, 0 empty bins, and 0 non-finite values),\n",
       " Hist(40 bins in [0.09999999999999998,1.283], with sum 33.8123415046492, 0 empty bins, and 0 non-finite values),\n",
       " Hist(40 bins in [0.09999999999999998,1.283], with sum 33.8123415046492, 0 empty bins, and 0 non-finite values),\n",
       " Hist(40 bins in [0.09999999999999998,1.283], with sum 33.8123415046492, 0 empty bins, and 0 non-finite values),\n",
       " Hist(40 bins in [0.09999999999999998,1.283], with sum 33.8123415046492, 0 empty bins, and 0 non-finite values),\n",
       " Hist(40 bins in [0.09999999999999998,1.283], with sum 33.8123415046492, 0 empty bins, and 0 non-finite values),\n",
       " Hist(40 bins in [0.09999999999999998,1.283], with sum 33.8123415046492, 0 empty bins, and 0 non-finite values),\n",
       " Hist(40 bins in [0.09999999999999998,1.283], with sum 33.8123415046492, 32 empty bins, and 0 non-finite values),\n",
       " Hist(40 bins in [0.09999999999999998,1.283], with sum 33.81234150464918, 26 empty bins, and 0 non-finite values),\n",
       " Hist(40 bins in [0.09999999999999998,1.283], with sum 33.812341504649254, 20 empty bins, and 0 non-finite values),\n",
       " Hist(40 bins in [0.09999999999999998,1.283], with sum 33.81234150464918, 3 empty bins, and 0 non-finite values),\n",
       " Hist(40 bins in [0.09999999999999998,1.283], with sum 33.8123415046492, 0 empty bins, and 0 non-finite values),\n",
       " Hist(40 bins in [0.09999999999999998,1.283], with sum 33.8123415046492, 0 empty bins, and 0 non-finite values),\n",
       " Hist(40 bins in [0.09999999999999998,1.283], with sum 33.8123415046492, 0 empty bins, and 0 non-finite values),\n",
       " Hist(40 bins in [0.09999999999999998,1.283], with sum 33.812341504649204, 0 empty bins, and 0 non-finite values),\n",
       " Hist(40 bins in [0.09999999999999998,1.283], with sum 33.8123415046492, 0 empty bins, and 0 non-finite values),\n",
       " Hist(40 bins in [0.09999999999999998,1.283], with sum 33.8123415046492, 0 empty bins, and 0 non-finite values),\n",
       " Hist(40 bins in [0.09999999999999998,1.283], with sum 33.8123415046492, 0 empty bins, and 0 non-finite values),\n",
       " Hist(40 bins in [0.09999999999999998,1.283], with sum 33.8123415046492, 0 empty bins, and 0 non-finite values),\n",
       " Hist(40 bins in [0.09999999999999998,1.283], with sum 33.812341504649204, 0 empty bins, and 0 non-finite values),\n",
       " Hist(40 bins in [0.09999999999999998,1.283], with sum 33.8123415046492, 0 empty bins, and 0 non-finite values),\n",
       " Hist(40 bins in [0.09999999999999998,1.283], with sum 33.8123415046492, 0 empty bins, and 0 non-finite values),\n",
       " Hist(40 bins in [0.09999999999999998,1.283], with sum 33.8123415046492, 0 empty bins, and 0 non-finite values),\n",
       " Hist(40 bins in [0.09999999999999998,1.283], with sum 33.8123415046492, 0 empty bins, and 0 non-finite values),\n",
       " Hist(40 bins in [0.09999999999999998,1.283], with sum 33.812341504649204, 0 empty bins, and 0 non-finite values),\n",
       " Hist(40 bins in [0.09999999999999998,1.283], with sum 33.812341504649204, 0 empty bins, and 0 non-finite values),\n",
       " Hist(40 bins in [0.09999999999999998,1.283], with sum 33.812341504649204, 0 empty bins, and 0 non-finite values),\n",
       " Hist(40 bins in [0.09999999999999998,1.283], with sum 33.8123415046492, 33 empty bins, and 0 non-finite values),\n",
       " Hist(40 bins in [0.09999999999999998,1.283], with sum 33.81234150464918, 26 empty bins, and 0 non-finite values),\n",
       " Hist(40 bins in [0.09999999999999998,1.283], with sum 33.81234150464927, 20 empty bins, and 0 non-finite values),\n",
       " Hist(40 bins in [0.09999999999999998,1.283], with sum 33.812341504649176, 3 empty bins, and 0 non-finite values),\n",
       " Hist(40 bins in [0.09999999999999998,1.283], with sum 33.812341504649204, 0 empty bins, and 0 non-finite values),\n",
       " Hist(40 bins in [0.09999999999999998,1.283], with sum 33.8123415046492, 0 empty bins, and 0 non-finite values),\n",
       " Hist(40 bins in [0.09999999999999998,1.283], with sum 33.8123415046492, 0 empty bins, and 0 non-finite values),\n",
       " Hist(40 bins in [0.09999999999999998,1.283], with sum 33.812341504649204, 0 empty bins, and 0 non-finite values),\n",
       " Hist(40 bins in [0.09999999999999998,1.283], with sum 33.8123415046492, 0 empty bins, and 0 non-finite values),\n",
       " Hist(40 bins in [0.09999999999999998,1.283], with sum 33.8123415046492, 0 empty bins, and 0 non-finite values),\n",
       " Hist(40 bins in [0.09999999999999998,1.283], with sum 33.8123415046492, 0 empty bins, and 0 non-finite values),\n",
       " Hist(40 bins in [0.09999999999999998,1.283], with sum 33.8123415046492, 0 empty bins, and 0 non-finite values),\n",
       " Hist(40 bins in [0.09999999999999998,1.283], with sum 33.8123415046492, 0 empty bins, and 0 non-finite values),\n",
       " Hist(40 bins in [0.09999999999999998,1.283], with sum 33.8123415046492, 0 empty bins, and 0 non-finite values),\n",
       " Hist(40 bins in [0.09999999999999998,1.283], with sum 33.8123415046492, 0 empty bins, and 0 non-finite values),\n",
       " Hist(40 bins in [0.09999999999999998,1.283], with sum 33.8123415046492, 0 empty bins, and 0 non-finite values),\n",
       " Hist(40 bins in [0.09999999999999998,1.283], with sum 33.8123415046492, 0 empty bins, and 0 non-finite values),\n",
       " Hist(40 bins in [0.09999999999999998,1.283], with sum 33.8123415046492, 0 empty bins, and 0 non-finite values),\n",
       " Hist(40 bins in [0.09999999999999998,1.283], with sum 33.8123415046492, 0 empty bins, and 0 non-finite values),\n",
       " Hist(40 bins in [0.09999999999999998,1.283], with sum 33.8123415046492, 0 empty bins, and 0 non-finite values),\n",
       " Hist(40 bins in [0.09999999999999998,1.283], with sum 33.8123415046492, 34 empty bins, and 0 non-finite values),\n",
       " Hist(40 bins in [0.09999999999999998,1.283], with sum 33.81234150464918, 28 empty bins, and 0 non-finite values),\n",
       " Hist(40 bins in [0.09999999999999998,1.283], with sum 33.81234150464926, 21 empty bins, and 0 non-finite values),\n",
       " Hist(40 bins in [0.09999999999999998,1.283], with sum 33.81234150464918, 4 empty bins, and 0 non-finite values),\n",
       " Hist(40 bins in [0.09999999999999998,1.283], with sum 33.8123415046492, 0 empty bins, and 0 non-finite values),\n",
       " Hist(40 bins in [0.09999999999999998,1.283], with sum 33.8123415046492, 0 empty bins, and 0 non-finite values),\n",
       " Hist(40 bins in [0.09999999999999998,1.283], with sum 33.812341504649204, 0 empty bins, and 0 non-finite values),\n",
       " Hist(40 bins in [0.09999999999999998,1.283], with sum 33.8123415046492, 0 empty bins, and 0 non-finite values),\n",
       " Hist(40 bins in [0.09999999999999998,1.283], with sum 33.8123415046492, 0 empty bins, and 0 non-finite values),\n",
       " Hist(40 bins in [0.09999999999999998,1.283], with sum 33.8123415046492, 0 empty bins, and 0 non-finite values),\n",
       " Hist(40 bins in [0.09999999999999998,1.283], with sum 33.8123415046492, 0 empty bins, and 0 non-finite values),\n",
       " Hist(40 bins in [0.09999999999999998,1.283], with sum 33.8123415046492, 0 empty bins, and 0 non-finite values),\n",
       " Hist(40 bins in [0.09999999999999998,1.283], with sum 33.8123415046492, 0 empty bins, and 0 non-finite values),\n",
       " Hist(40 bins in [0.09999999999999998,1.283], with sum 33.8123415046492, 0 empty bins, and 0 non-finite values),\n",
       " Hist(40 bins in [0.09999999999999998,1.283], with sum 33.8123415046492, 0 empty bins, and 0 non-finite values),\n",
       " Hist(40 bins in [0.09999999999999998,1.283], with sum 33.8123415046492, 0 empty bins, and 0 non-finite values),\n",
       " Hist(40 bins in [0.09999999999999998,1.283], with sum 33.8123415046492, 0 empty bins, and 0 non-finite values),\n",
       " Hist(40 bins in [0.09999999999999998,1.283], with sum 33.812341504649204, 0 empty bins, and 0 non-finite values),\n",
       " Hist(40 bins in [0.09999999999999998,1.283], with sum 33.8123415046492, 0 empty bins, and 0 non-finite values),\n",
       " Hist(40 bins in [0.09999999999999998,1.283], with sum 33.8123415046492, 0 empty bins, and 0 non-finite values),\n",
       " Hist(40 bins in [0.09999999999999998,1.283], with sum 33.8123415046492, 34 empty bins, and 0 non-finite values),\n",
       " Hist(40 bins in [0.09999999999999998,1.283], with sum 33.81234150464918, 28 empty bins, and 0 non-finite values),\n",
       " Hist(40 bins in [0.09999999999999998,1.283], with sum 33.81234150464926, 21 empty bins, and 0 non-finite values),\n",
       " Hist(40 bins in [0.09999999999999998,1.283], with sum 33.812341504649176, 4 empty bins, and 0 non-finite values),\n",
       " Hist(40 bins in [0.09999999999999998,1.283], with sum 33.8123415046492, 0 empty bins, and 0 non-finite values),\n",
       " Hist(40 bins in [0.09999999999999998,1.283], with sum 33.81234150464919, 0 empty bins, and 0 non-finite values),\n",
       " Hist(40 bins in [0.09999999999999998,1.283], with sum 33.8123415046492, 0 empty bins, and 0 non-finite values),\n",
       " Hist(40 bins in [0.09999999999999998,1.283], with sum 33.8123415046492, 0 empty bins, and 0 non-finite values),\n",
       " Hist(40 bins in [0.09999999999999998,1.283], with sum 33.8123415046492, 0 empty bins, and 0 non-finite values),\n",
       " Hist(40 bins in [0.09999999999999998,1.283], with sum 33.8123415046492, 0 empty bins, and 0 non-finite values),\n",
       " Hist(40 bins in [0.09999999999999998,1.283], with sum 33.8123415046492, 0 empty bins, and 0 non-finite values),\n",
       " Hist(40 bins in [0.09999999999999998,1.283], with sum 33.812341504649204, 0 empty bins, and 0 non-finite values),\n",
       " Hist(40 bins in [0.09999999999999998,1.283], with sum 33.8123415046492, 0 empty bins, and 0 non-finite values),\n",
       " Hist(40 bins in [0.09999999999999998,1.283], with sum 33.812341504649204, 0 empty bins, and 0 non-finite values),\n",
       " Hist(40 bins in [0.09999999999999998,1.283], with sum 33.8123415046492, 0 empty bins, and 0 non-finite values),\n",
       " Hist(40 bins in [0.09999999999999998,1.283], with sum 33.812341504649204, 0 empty bins, and 0 non-finite values),\n",
       " Hist(40 bins in [0.09999999999999998,1.283], with sum 33.8123415046492, 0 empty bins, and 0 non-finite values),\n",
       " Hist(40 bins in [0.09999999999999998,1.283], with sum 33.8123415046492, 0 empty bins, and 0 non-finite values),\n",
       " Hist(40 bins in [0.09999999999999998,1.283], with sum 33.81234150464921, 0 empty bins, and 0 non-finite values),\n",
       " Hist(40 bins in [0.09999999999999998,1.283], with sum 33.8123415046492, 0 empty bins, and 0 non-finite values),\n",
       " Hist(40 bins in [0.09999999999999998,1.283], with sum 33.8123415046492, 35 empty bins, and 0 non-finite values),\n",
       " Hist(40 bins in [0.09999999999999998,1.283], with sum 33.81234150464918, 28 empty bins, and 0 non-finite values),\n",
       " Hist(40 bins in [0.09999999999999998,1.283], with sum 33.81234150464926, 23 empty bins, and 0 non-finite values),\n",
       " Hist(40 bins in [0.09999999999999998,1.283], with sum 33.812341504649176, 4 empty bins, and 0 non-finite values),\n",
       " Hist(40 bins in [0.09999999999999998,1.283], with sum 33.812341504649204, 0 empty bins, and 0 non-finite values),\n",
       " Hist(40 bins in [0.09999999999999998,1.283], with sum 33.8123415046492, 0 empty bins, and 0 non-finite values),\n",
       " Hist(40 bins in [0.09999999999999998,1.283], with sum 33.812341504649204, 0 empty bins, and 0 non-finite values),\n",
       " Hist(40 bins in [0.09999999999999998,1.283], with sum 33.8123415046492, 0 empty bins, and 0 non-finite values),\n",
       " Hist(40 bins in [0.09999999999999998,1.283], with sum 33.8123415046492, 0 empty bins, and 0 non-finite values),\n",
       " Hist(40 bins in [0.09999999999999998,1.283], with sum 33.8123415046492, 0 empty bins, and 0 non-finite values),\n",
       " Hist(40 bins in [0.09999999999999998,1.283], with sum 33.812341504649204, 0 empty bins, and 0 non-finite values),\n",
       " Hist(40 bins in [0.09999999999999998,1.283], with sum 33.8123415046492, 0 empty bins, and 0 non-finite values),\n",
       " Hist(40 bins in [0.09999999999999998,1.283], with sum 33.8123415046492, 0 empty bins, and 0 non-finite values),\n",
       " Hist(40 bins in [0.09999999999999998,1.283], with sum 33.8123415046492, 0 empty bins, and 0 non-finite values),\n",
       " Hist(40 bins in [0.09999999999999998,1.283], with sum 33.8123415046492, 0 empty bins, and 0 non-finite values),\n",
       " Hist(40 bins in [0.09999999999999998,1.283], with sum 33.8123415046492, 0 empty bins, and 0 non-finite values),\n",
       " Hist(40 bins in [0.09999999999999998,1.283], with sum 33.8123415046492, 0 empty bins, and 0 non-finite values),\n",
       " Hist(40 bins in [0.09999999999999998,1.283], with sum 33.8123415046492, 0 empty bins, and 0 non-finite values),\n",
       " Hist(40 bins in [0.09999999999999998,1.283], with sum 33.8123415046492, 0 empty bins, and 0 non-finite values),\n",
       " Hist(40 bins in [0.09999999999999998,1.283], with sum 33.8123415046492, 0 empty bins, and 0 non-finite values),\n",
       " Hist(40 bins in [0.09999999999999998,1.283], with sum 33.8123415046492, 35 empty bins, and 0 non-finite values),\n",
       " Hist(40 bins in [0.09999999999999998,1.283], with sum 33.81234150464917, 28 empty bins, and 0 non-finite values),\n",
       " Hist(40 bins in [0.09999999999999998,1.283], with sum 33.81234150464927, 23 empty bins, and 0 non-finite values),\n",
       " Hist(40 bins in [0.09999999999999998,1.283], with sum 33.81234150464918, 6 empty bins, and 0 non-finite values),\n",
       " Hist(40 bins in [0.09999999999999998,1.283], with sum 33.812341504649204, 0 empty bins, and 0 non-finite values),\n",
       " Hist(40 bins in [0.09999999999999998,1.283], with sum 33.8123415046492, 0 empty bins, and 0 non-finite values),\n",
       " Hist(40 bins in [0.09999999999999998,1.283], with sum 33.8123415046492, 0 empty bins, and 0 non-finite values),\n",
       " Hist(40 bins in [0.09999999999999998,1.283], with sum 33.812341504649204, 0 empty bins, and 0 non-finite values),\n",
       " Hist(40 bins in [0.09999999999999998,1.283], with sum 33.812341504649204, 0 empty bins, and 0 non-finite values),\n",
       " Hist(40 bins in [0.09999999999999998,1.283], with sum 33.8123415046492, 0 empty bins, and 0 non-finite values),\n",
       " Hist(40 bins in [0.09999999999999998,1.283], with sum 33.8123415046492, 0 empty bins, and 0 non-finite values),\n",
       " Hist(40 bins in [0.09999999999999998,1.283], with sum 33.8123415046492, 0 empty bins, and 0 non-finite values),\n",
       " Hist(40 bins in [0.09999999999999998,1.283], with sum 33.8123415046492, 0 empty bins, and 0 non-finite values),\n",
       " Hist(40 bins in [0.09999999999999998,1.283], with sum 33.8123415046492, 0 empty bins, and 0 non-finite values),\n",
       " Hist(40 bins in [0.09999999999999998,1.283], with sum 33.812341504649204, 0 empty bins, and 0 non-finite values),\n",
       " Hist(40 bins in [0.09999999999999998,1.283], with sum 33.812341504649204, 0 empty bins, and 0 non-finite values),\n",
       " Hist(40 bins in [0.09999999999999998,1.283], with sum 33.8123415046492, 0 empty bins, and 0 non-finite values),\n",
       " Hist(40 bins in [0.09999999999999998,1.283], with sum 33.8123415046492, 0 empty bins, and 0 non-finite values),\n",
       " Hist(40 bins in [0.09999999999999998,1.283], with sum 33.8123415046492, 0 empty bins, and 0 non-finite values),\n",
       " Hist(40 bins in [0.09999999999999998,1.283], with sum 33.812341504649204, 0 empty bins, and 0 non-finite values),\n",
       " Hist(40 bins in [0.09999999999999998,1.283], with sum 33.8123415046492, 36 empty bins, and 0 non-finite values),\n",
       " Hist(40 bins in [0.09999999999999998,1.283], with sum 33.81234150464917, 29 empty bins, and 0 non-finite values),\n",
       " Hist(40 bins in [0.09999999999999998,1.283], with sum 33.81234150464927, 23 empty bins, and 0 non-finite values),\n",
       " Hist(40 bins in [0.09999999999999998,1.283], with sum 33.81234150464918, 7 empty bins, and 0 non-finite values),\n",
       " Hist(40 bins in [0.09999999999999998,1.283], with sum 33.8123415046492, 0 empty bins, and 0 non-finite values),\n",
       " Hist(40 bins in [0.09999999999999998,1.283], with sum 33.8123415046492, 0 empty bins, and 0 non-finite values),\n",
       " Hist(40 bins in [0.09999999999999998,1.283], with sum 33.8123415046492, 0 empty bins, and 0 non-finite values),\n",
       " Hist(40 bins in [0.09999999999999998,1.283], with sum 33.8123415046492, 0 empty bins, and 0 non-finite values),\n",
       " Hist(40 bins in [0.09999999999999998,1.283], with sum 33.812341504649204, 0 empty bins, and 0 non-finite values),\n",
       " Hist(40 bins in [0.09999999999999998,1.283], with sum 33.8123415046492, 0 empty bins, and 0 non-finite values),\n",
       " Hist(40 bins in [0.09999999999999998,1.283], with sum 33.8123415046492, 0 empty bins, and 0 non-finite values),\n",
       " Hist(40 bins in [0.09999999999999998,1.283], with sum 33.8123415046492, 0 empty bins, and 0 non-finite values),\n",
       " Hist(40 bins in [0.09999999999999998,1.283], with sum 33.8123415046492, 0 empty bins, and 0 non-finite values),\n",
       " Hist(40 bins in [0.09999999999999998,1.283], with sum 33.8123415046492, 0 empty bins, and 0 non-finite values),\n",
       " Hist(40 bins in [0.09999999999999998,1.283], with sum 33.8123415046492, 0 empty bins, and 0 non-finite values),\n",
       " Hist(40 bins in [0.09999999999999998,1.283], with sum 33.8123415046492, 0 empty bins, and 0 non-finite values),\n",
       " Hist(40 bins in [0.09999999999999998,1.283], with sum 33.8123415046492, 0 empty bins, and 0 non-finite values),\n",
       " Hist(40 bins in [0.09999999999999998,1.283], with sum 33.8123415046492, 0 empty bins, and 0 non-finite values),\n",
       " Hist(40 bins in [0.09999999999999998,1.283], with sum 33.8123415046492, 0 empty bins, and 0 non-finite values),\n",
       " Hist(40 bins in [0.09999999999999998,1.283], with sum 33.8123415046492, 0 empty bins, and 0 non-finite values),\n",
       " Hist(40 bins in [0.09999999999999998,1.283], with sum 33.8123415046492, 36 empty bins, and 0 non-finite values),\n",
       " Hist(40 bins in [0.09999999999999998,1.283], with sum 33.812341504649154, 30 empty bins, and 0 non-finite values),\n",
       " Hist(40 bins in [0.09999999999999998,1.283], with sum 33.81234150464927, 24 empty bins, and 0 non-finite values),\n",
       " Hist(40 bins in [0.09999999999999998,1.283], with sum 33.81234150464918, 8 empty bins, and 0 non-finite values),\n",
       " Hist(40 bins in [0.09999999999999998,1.283], with sum 33.8123415046492, 0 empty bins, and 0 non-finite values),\n",
       " Hist(40 bins in [0.09999999999999998,1.283], with sum 33.8123415046492, 0 empty bins, and 0 non-finite values),\n",
       " Hist(40 bins in [0.09999999999999998,1.283], with sum 33.8123415046492, 0 empty bins, and 0 non-finite values),\n",
       " Hist(40 bins in [0.09999999999999998,1.283], with sum 33.8123415046492, 0 empty bins, and 0 non-finite values),\n",
       " Hist(40 bins in [0.09999999999999998,1.283], with sum 33.8123415046492, 0 empty bins, and 0 non-finite values),\n",
       " Hist(40 bins in [0.09999999999999998,1.283], with sum 33.8123415046492, 0 empty bins, and 0 non-finite values),\n",
       " Hist(40 bins in [0.09999999999999998,1.283], with sum 33.8123415046492, 0 empty bins, and 0 non-finite values),\n",
       " Hist(40 bins in [0.09999999999999998,1.283], with sum 33.812341504649204, 0 empty bins, and 0 non-finite values),\n",
       " Hist(40 bins in [0.09999999999999998,1.283], with sum 33.8123415046492, 0 empty bins, and 0 non-finite values),\n",
       " Hist(40 bins in [0.09999999999999998,1.283], with sum 33.8123415046492, 0 empty bins, and 0 non-finite values),\n",
       " Hist(40 bins in [0.09999999999999998,1.283], with sum 33.8123415046492, 0 empty bins, and 0 non-finite values),\n",
       " Hist(40 bins in [0.09999999999999998,1.283], with sum 33.8123415046492, 0 empty bins, and 0 non-finite values),\n",
       " Hist(40 bins in [0.09999999999999998,1.283], with sum 33.8123415046492, 0 empty bins, and 0 non-finite values),\n",
       " Hist(40 bins in [0.09999999999999998,1.283], with sum 33.812341504649204, 0 empty bins, and 0 non-finite values),\n",
       " Hist(40 bins in [0.09999999999999998,1.283], with sum 33.8123415046492, 0 empty bins, and 0 non-finite values),\n",
       " Hist(40 bins in [0.09999999999999998,1.283], with sum 33.8123415046492, 0 empty bins, and 0 non-finite values),\n",
       " Hist(40 bins in [0.09999999999999998,1.283], with sum 33.8123415046492, 37 empty bins, and 0 non-finite values),\n",
       " Hist(40 bins in [0.09999999999999998,1.283], with sum 33.81234150464917, 31 empty bins, and 0 non-finite values),\n",
       " Hist(40 bins in [0.09999999999999998,1.283], with sum 33.81234150464927, 24 empty bins, and 0 non-finite values),\n",
       " Hist(40 bins in [0.09999999999999998,1.283], with sum 33.812341504649176, 8 empty bins, and 0 non-finite values),\n",
       " Hist(40 bins in [0.09999999999999998,1.283], with sum 33.8123415046492, 0 empty bins, and 0 non-finite values),\n",
       " Hist(40 bins in [0.09999999999999998,1.283], with sum 33.812341504649204, 0 empty bins, and 0 non-finite values),\n",
       " Hist(40 bins in [0.09999999999999998,1.283], with sum 33.8123415046492, 0 empty bins, and 0 non-finite values),\n",
       " Hist(40 bins in [0.09999999999999998,1.283], with sum 33.8123415046492, 0 empty bins, and 0 non-finite values),\n",
       " Hist(40 bins in [0.09999999999999998,1.283], with sum 33.8123415046492, 0 empty bins, and 0 non-finite values),\n",
       " Hist(40 bins in [0.09999999999999998,1.283], with sum 33.8123415046492, 0 empty bins, and 0 non-finite values),\n",
       " Hist(40 bins in [0.09999999999999998,1.283], with sum 33.8123415046492, 0 empty bins, and 0 non-finite values),\n",
       " Hist(40 bins in [0.09999999999999998,1.283], with sum 33.8123415046492, 0 empty bins, and 0 non-finite values),\n",
       " Hist(40 bins in [0.09999999999999998,1.283], with sum 33.8123415046492, 0 empty bins, and 0 non-finite values),\n",
       " Hist(40 bins in [0.09999999999999998,1.283], with sum 33.8123415046492, 0 empty bins, and 0 non-finite values),\n",
       " Hist(40 bins in [0.09999999999999998,1.283], with sum 33.8123415046492, 0 empty bins, and 0 non-finite values),\n",
       " Hist(40 bins in [0.09999999999999998,1.283], with sum 33.8123415046492, 0 empty bins, and 0 non-finite values),\n",
       " Hist(40 bins in [0.09999999999999998,1.283], with sum 33.8123415046492, 0 empty bins, and 0 non-finite values),\n",
       " Hist(40 bins in [0.09999999999999998,1.283], with sum 33.812341504649204, 0 empty bins, and 0 non-finite values),\n",
       " Hist(40 bins in [0.09999999999999998,1.283], with sum 33.8123415046492, 0 empty bins, and 0 non-finite values),\n",
       " Hist(40 bins in [0.09999999999999998,1.283], with sum 33.8123415046492, 0 empty bins, and 0 non-finite values)]"
      ]
     },
     "execution_count": 18,
     "metadata": {},
     "output_type": "execute_result"
    }
   ],
   "source": [
    "hs"
   ]
  },
  {
   "cell_type": "code",
   "execution_count": 24,
   "metadata": {},
   "outputs": [],
   "source": [
    "h = PDFs[0]"
   ]
  },
  {
   "cell_type": "code",
   "execution_count": 26,
   "metadata": {},
   "outputs": [
    {
     "data": {
      "text/plain": [
       "['T',\n",
       " '__add__',\n",
       " '__call__',\n",
       " '__class__',\n",
       " '__delattr__',\n",
       " '__dict__',\n",
       " '__dir__',\n",
       " '__div__',\n",
       " '__doc__',\n",
       " '__eq__',\n",
       " '__format__',\n",
       " '__ge__',\n",
       " '__getattribute__',\n",
       " '__getitem__',\n",
       " '__getstate__',\n",
       " '__gt__',\n",
       " '__hash__',\n",
       " '__init__',\n",
       " '__init_subclass__',\n",
       " '__le__',\n",
       " '__lt__',\n",
       " '__module__',\n",
       " '__mul__',\n",
       " '__ne__',\n",
       " '__neg__',\n",
       " '__new__',\n",
       " '__pow__',\n",
       " '__radd__',\n",
       " '__reduce__',\n",
       " '__reduce_ex__',\n",
       " '__repr__',\n",
       " '__rmul__',\n",
       " '__rpow__',\n",
       " '__rsub__',\n",
       " '__setattr__',\n",
       " '__sizeof__',\n",
       " '__slotnames__',\n",
       " '__str__',\n",
       " '__sub__',\n",
       " '__subclasshook__',\n",
       " '__truediv__',\n",
       " '__weakref__',\n",
       " '_bins',\n",
       " '_centers',\n",
       " '_data',\n",
       " '_determine_centers',\n",
       " '_determine_log',\n",
       " '_errors',\n",
       " '_log',\n",
       " '_n_dim',\n",
       " '_range',\n",
       " '_values',\n",
       " '_weights',\n",
       " 'abs',\n",
       " 'assert_match',\n",
       " 'bins',\n",
       " 'centers',\n",
       " 'contain',\n",
       " 'contain_project',\n",
       " 'copy',\n",
       " 'cumsum',\n",
       " 'curve_fit',\n",
       " 'data',\n",
       " 'efficiency',\n",
       " 'errors',\n",
       " 'eval',\n",
       " 'exp',\n",
       " 'gaussian_filter',\n",
       " 'gaussian_filter1d',\n",
       " 'get_error',\n",
       " 'get_errors',\n",
       " 'get_slice',\n",
       " 'get_value',\n",
       " 'get_values',\n",
       " 'index',\n",
       " 'indices',\n",
       " 'integrate',\n",
       " 'ln',\n",
       " 'log',\n",
       " 'log10',\n",
       " 'log1p',\n",
       " 'log2',\n",
       " 'log_base',\n",
       " 'matches',\n",
       " 'mean',\n",
       " 'median',\n",
       " 'n_bins',\n",
       " 'n_dim',\n",
       " 'normalize',\n",
       " 'plotrange',\n",
       " 'project',\n",
       " 'range',\n",
       " 'ravel_indices',\n",
       " 'rebin',\n",
       " 'sample',\n",
       " 'spline_fit',\n",
       " 'sqrt',\n",
       " 'sum',\n",
       " 'to_finite',\n",
       " 'transform_bins',\n",
       " 'values',\n",
       " 'volumes',\n",
       " 'weights',\n",
       " 'widths',\n",
       " 'zeronans']"
      ]
     },
     "execution_count": 26,
     "metadata": {},
     "output_type": "execute_result"
    }
   ],
   "source": [
    "dir(h)"
   ]
  },
  {
   "cell_type": "code",
   "execution_count": null,
   "metadata": {},
   "outputs": [],
   "source": []
  }
 ],
 "metadata": {
  "kernelspec": {
   "display_name": "basic",
   "language": "python",
   "name": "python3"
  },
  "language_info": {
   "codemirror_mode": {
    "name": "ipython",
    "version": 3
   },
   "file_extension": ".py",
   "mimetype": "text/x-python",
   "name": "python",
   "nbconvert_exporter": "python",
   "pygments_lexer": "ipython3",
   "version": "3.11.4"
  }
 },
 "nbformat": 4,
 "nbformat_minor": 2
}
