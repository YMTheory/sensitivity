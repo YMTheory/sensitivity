{
 "cells": [
  {
   "cell_type": "code",
   "execution_count": 1,
   "metadata": {},
   "outputs": [],
   "source": [
    "import numpy as np\n",
    "import matplotlib.pyplot as plt\n",
    "import histlite as hl\n",
    "\n",
    "import sys\n",
    "sys.path.append('/p/lustre1/yu47/Sterile_Neutrino/sensitivity/')\n",
    "\n",
    "from fitter import fitter\n",
    "from detector import detector\n",
    "from neutrino_source import neutrino_source"
   ]
  },
  {
   "cell_type": "code",
   "execution_count": 2,
   "metadata": {},
   "outputs": [
    {
     "name": "stdout",
     "output_type": "stream",
     "text": [
      "A Cr51 hot neutrino source with nominal 100000.0 in xx years with neutrino energies [0.75] and branch ratios [0.9] is created.\n"
     ]
    }
   ],
   "source": [
    "source = neutrino_source('Cr51', 1e5, [0.75], [0.9])\n",
    "det = detector('nEXO')\n",
    "\n",
    "det.position = (0, 0, 0)\n",
    "dist = 0.1 # unit: m\n",
    "source.position = (0, 0, -det.height/2-dist)\n",
    "\n",
    "#det.baseline = np.sqrt((source.position[0]-det.position[0])**2 + (source.position[1]-det.position[1])**2 + (source.position[2]-det.position[2])**2 )\n",
    "det.run_time = 100 # days\n",
    "\n",
    "dm2 = 1 # unit: eV\n",
    "sin2theta_square = 0.1\n",
    "\n",
    "fit = fitter(source, det)"
   ]
  },
  {
   "cell_type": "code",
   "execution_count": 4,
   "metadata": {},
   "outputs": [
    {
     "data": {
      "application/vnd.jupyter.widget-view+json": {
       "model_id": "1ae7562714604df59ab04f4c22f093ff",
       "version_major": 2,
       "version_minor": 0
      },
      "text/plain": [
       "Loop sin2theta_square...:   0%|          | 0/20 [00:00<?, ?it/s]"
      ]
     },
     "metadata": {},
     "output_type": "display_data"
    },
    {
     "data": {
      "application/vnd.jupyter.widget-view+json": {
       "model_id": "37d7003249db49f19a91514acc7dd4e5",
       "version_major": 2,
       "version_minor": 0
      },
      "text/plain": [
       "Loop delta_m2...:   0%|          | 0/20 [00:00<?, ?it/s]"
      ]
     },
     "metadata": {},
     "output_type": "display_data"
    },
    {
     "data": {
      "application/vnd.jupyter.widget-view+json": {
       "model_id": "d3277afd46e348ba8dfc75cc6c157717",
       "version_major": 2,
       "version_minor": 0
      },
      "text/plain": [
       "Loop delta_m2...:   0%|          | 0/20 [00:00<?, ?it/s]"
      ]
     },
     "metadata": {},
     "output_type": "display_data"
    },
    {
     "data": {
      "application/vnd.jupyter.widget-view+json": {
       "model_id": "341a4340a8a042a7a0ae7f199cac9c45",
       "version_major": 2,
       "version_minor": 0
      },
      "text/plain": [
       "Loop delta_m2...:   0%|          | 0/20 [00:00<?, ?it/s]"
      ]
     },
     "metadata": {},
     "output_type": "display_data"
    },
    {
     "data": {
      "application/vnd.jupyter.widget-view+json": {
       "model_id": "46903b1c373c4c22830014a8caf90b48",
       "version_major": 2,
       "version_minor": 0
      },
      "text/plain": [
       "Loop delta_m2...:   0%|          | 0/20 [00:00<?, ?it/s]"
      ]
     },
     "metadata": {},
     "output_type": "display_data"
    },
    {
     "data": {
      "application/vnd.jupyter.widget-view+json": {
       "model_id": "4ef89072660e439380f9c93a3531b9f9",
       "version_major": 2,
       "version_minor": 0
      },
      "text/plain": [
       "Loop delta_m2...:   0%|          | 0/20 [00:00<?, ?it/s]"
      ]
     },
     "metadata": {},
     "output_type": "display_data"
    },
    {
     "data": {
      "application/vnd.jupyter.widget-view+json": {
       "model_id": "7f58b13190004216af3df8b202d3dab9",
       "version_major": 2,
       "version_minor": 0
      },
      "text/plain": [
       "Loop delta_m2...:   0%|          | 0/20 [00:00<?, ?it/s]"
      ]
     },
     "metadata": {},
     "output_type": "display_data"
    },
    {
     "data": {
      "application/vnd.jupyter.widget-view+json": {
       "model_id": "0c819f664aa14b5f94941269e943beb6",
       "version_major": 2,
       "version_minor": 0
      },
      "text/plain": [
       "Loop delta_m2...:   0%|          | 0/20 [00:00<?, ?it/s]"
      ]
     },
     "metadata": {},
     "output_type": "display_data"
    },
    {
     "data": {
      "application/vnd.jupyter.widget-view+json": {
       "model_id": "6dbd47ba4fcd4cb5842582a6bd5ae440",
       "version_major": 2,
       "version_minor": 0
      },
      "text/plain": [
       "Loop delta_m2...:   0%|          | 0/20 [00:00<?, ?it/s]"
      ]
     },
     "metadata": {},
     "output_type": "display_data"
    },
    {
     "data": {
      "application/vnd.jupyter.widget-view+json": {
       "model_id": "6b7daa68a7af4f759dd1f3ded69d1489",
       "version_major": 2,
       "version_minor": 0
      },
      "text/plain": [
       "Loop delta_m2...:   0%|          | 0/20 [00:00<?, ?it/s]"
      ]
     },
     "metadata": {},
     "output_type": "display_data"
    },
    {
     "data": {
      "application/vnd.jupyter.widget-view+json": {
       "model_id": "df0c99e8442a426590da477218a0484d",
       "version_major": 2,
       "version_minor": 0
      },
      "text/plain": [
       "Loop delta_m2...:   0%|          | 0/20 [00:00<?, ?it/s]"
      ]
     },
     "metadata": {},
     "output_type": "display_data"
    },
    {
     "data": {
      "application/vnd.jupyter.widget-view+json": {
       "model_id": "ed78605d61c446d6ba59767cd6210865",
       "version_major": 2,
       "version_minor": 0
      },
      "text/plain": [
       "Loop delta_m2...:   0%|          | 0/20 [00:00<?, ?it/s]"
      ]
     },
     "metadata": {},
     "output_type": "display_data"
    },
    {
     "data": {
      "application/vnd.jupyter.widget-view+json": {
       "model_id": "d78e16ccd06546a0be3f7defdcb0ee62",
       "version_major": 2,
       "version_minor": 0
      },
      "text/plain": [
       "Loop delta_m2...:   0%|          | 0/20 [00:00<?, ?it/s]"
      ]
     },
     "metadata": {},
     "output_type": "display_data"
    },
    {
     "data": {
      "application/vnd.jupyter.widget-view+json": {
       "model_id": "a0e620bf77134a32baec8b41afdbc2f3",
       "version_major": 2,
       "version_minor": 0
      },
      "text/plain": [
       "Loop delta_m2...:   0%|          | 0/20 [00:00<?, ?it/s]"
      ]
     },
     "metadata": {},
     "output_type": "display_data"
    },
    {
     "data": {
      "application/vnd.jupyter.widget-view+json": {
       "model_id": "042d821598a84630bc80467ebe1ffcc1",
       "version_major": 2,
       "version_minor": 0
      },
      "text/plain": [
       "Loop delta_m2...:   0%|          | 0/20 [00:00<?, ?it/s]"
      ]
     },
     "metadata": {},
     "output_type": "display_data"
    },
    {
     "data": {
      "application/vnd.jupyter.widget-view+json": {
       "model_id": "f9d23f4c440545cdbaa61445d8da8b0d",
       "version_major": 2,
       "version_minor": 0
      },
      "text/plain": [
       "Loop delta_m2...:   0%|          | 0/20 [00:00<?, ?it/s]"
      ]
     },
     "metadata": {},
     "output_type": "display_data"
    },
    {
     "data": {
      "application/vnd.jupyter.widget-view+json": {
       "model_id": "5d7349537c16470db112a6275f3ac1d8",
       "version_major": 2,
       "version_minor": 0
      },
      "text/plain": [
       "Loop delta_m2...:   0%|          | 0/20 [00:00<?, ?it/s]"
      ]
     },
     "metadata": {},
     "output_type": "display_data"
    },
    {
     "data": {
      "application/vnd.jupyter.widget-view+json": {
       "model_id": "7b2de82de30f47d3899ef3fb25633985",
       "version_major": 2,
       "version_minor": 0
      },
      "text/plain": [
       "Loop delta_m2...:   0%|          | 0/20 [00:00<?, ?it/s]"
      ]
     },
     "metadata": {},
     "output_type": "display_data"
    },
    {
     "data": {
      "application/vnd.jupyter.widget-view+json": {
       "model_id": "f2ac7af5e49a4bc48d28aa51a94b24bd",
       "version_major": 2,
       "version_minor": 0
      },
      "text/plain": [
       "Loop delta_m2...:   0%|          | 0/20 [00:00<?, ?it/s]"
      ]
     },
     "metadata": {},
     "output_type": "display_data"
    },
    {
     "data": {
      "application/vnd.jupyter.widget-view+json": {
       "model_id": "741c7a0f9bc44dd9b3e2c2a71de9cd28",
       "version_major": 2,
       "version_minor": 0
      },
      "text/plain": [
       "Loop delta_m2...:   0%|          | 0/20 [00:00<?, ?it/s]"
      ]
     },
     "metadata": {},
     "output_type": "display_data"
    },
    {
     "data": {
      "application/vnd.jupyter.widget-view+json": {
       "model_id": "328100d1d3c34a6f833d497624c03833",
       "version_major": 2,
       "version_minor": 0
      },
      "text/plain": [
       "Loop delta_m2...:   0%|          | 0/20 [00:00<?, ?it/s]"
      ]
     },
     "metadata": {},
     "output_type": "display_data"
    }
   ],
   "source": [
    "from tqdm.notebook import tqdm\n",
    "PDFs = []\n",
    "names = []\n",
    "for sin in tqdm(np.logspace(-2, 1, 20), desc=\"Loop sin2theta_square...\"):\n",
    "    for dm2 in tqdm(np.logspace(-2, 1, 20), desc=\"Loop delta_m2...\"):\n",
    "        h = fit.generate_PDF(dm2, sin, 0.75)\n",
    "        PDFs.append(h)\n",
    "        name = f'dm2_{dm2:.2f}_sin2theta_square_{sin:.2f}'\n",
    "        names.append(name)"
   ]
  },
  {
   "cell_type": "code",
   "execution_count": 5,
   "metadata": {},
   "outputs": [
    {
     "name": "stdout",
     "output_type": "stream",
     "text": [
      "{'dm2_0.01_sin2theta_square_0.01': Hist(40 bins in [0.09999999999999998,1.283], with sum 33.8123415046492, 0 empty bins, and 0 non-finite values), 'dm2_0.04_sin2theta_square_0.01': Hist(40 bins in [0.09999999999999998,1.283], with sum 33.8123415046492, 0 empty bins, and 0 non-finite values), 'dm2_0.18_sin2theta_square_0.01': Hist(40 bins in [0.09999999999999998,1.283], with sum 33.8123415046492, 0 empty bins, and 0 non-finite values), 'dm2_0.78_sin2theta_square_0.01': Hist(40 bins in [0.09999999999999998,1.283], with sum 33.8123415046492, 0 empty bins, and 0 non-finite values), 'dm2_3.36_sin2theta_square_0.01': Hist(40 bins in [0.09999999999999998,1.283], with sum 33.812341504649204, 0 empty bins, and 0 non-finite values), 'dm2_14.38_sin2theta_square_0.01': Hist(40 bins in [0.09999999999999998,1.283], with sum 33.8123415046492, 0 empty bins, and 0 non-finite values), 'dm2_61.58_sin2theta_square_0.01': Hist(40 bins in [0.09999999999999998,1.283], with sum 33.812341504649204, 0 empty bins, and 0 non-finite values), 'dm2_263.67_sin2theta_square_0.01': Hist(40 bins in [0.09999999999999998,1.283], with sum 33.8123415046492, 0 empty bins, and 0 non-finite values), 'dm2_1128.84_sin2theta_square_0.01': Hist(40 bins in [0.09999999999999998,1.283], with sum 33.8123415046492, 0 empty bins, and 0 non-finite values), 'dm2_4832.93_sin2theta_square_0.01': Hist(40 bins in [0.09999999999999998,1.283], with sum 33.812341504649204, 0 empty bins, and 0 non-finite values), 'dm2_20691.38_sin2theta_square_0.01': Hist(40 bins in [0.09999999999999998,1.283], with sum 33.8123415046492, 0 empty bins, and 0 non-finite values), 'dm2_88586.68_sin2theta_square_0.01': Hist(40 bins in [0.09999999999999998,1.283], with sum 33.8123415046492, 0 empty bins, and 0 non-finite values), 'dm2_379269.02_sin2theta_square_0.01': Hist(40 bins in [0.09999999999999998,1.283], with sum 33.812341504649204, 0 empty bins, and 0 non-finite values), 'dm2_1623776.74_sin2theta_square_0.01': Hist(40 bins in [0.09999999999999998,1.283], with sum 33.8123415046492, 0 empty bins, and 0 non-finite values), 'dm2_6951927.96_sin2theta_square_0.01': Hist(40 bins in [0.09999999999999998,1.283], with sum 33.812341504649204, 0 empty bins, and 0 non-finite values), 'dm2_29763514.42_sin2theta_square_0.01': Hist(40 bins in [0.09999999999999998,1.283], with sum 33.8123415046492, 0 empty bins, and 0 non-finite values), 'dm2_127427498.57_sin2theta_square_0.01': Hist(40 bins in [0.09999999999999998,1.283], with sum 33.8123415046492, 0 empty bins, and 0 non-finite values), 'dm2_545559478.12_sin2theta_square_0.01': Hist(40 bins in [0.09999999999999998,1.283], with sum 33.8123415046492, 0 empty bins, and 0 non-finite values), 'dm2_2335721469.09_sin2theta_square_0.01': Hist(40 bins in [0.09999999999999998,1.283], with sum 33.8123415046492, 0 empty bins, and 0 non-finite values), 'dm2_10000000000.00_sin2theta_square_0.01': Hist(40 bins in [0.09999999999999998,1.283], with sum 33.8123415046492, 0 empty bins, and 0 non-finite values), 'dm2_0.01_sin2theta_square_0.02': Hist(40 bins in [0.09999999999999998,1.283], with sum 33.8123415046492, 0 empty bins, and 0 non-finite values), 'dm2_0.04_sin2theta_square_0.02': Hist(40 bins in [0.09999999999999998,1.283], with sum 33.8123415046492, 0 empty bins, and 0 non-finite values), 'dm2_0.18_sin2theta_square_0.02': Hist(40 bins in [0.09999999999999998,1.283], with sum 33.8123415046492, 0 empty bins, and 0 non-finite values), 'dm2_0.78_sin2theta_square_0.02': Hist(40 bins in [0.09999999999999998,1.283], with sum 33.812341504649204, 0 empty bins, and 0 non-finite values), 'dm2_3.36_sin2theta_square_0.02': Hist(40 bins in [0.09999999999999998,1.283], with sum 33.8123415046492, 0 empty bins, and 0 non-finite values), 'dm2_14.38_sin2theta_square_0.02': Hist(40 bins in [0.09999999999999998,1.283], with sum 33.8123415046492, 0 empty bins, and 0 non-finite values), 'dm2_61.58_sin2theta_square_0.02': Hist(40 bins in [0.09999999999999998,1.283], with sum 33.8123415046492, 0 empty bins, and 0 non-finite values), 'dm2_263.67_sin2theta_square_0.02': Hist(40 bins in [0.09999999999999998,1.283], with sum 33.8123415046492, 0 empty bins, and 0 non-finite values), 'dm2_1128.84_sin2theta_square_0.02': Hist(40 bins in [0.09999999999999998,1.283], with sum 33.8123415046492, 0 empty bins, and 0 non-finite values), 'dm2_4832.93_sin2theta_square_0.02': Hist(40 bins in [0.09999999999999998,1.283], with sum 33.8123415046492, 0 empty bins, and 0 non-finite values), 'dm2_20691.38_sin2theta_square_0.02': Hist(40 bins in [0.09999999999999998,1.283], with sum 33.8123415046492, 0 empty bins, and 0 non-finite values), 'dm2_88586.68_sin2theta_square_0.02': Hist(40 bins in [0.09999999999999998,1.283], with sum 33.8123415046492, 0 empty bins, and 0 non-finite values), 'dm2_379269.02_sin2theta_square_0.02': Hist(40 bins in [0.09999999999999998,1.283], with sum 33.8123415046492, 0 empty bins, and 0 non-finite values), 'dm2_1623776.74_sin2theta_square_0.02': Hist(40 bins in [0.09999999999999998,1.283], with sum 33.8123415046492, 0 empty bins, and 0 non-finite values), 'dm2_6951927.96_sin2theta_square_0.02': Hist(40 bins in [0.09999999999999998,1.283], with sum 33.8123415046492, 0 empty bins, and 0 non-finite values), 'dm2_29763514.42_sin2theta_square_0.02': Hist(40 bins in [0.09999999999999998,1.283], with sum 33.8123415046492, 0 empty bins, and 0 non-finite values), 'dm2_127427498.57_sin2theta_square_0.02': Hist(40 bins in [0.09999999999999998,1.283], with sum 33.812341504649204, 0 empty bins, and 0 non-finite values), 'dm2_545559478.12_sin2theta_square_0.02': Hist(40 bins in [0.09999999999999998,1.283], with sum 33.8123415046492, 0 empty bins, and 0 non-finite values), 'dm2_2335721469.09_sin2theta_square_0.02': Hist(40 bins in [0.09999999999999998,1.283], with sum 33.812341504649204, 0 empty bins, and 0 non-finite values), 'dm2_10000000000.00_sin2theta_square_0.02': Hist(40 bins in [0.09999999999999998,1.283], with sum 33.8123415046492, 0 empty bins, and 0 non-finite values), 'dm2_0.01_sin2theta_square_0.03': Hist(40 bins in [0.09999999999999998,1.283], with sum 33.812341504649204, 0 empty bins, and 0 non-finite values), 'dm2_0.04_sin2theta_square_0.03': Hist(40 bins in [0.09999999999999998,1.283], with sum 33.8123415046492, 0 empty bins, and 0 non-finite values), 'dm2_0.18_sin2theta_square_0.03': Hist(40 bins in [0.09999999999999998,1.283], with sum 33.8123415046492, 0 empty bins, and 0 non-finite values), 'dm2_0.78_sin2theta_square_0.03': Hist(40 bins in [0.09999999999999998,1.283], with sum 33.8123415046492, 0 empty bins, and 0 non-finite values), 'dm2_3.36_sin2theta_square_0.03': Hist(40 bins in [0.09999999999999998,1.283], with sum 33.8123415046492, 0 empty bins, and 0 non-finite values), 'dm2_14.38_sin2theta_square_0.03': Hist(40 bins in [0.09999999999999998,1.283], with sum 33.8123415046492, 0 empty bins, and 0 non-finite values), 'dm2_61.58_sin2theta_square_0.03': Hist(40 bins in [0.09999999999999998,1.283], with sum 33.8123415046492, 0 empty bins, and 0 non-finite values), 'dm2_263.67_sin2theta_square_0.03': Hist(40 bins in [0.09999999999999998,1.283], with sum 33.812341504649204, 0 empty bins, and 0 non-finite values), 'dm2_1128.84_sin2theta_square_0.03': Hist(40 bins in [0.09999999999999998,1.283], with sum 33.8123415046492, 0 empty bins, and 0 non-finite values), 'dm2_4832.93_sin2theta_square_0.03': Hist(40 bins in [0.09999999999999998,1.283], with sum 33.8123415046492, 0 empty bins, and 0 non-finite values), 'dm2_20691.38_sin2theta_square_0.03': Hist(40 bins in [0.09999999999999998,1.283], with sum 33.812341504649204, 0 empty bins, and 0 non-finite values), 'dm2_88586.68_sin2theta_square_0.03': Hist(40 bins in [0.09999999999999998,1.283], with sum 33.8123415046492, 0 empty bins, and 0 non-finite values), 'dm2_379269.02_sin2theta_square_0.03': Hist(40 bins in [0.09999999999999998,1.283], with sum 33.8123415046492, 0 empty bins, and 0 non-finite values), 'dm2_1623776.74_sin2theta_square_0.03': Hist(40 bins in [0.09999999999999998,1.283], with sum 33.8123415046492, 0 empty bins, and 0 non-finite values), 'dm2_6951927.96_sin2theta_square_0.03': Hist(40 bins in [0.09999999999999998,1.283], with sum 33.8123415046492, 0 empty bins, and 0 non-finite values), 'dm2_29763514.42_sin2theta_square_0.03': Hist(40 bins in [0.09999999999999998,1.283], with sum 33.8123415046492, 0 empty bins, and 0 non-finite values), 'dm2_127427498.57_sin2theta_square_0.03': Hist(40 bins in [0.09999999999999998,1.283], with sum 33.812341504649204, 0 empty bins, and 0 non-finite values), 'dm2_545559478.12_sin2theta_square_0.03': Hist(40 bins in [0.09999999999999998,1.283], with sum 33.8123415046492, 0 empty bins, and 0 non-finite values), 'dm2_2335721469.09_sin2theta_square_0.03': Hist(40 bins in [0.09999999999999998,1.283], with sum 33.8123415046492, 0 empty bins, and 0 non-finite values), 'dm2_10000000000.00_sin2theta_square_0.03': Hist(40 bins in [0.09999999999999998,1.283], with sum 33.8123415046492, 0 empty bins, and 0 non-finite values), 'dm2_0.01_sin2theta_square_0.04': Hist(40 bins in [0.09999999999999998,1.283], with sum 33.8123415046492, 0 empty bins, and 0 non-finite values), 'dm2_0.04_sin2theta_square_0.04': Hist(40 bins in [0.09999999999999998,1.283], with sum 33.8123415046492, 0 empty bins, and 0 non-finite values), 'dm2_0.18_sin2theta_square_0.04': Hist(40 bins in [0.09999999999999998,1.283], with sum 33.8123415046492, 0 empty bins, and 0 non-finite values), 'dm2_0.78_sin2theta_square_0.04': Hist(40 bins in [0.09999999999999998,1.283], with sum 33.8123415046492, 0 empty bins, and 0 non-finite values), 'dm2_3.36_sin2theta_square_0.04': Hist(40 bins in [0.09999999999999998,1.283], with sum 33.8123415046492, 0 empty bins, and 0 non-finite values), 'dm2_14.38_sin2theta_square_0.04': Hist(40 bins in [0.09999999999999998,1.283], with sum 33.8123415046492, 0 empty bins, and 0 non-finite values), 'dm2_61.58_sin2theta_square_0.04': Hist(40 bins in [0.09999999999999998,1.283], with sum 33.8123415046492, 0 empty bins, and 0 non-finite values), 'dm2_263.67_sin2theta_square_0.04': Hist(40 bins in [0.09999999999999998,1.283], with sum 33.8123415046492, 0 empty bins, and 0 non-finite values), 'dm2_1128.84_sin2theta_square_0.04': Hist(40 bins in [0.09999999999999998,1.283], with sum 33.8123415046492, 0 empty bins, and 0 non-finite values), 'dm2_4832.93_sin2theta_square_0.04': Hist(40 bins in [0.09999999999999998,1.283], with sum 33.812341504649204, 0 empty bins, and 0 non-finite values), 'dm2_20691.38_sin2theta_square_0.04': Hist(40 bins in [0.09999999999999998,1.283], with sum 33.812341504649204, 0 empty bins, and 0 non-finite values), 'dm2_88586.68_sin2theta_square_0.04': Hist(40 bins in [0.09999999999999998,1.283], with sum 33.8123415046492, 0 empty bins, and 0 non-finite values), 'dm2_379269.02_sin2theta_square_0.04': Hist(40 bins in [0.09999999999999998,1.283], with sum 33.8123415046492, 0 empty bins, and 0 non-finite values), 'dm2_1623776.74_sin2theta_square_0.04': Hist(40 bins in [0.09999999999999998,1.283], with sum 33.8123415046492, 0 empty bins, and 0 non-finite values), 'dm2_6951927.96_sin2theta_square_0.04': Hist(40 bins in [0.09999999999999998,1.283], with sum 33.8123415046492, 0 empty bins, and 0 non-finite values), 'dm2_29763514.42_sin2theta_square_0.04': Hist(40 bins in [0.09999999999999998,1.283], with sum 33.812341504649204, 0 empty bins, and 0 non-finite values), 'dm2_127427498.57_sin2theta_square_0.04': Hist(40 bins in [0.09999999999999998,1.283], with sum 33.8123415046492, 0 empty bins, and 0 non-finite values), 'dm2_545559478.12_sin2theta_square_0.04': Hist(40 bins in [0.09999999999999998,1.283], with sum 33.8123415046492, 0 empty bins, and 0 non-finite values), 'dm2_2335721469.09_sin2theta_square_0.04': Hist(40 bins in [0.09999999999999998,1.283], with sum 33.8123415046492, 0 empty bins, and 0 non-finite values), 'dm2_10000000000.00_sin2theta_square_0.04': Hist(40 bins in [0.09999999999999998,1.283], with sum 33.8123415046492, 0 empty bins, and 0 non-finite values), 'dm2_0.01_sin2theta_square_0.06': Hist(40 bins in [0.09999999999999998,1.283], with sum 33.8123415046492, 0 empty bins, and 0 non-finite values), 'dm2_0.04_sin2theta_square_0.06': Hist(40 bins in [0.09999999999999998,1.283], with sum 33.8123415046492, 0 empty bins, and 0 non-finite values), 'dm2_0.18_sin2theta_square_0.06': Hist(40 bins in [0.09999999999999998,1.283], with sum 33.8123415046492, 0 empty bins, and 0 non-finite values), 'dm2_0.78_sin2theta_square_0.06': Hist(40 bins in [0.09999999999999998,1.283], with sum 33.8123415046492, 0 empty bins, and 0 non-finite values), 'dm2_3.36_sin2theta_square_0.06': Hist(40 bins in [0.09999999999999998,1.283], with sum 33.8123415046492, 0 empty bins, and 0 non-finite values), 'dm2_14.38_sin2theta_square_0.06': Hist(40 bins in [0.09999999999999998,1.283], with sum 33.8123415046492, 0 empty bins, and 0 non-finite values), 'dm2_61.58_sin2theta_square_0.06': Hist(40 bins in [0.09999999999999998,1.283], with sum 33.8123415046492, 0 empty bins, and 0 non-finite values), 'dm2_263.67_sin2theta_square_0.06': Hist(40 bins in [0.09999999999999998,1.283], with sum 33.8123415046492, 0 empty bins, and 0 non-finite values), 'dm2_1128.84_sin2theta_square_0.06': Hist(40 bins in [0.09999999999999998,1.283], with sum 33.8123415046492, 0 empty bins, and 0 non-finite values), 'dm2_4832.93_sin2theta_square_0.06': Hist(40 bins in [0.09999999999999998,1.283], with sum 33.8123415046492, 0 empty bins, and 0 non-finite values), 'dm2_20691.38_sin2theta_square_0.06': Hist(40 bins in [0.09999999999999998,1.283], with sum 33.8123415046492, 0 empty bins, and 0 non-finite values), 'dm2_88586.68_sin2theta_square_0.06': Hist(40 bins in [0.09999999999999998,1.283], with sum 33.8123415046492, 0 empty bins, and 0 non-finite values), 'dm2_379269.02_sin2theta_square_0.06': Hist(40 bins in [0.09999999999999998,1.283], with sum 33.8123415046492, 0 empty bins, and 0 non-finite values), 'dm2_1623776.74_sin2theta_square_0.06': Hist(40 bins in [0.09999999999999998,1.283], with sum 33.8123415046492, 0 empty bins, and 0 non-finite values), 'dm2_6951927.96_sin2theta_square_0.06': Hist(40 bins in [0.09999999999999998,1.283], with sum 33.8123415046492, 0 empty bins, and 0 non-finite values), 'dm2_29763514.42_sin2theta_square_0.06': Hist(40 bins in [0.09999999999999998,1.283], with sum 33.8123415046492, 0 empty bins, and 0 non-finite values), 'dm2_127427498.57_sin2theta_square_0.06': Hist(40 bins in [0.09999999999999998,1.283], with sum 33.8123415046492, 0 empty bins, and 0 non-finite values), 'dm2_545559478.12_sin2theta_square_0.06': Hist(40 bins in [0.09999999999999998,1.283], with sum 33.8123415046492, 0 empty bins, and 0 non-finite values), 'dm2_2335721469.09_sin2theta_square_0.06': Hist(40 bins in [0.09999999999999998,1.283], with sum 33.8123415046492, 0 empty bins, and 0 non-finite values), 'dm2_10000000000.00_sin2theta_square_0.06': Hist(40 bins in [0.09999999999999998,1.283], with sum 33.8123415046492, 0 empty bins, and 0 non-finite values), 'dm2_0.01_sin2theta_square_0.09': Hist(40 bins in [0.09999999999999998,1.283], with sum 33.8123415046492, 0 empty bins, and 0 non-finite values), 'dm2_0.04_sin2theta_square_0.09': Hist(40 bins in [0.09999999999999998,1.283], with sum 33.8123415046492, 0 empty bins, and 0 non-finite values), 'dm2_0.18_sin2theta_square_0.09': Hist(40 bins in [0.09999999999999998,1.283], with sum 33.812341504649204, 0 empty bins, and 0 non-finite values), 'dm2_0.78_sin2theta_square_0.09': Hist(40 bins in [0.09999999999999998,1.283], with sum 33.8123415046492, 0 empty bins, and 0 non-finite values), 'dm2_3.36_sin2theta_square_0.09': Hist(40 bins in [0.09999999999999998,1.283], with sum 33.8123415046492, 0 empty bins, and 0 non-finite values), 'dm2_14.38_sin2theta_square_0.09': Hist(40 bins in [0.09999999999999998,1.283], with sum 33.812341504649204, 0 empty bins, and 0 non-finite values), 'dm2_61.58_sin2theta_square_0.09': Hist(40 bins in [0.09999999999999998,1.283], with sum 33.8123415046492, 0 empty bins, and 0 non-finite values), 'dm2_263.67_sin2theta_square_0.09': Hist(40 bins in [0.09999999999999998,1.283], with sum 33.81234150464919, 0 empty bins, and 0 non-finite values), 'dm2_1128.84_sin2theta_square_0.09': Hist(40 bins in [0.09999999999999998,1.283], with sum 33.8123415046492, 0 empty bins, and 0 non-finite values), 'dm2_4832.93_sin2theta_square_0.09': Hist(40 bins in [0.09999999999999998,1.283], with sum 33.8123415046492, 0 empty bins, and 0 non-finite values), 'dm2_20691.38_sin2theta_square_0.09': Hist(40 bins in [0.09999999999999998,1.283], with sum 33.8123415046492, 0 empty bins, and 0 non-finite values), 'dm2_88586.68_sin2theta_square_0.09': Hist(40 bins in [0.09999999999999998,1.283], with sum 33.8123415046492, 0 empty bins, and 0 non-finite values), 'dm2_379269.02_sin2theta_square_0.09': Hist(40 bins in [0.09999999999999998,1.283], with sum 33.812341504649204, 0 empty bins, and 0 non-finite values), 'dm2_1623776.74_sin2theta_square_0.09': Hist(40 bins in [0.09999999999999998,1.283], with sum 33.8123415046492, 0 empty bins, and 0 non-finite values), 'dm2_6951927.96_sin2theta_square_0.09': Hist(40 bins in [0.09999999999999998,1.283], with sum 33.8123415046492, 0 empty bins, and 0 non-finite values), 'dm2_29763514.42_sin2theta_square_0.09': Hist(40 bins in [0.09999999999999998,1.283], with sum 33.8123415046492, 0 empty bins, and 0 non-finite values), 'dm2_127427498.57_sin2theta_square_0.09': Hist(40 bins in [0.09999999999999998,1.283], with sum 33.8123415046492, 0 empty bins, and 0 non-finite values), 'dm2_545559478.12_sin2theta_square_0.09': Hist(40 bins in [0.09999999999999998,1.283], with sum 33.8123415046492, 0 empty bins, and 0 non-finite values), 'dm2_2335721469.09_sin2theta_square_0.09': Hist(40 bins in [0.09999999999999998,1.283], with sum 33.8123415046492, 0 empty bins, and 0 non-finite values), 'dm2_10000000000.00_sin2theta_square_0.09': Hist(40 bins in [0.09999999999999998,1.283], with sum 33.8123415046492, 0 empty bins, and 0 non-finite values), 'dm2_0.01_sin2theta_square_0.13': Hist(40 bins in [0.09999999999999998,1.283], with sum 33.812341504649204, 0 empty bins, and 0 non-finite values), 'dm2_0.04_sin2theta_square_0.13': Hist(40 bins in [0.09999999999999998,1.283], with sum 33.8123415046492, 0 empty bins, and 0 non-finite values), 'dm2_0.18_sin2theta_square_0.13': Hist(40 bins in [0.09999999999999998,1.283], with sum 33.8123415046492, 0 empty bins, and 0 non-finite values), 'dm2_0.78_sin2theta_square_0.13': Hist(40 bins in [0.09999999999999998,1.283], with sum 33.8123415046492, 0 empty bins, and 0 non-finite values), 'dm2_3.36_sin2theta_square_0.13': Hist(40 bins in [0.09999999999999998,1.283], with sum 33.8123415046492, 0 empty bins, and 0 non-finite values), 'dm2_14.38_sin2theta_square_0.13': Hist(40 bins in [0.09999999999999998,1.283], with sum 33.812341504649204, 0 empty bins, and 0 non-finite values), 'dm2_61.58_sin2theta_square_0.13': Hist(40 bins in [0.09999999999999998,1.283], with sum 33.8123415046492, 0 empty bins, and 0 non-finite values), 'dm2_263.67_sin2theta_square_0.13': Hist(40 bins in [0.09999999999999998,1.283], with sum 33.8123415046492, 0 empty bins, and 0 non-finite values), 'dm2_1128.84_sin2theta_square_0.13': Hist(40 bins in [0.09999999999999998,1.283], with sum 33.8123415046492, 0 empty bins, and 0 non-finite values), 'dm2_4832.93_sin2theta_square_0.13': Hist(40 bins in [0.09999999999999998,1.283], with sum 33.8123415046492, 0 empty bins, and 0 non-finite values), 'dm2_20691.38_sin2theta_square_0.13': Hist(40 bins in [0.09999999999999998,1.283], with sum 33.8123415046492, 0 empty bins, and 0 non-finite values), 'dm2_88586.68_sin2theta_square_0.13': Hist(40 bins in [0.09999999999999998,1.283], with sum 33.8123415046492, 0 empty bins, and 0 non-finite values), 'dm2_379269.02_sin2theta_square_0.13': Hist(40 bins in [0.09999999999999998,1.283], with sum 33.8123415046492, 0 empty bins, and 0 non-finite values), 'dm2_1623776.74_sin2theta_square_0.13': Hist(40 bins in [0.09999999999999998,1.283], with sum 33.8123415046492, 0 empty bins, and 0 non-finite values), 'dm2_6951927.96_sin2theta_square_0.13': Hist(40 bins in [0.09999999999999998,1.283], with sum 33.81234150464919, 0 empty bins, and 0 non-finite values), 'dm2_29763514.42_sin2theta_square_0.13': Hist(40 bins in [0.09999999999999998,1.283], with sum 33.8123415046492, 0 empty bins, and 0 non-finite values), 'dm2_127427498.57_sin2theta_square_0.13': Hist(40 bins in [0.09999999999999998,1.283], with sum 33.812341504649204, 0 empty bins, and 0 non-finite values), 'dm2_545559478.12_sin2theta_square_0.13': Hist(40 bins in [0.09999999999999998,1.283], with sum 33.8123415046492, 0 empty bins, and 0 non-finite values), 'dm2_2335721469.09_sin2theta_square_0.13': Hist(40 bins in [0.09999999999999998,1.283], with sum 33.8123415046492, 0 empty bins, and 0 non-finite values), 'dm2_10000000000.00_sin2theta_square_0.13': Hist(40 bins in [0.09999999999999998,1.283], with sum 33.8123415046492, 0 empty bins, and 0 non-finite values), 'dm2_0.01_sin2theta_square_0.18': Hist(40 bins in [0.09999999999999998,1.283], with sum 33.8123415046492, 0 empty bins, and 0 non-finite values), 'dm2_0.04_sin2theta_square_0.18': Hist(40 bins in [0.09999999999999998,1.283], with sum 33.8123415046492, 0 empty bins, and 0 non-finite values), 'dm2_0.18_sin2theta_square_0.18': Hist(40 bins in [0.09999999999999998,1.283], with sum 33.8123415046492, 0 empty bins, and 0 non-finite values), 'dm2_0.78_sin2theta_square_0.18': Hist(40 bins in [0.09999999999999998,1.283], with sum 33.8123415046492, 0 empty bins, and 0 non-finite values), 'dm2_3.36_sin2theta_square_0.18': Hist(40 bins in [0.09999999999999998,1.283], with sum 33.8123415046492, 0 empty bins, and 0 non-finite values), 'dm2_14.38_sin2theta_square_0.18': Hist(40 bins in [0.09999999999999998,1.283], with sum 33.8123415046492, 0 empty bins, and 0 non-finite values), 'dm2_61.58_sin2theta_square_0.18': Hist(40 bins in [0.09999999999999998,1.283], with sum 33.812341504649204, 0 empty bins, and 0 non-finite values), 'dm2_263.67_sin2theta_square_0.18': Hist(40 bins in [0.09999999999999998,1.283], with sum 33.8123415046492, 0 empty bins, and 0 non-finite values), 'dm2_1128.84_sin2theta_square_0.18': Hist(40 bins in [0.09999999999999998,1.283], with sum 33.8123415046492, 0 empty bins, and 0 non-finite values), 'dm2_4832.93_sin2theta_square_0.18': Hist(40 bins in [0.09999999999999998,1.283], with sum 33.812341504649204, 0 empty bins, and 0 non-finite values), 'dm2_20691.38_sin2theta_square_0.18': Hist(40 bins in [0.09999999999999998,1.283], with sum 33.8123415046492, 0 empty bins, and 0 non-finite values), 'dm2_88586.68_sin2theta_square_0.18': Hist(40 bins in [0.09999999999999998,1.283], with sum 33.812341504649204, 0 empty bins, and 0 non-finite values), 'dm2_379269.02_sin2theta_square_0.18': Hist(40 bins in [0.09999999999999998,1.283], with sum 33.8123415046492, 0 empty bins, and 0 non-finite values), 'dm2_1623776.74_sin2theta_square_0.18': Hist(40 bins in [0.09999999999999998,1.283], with sum 33.8123415046492, 0 empty bins, and 0 non-finite values), 'dm2_6951927.96_sin2theta_square_0.18': Hist(40 bins in [0.09999999999999998,1.283], with sum 33.8123415046492, 0 empty bins, and 0 non-finite values), 'dm2_29763514.42_sin2theta_square_0.18': Hist(40 bins in [0.09999999999999998,1.283], with sum 33.8123415046492, 0 empty bins, and 0 non-finite values), 'dm2_127427498.57_sin2theta_square_0.18': Hist(40 bins in [0.09999999999999998,1.283], with sum 33.8123415046492, 0 empty bins, and 0 non-finite values), 'dm2_545559478.12_sin2theta_square_0.18': Hist(40 bins in [0.09999999999999998,1.283], with sum 33.8123415046492, 0 empty bins, and 0 non-finite values), 'dm2_2335721469.09_sin2theta_square_0.18': Hist(40 bins in [0.09999999999999998,1.283], with sum 33.8123415046492, 0 empty bins, and 0 non-finite values), 'dm2_10000000000.00_sin2theta_square_0.18': Hist(40 bins in [0.09999999999999998,1.283], with sum 33.8123415046492, 0 empty bins, and 0 non-finite values), 'dm2_0.01_sin2theta_square_0.26': Hist(40 bins in [0.09999999999999998,1.283], with sum 33.8123415046492, 0 empty bins, and 0 non-finite values), 'dm2_0.04_sin2theta_square_0.26': Hist(40 bins in [0.09999999999999998,1.283], with sum 33.8123415046492, 0 empty bins, and 0 non-finite values), 'dm2_0.18_sin2theta_square_0.26': Hist(40 bins in [0.09999999999999998,1.283], with sum 33.8123415046492, 0 empty bins, and 0 non-finite values), 'dm2_0.78_sin2theta_square_0.26': Hist(40 bins in [0.09999999999999998,1.283], with sum 33.8123415046492, 0 empty bins, and 0 non-finite values), 'dm2_3.36_sin2theta_square_0.26': Hist(40 bins in [0.09999999999999998,1.283], with sum 33.8123415046492, 0 empty bins, and 0 non-finite values), 'dm2_14.38_sin2theta_square_0.26': Hist(40 bins in [0.09999999999999998,1.283], with sum 33.812341504649204, 0 empty bins, and 0 non-finite values), 'dm2_61.58_sin2theta_square_0.26': Hist(40 bins in [0.09999999999999998,1.283], with sum 33.8123415046492, 0 empty bins, and 0 non-finite values), 'dm2_263.67_sin2theta_square_0.26': Hist(40 bins in [0.09999999999999998,1.283], with sum 33.8123415046492, 0 empty bins, and 0 non-finite values), 'dm2_1128.84_sin2theta_square_0.26': Hist(40 bins in [0.09999999999999998,1.283], with sum 33.8123415046492, 0 empty bins, and 0 non-finite values), 'dm2_4832.93_sin2theta_square_0.26': Hist(40 bins in [0.09999999999999998,1.283], with sum 33.81234150464921, 0 empty bins, and 0 non-finite values), 'dm2_20691.38_sin2theta_square_0.26': Hist(40 bins in [0.09999999999999998,1.283], with sum 33.8123415046492, 0 empty bins, and 0 non-finite values), 'dm2_88586.68_sin2theta_square_0.26': Hist(40 bins in [0.09999999999999998,1.283], with sum 33.8123415046492, 0 empty bins, and 0 non-finite values), 'dm2_379269.02_sin2theta_square_0.26': Hist(40 bins in [0.09999999999999998,1.283], with sum 33.8123415046492, 0 empty bins, and 0 non-finite values), 'dm2_1623776.74_sin2theta_square_0.26': Hist(40 bins in [0.09999999999999998,1.283], with sum 33.8123415046492, 0 empty bins, and 0 non-finite values), 'dm2_6951927.96_sin2theta_square_0.26': Hist(40 bins in [0.09999999999999998,1.283], with sum 33.8123415046492, 0 empty bins, and 0 non-finite values), 'dm2_29763514.42_sin2theta_square_0.26': Hist(40 bins in [0.09999999999999998,1.283], with sum 33.8123415046492, 0 empty bins, and 0 non-finite values), 'dm2_127427498.57_sin2theta_square_0.26': Hist(40 bins in [0.09999999999999998,1.283], with sum 33.812341504649204, 0 empty bins, and 0 non-finite values), 'dm2_545559478.12_sin2theta_square_0.26': Hist(40 bins in [0.09999999999999998,1.283], with sum 33.8123415046492, 0 empty bins, and 0 non-finite values), 'dm2_2335721469.09_sin2theta_square_0.26': Hist(40 bins in [0.09999999999999998,1.283], with sum 33.8123415046492, 0 empty bins, and 0 non-finite values), 'dm2_10000000000.00_sin2theta_square_0.26': Hist(40 bins in [0.09999999999999998,1.283], with sum 33.81234150464919, 0 empty bins, and 0 non-finite values), 'dm2_0.01_sin2theta_square_0.38': Hist(40 bins in [0.09999999999999998,1.283], with sum 33.8123415046492, 0 empty bins, and 0 non-finite values), 'dm2_0.04_sin2theta_square_0.38': Hist(40 bins in [0.09999999999999998,1.283], with sum 33.8123415046492, 0 empty bins, and 0 non-finite values), 'dm2_0.18_sin2theta_square_0.38': Hist(40 bins in [0.09999999999999998,1.283], with sum 33.8123415046492, 0 empty bins, and 0 non-finite values), 'dm2_0.78_sin2theta_square_0.38': Hist(40 bins in [0.09999999999999998,1.283], with sum 33.8123415046492, 0 empty bins, and 0 non-finite values), 'dm2_3.36_sin2theta_square_0.38': Hist(40 bins in [0.09999999999999998,1.283], with sum 33.8123415046492, 0 empty bins, and 0 non-finite values), 'dm2_14.38_sin2theta_square_0.38': Hist(40 bins in [0.09999999999999998,1.283], with sum 33.8123415046492, 0 empty bins, and 0 non-finite values), 'dm2_61.58_sin2theta_square_0.38': Hist(40 bins in [0.09999999999999998,1.283], with sum 33.8123415046492, 0 empty bins, and 0 non-finite values), 'dm2_263.67_sin2theta_square_0.38': Hist(40 bins in [0.09999999999999998,1.283], with sum 33.8123415046492, 0 empty bins, and 0 non-finite values), 'dm2_1128.84_sin2theta_square_0.38': Hist(40 bins in [0.09999999999999998,1.283], with sum 33.8123415046492, 0 empty bins, and 0 non-finite values), 'dm2_4832.93_sin2theta_square_0.38': Hist(40 bins in [0.09999999999999998,1.283], with sum 33.8123415046492, 0 empty bins, and 0 non-finite values), 'dm2_20691.38_sin2theta_square_0.38': Hist(40 bins in [0.09999999999999998,1.283], with sum 33.8123415046492, 0 empty bins, and 0 non-finite values), 'dm2_88586.68_sin2theta_square_0.38': Hist(40 bins in [0.09999999999999998,1.283], with sum 33.8123415046492, 0 empty bins, and 0 non-finite values), 'dm2_379269.02_sin2theta_square_0.38': Hist(40 bins in [0.09999999999999998,1.283], with sum 33.8123415046492, 0 empty bins, and 0 non-finite values), 'dm2_1623776.74_sin2theta_square_0.38': Hist(40 bins in [0.09999999999999998,1.283], with sum 33.8123415046492, 0 empty bins, and 0 non-finite values), 'dm2_6951927.96_sin2theta_square_0.38': Hist(40 bins in [0.09999999999999998,1.283], with sum 33.8123415046492, 0 empty bins, and 0 non-finite values), 'dm2_29763514.42_sin2theta_square_0.38': Hist(40 bins in [0.09999999999999998,1.283], with sum 33.8123415046492, 0 empty bins, and 0 non-finite values), 'dm2_127427498.57_sin2theta_square_0.38': Hist(40 bins in [0.09999999999999998,1.283], with sum 33.8123415046492, 0 empty bins, and 0 non-finite values), 'dm2_545559478.12_sin2theta_square_0.38': Hist(40 bins in [0.09999999999999998,1.283], with sum 33.8123415046492, 0 empty bins, and 0 non-finite values), 'dm2_2335721469.09_sin2theta_square_0.38': Hist(40 bins in [0.09999999999999998,1.283], with sum 33.812341504649204, 0 empty bins, and 0 non-finite values), 'dm2_10000000000.00_sin2theta_square_0.38': Hist(40 bins in [0.09999999999999998,1.283], with sum 33.8123415046492, 0 empty bins, and 0 non-finite values), 'dm2_0.01_sin2theta_square_0.55': Hist(40 bins in [0.09999999999999998,1.283], with sum 33.8123415046492, 0 empty bins, and 0 non-finite values), 'dm2_0.04_sin2theta_square_0.55': Hist(40 bins in [0.09999999999999998,1.283], with sum 33.8123415046492, 0 empty bins, and 0 non-finite values), 'dm2_0.18_sin2theta_square_0.55': Hist(40 bins in [0.09999999999999998,1.283], with sum 33.8123415046492, 0 empty bins, and 0 non-finite values), 'dm2_0.78_sin2theta_square_0.55': Hist(40 bins in [0.09999999999999998,1.283], with sum 33.812341504649204, 0 empty bins, and 0 non-finite values), 'dm2_3.36_sin2theta_square_0.55': Hist(40 bins in [0.09999999999999998,1.283], with sum 33.812341504649204, 0 empty bins, and 0 non-finite values), 'dm2_14.38_sin2theta_square_0.55': Hist(40 bins in [0.09999999999999998,1.283], with sum 33.812341504649204, 0 empty bins, and 0 non-finite values), 'dm2_61.58_sin2theta_square_0.55': Hist(40 bins in [0.09999999999999998,1.283], with sum 33.8123415046492, 0 empty bins, and 0 non-finite values), 'dm2_263.67_sin2theta_square_0.55': Hist(40 bins in [0.09999999999999998,1.283], with sum 33.8123415046492, 0 empty bins, and 0 non-finite values), 'dm2_1128.84_sin2theta_square_0.55': Hist(40 bins in [0.09999999999999998,1.283], with sum 33.812341504649204, 0 empty bins, and 0 non-finite values), 'dm2_4832.93_sin2theta_square_0.55': Hist(40 bins in [0.09999999999999998,1.283], with sum 33.8123415046492, 0 empty bins, and 0 non-finite values), 'dm2_20691.38_sin2theta_square_0.55': Hist(40 bins in [0.09999999999999998,1.283], with sum 33.812341504649204, 0 empty bins, and 0 non-finite values), 'dm2_88586.68_sin2theta_square_0.55': Hist(40 bins in [0.09999999999999998,1.283], with sum 33.8123415046492, 0 empty bins, and 0 non-finite values), 'dm2_379269.02_sin2theta_square_0.55': Hist(40 bins in [0.09999999999999998,1.283], with sum 33.8123415046492, 0 empty bins, and 0 non-finite values), 'dm2_1623776.74_sin2theta_square_0.55': Hist(40 bins in [0.09999999999999998,1.283], with sum 33.8123415046492, 0 empty bins, and 0 non-finite values), 'dm2_6951927.96_sin2theta_square_0.55': Hist(40 bins in [0.09999999999999998,1.283], with sum 33.8123415046492, 0 empty bins, and 0 non-finite values), 'dm2_29763514.42_sin2theta_square_0.55': Hist(40 bins in [0.09999999999999998,1.283], with sum 33.812341504649204, 0 empty bins, and 0 non-finite values), 'dm2_127427498.57_sin2theta_square_0.55': Hist(40 bins in [0.09999999999999998,1.283], with sum 33.8123415046492, 0 empty bins, and 0 non-finite values), 'dm2_545559478.12_sin2theta_square_0.55': Hist(40 bins in [0.09999999999999998,1.283], with sum 33.812341504649204, 0 empty bins, and 0 non-finite values), 'dm2_2335721469.09_sin2theta_square_0.55': Hist(40 bins in [0.09999999999999998,1.283], with sum 33.812341504649204, 0 empty bins, and 0 non-finite values), 'dm2_10000000000.00_sin2theta_square_0.55': Hist(40 bins in [0.09999999999999998,1.283], with sum 33.8123415046492, 0 empty bins, and 0 non-finite values), 'dm2_0.01_sin2theta_square_0.78': Hist(40 bins in [0.09999999999999998,1.283], with sum 33.8123415046492, 0 empty bins, and 0 non-finite values), 'dm2_0.04_sin2theta_square_0.78': Hist(40 bins in [0.09999999999999998,1.283], with sum 33.8123415046492, 0 empty bins, and 0 non-finite values), 'dm2_0.18_sin2theta_square_0.78': Hist(40 bins in [0.09999999999999998,1.283], with sum 33.8123415046492, 0 empty bins, and 0 non-finite values), 'dm2_0.78_sin2theta_square_0.78': Hist(40 bins in [0.09999999999999998,1.283], with sum 33.812341504649204, 0 empty bins, and 0 non-finite values), 'dm2_3.36_sin2theta_square_0.78': Hist(40 bins in [0.09999999999999998,1.283], with sum 33.8123415046492, 0 empty bins, and 0 non-finite values), 'dm2_14.38_sin2theta_square_0.78': Hist(40 bins in [0.09999999999999998,1.283], with sum 33.81234150464921, 0 empty bins, and 0 non-finite values), 'dm2_61.58_sin2theta_square_0.78': Hist(40 bins in [0.09999999999999998,1.283], with sum 33.8123415046492, 0 empty bins, and 0 non-finite values), 'dm2_263.67_sin2theta_square_0.78': Hist(40 bins in [0.09999999999999998,1.283], with sum 33.8123415046492, 0 empty bins, and 0 non-finite values), 'dm2_1128.84_sin2theta_square_0.78': Hist(40 bins in [0.09999999999999998,1.283], with sum 33.8123415046492, 0 empty bins, and 0 non-finite values), 'dm2_4832.93_sin2theta_square_0.78': Hist(40 bins in [0.09999999999999998,1.283], with sum 33.8123415046492, 0 empty bins, and 0 non-finite values), 'dm2_20691.38_sin2theta_square_0.78': Hist(40 bins in [0.09999999999999998,1.283], with sum 33.8123415046492, 0 empty bins, and 0 non-finite values), 'dm2_88586.68_sin2theta_square_0.78': Hist(40 bins in [0.09999999999999998,1.283], with sum 33.81234150464919, 0 empty bins, and 0 non-finite values), 'dm2_379269.02_sin2theta_square_0.78': Hist(40 bins in [0.09999999999999998,1.283], with sum 33.8123415046492, 0 empty bins, and 0 non-finite values), 'dm2_1623776.74_sin2theta_square_0.78': Hist(40 bins in [0.09999999999999998,1.283], with sum 33.8123415046492, 0 empty bins, and 0 non-finite values), 'dm2_6951927.96_sin2theta_square_0.78': Hist(40 bins in [0.09999999999999998,1.283], with sum 33.8123415046492, 0 empty bins, and 0 non-finite values), 'dm2_29763514.42_sin2theta_square_0.78': Hist(40 bins in [0.09999999999999998,1.283], with sum 33.8123415046492, 0 empty bins, and 0 non-finite values), 'dm2_127427498.57_sin2theta_square_0.78': Hist(40 bins in [0.09999999999999998,1.283], with sum 33.8123415046492, 0 empty bins, and 0 non-finite values), 'dm2_545559478.12_sin2theta_square_0.78': Hist(40 bins in [0.09999999999999998,1.283], with sum 33.8123415046492, 0 empty bins, and 0 non-finite values), 'dm2_2335721469.09_sin2theta_square_0.78': Hist(40 bins in [0.09999999999999998,1.283], with sum 33.8123415046492, 0 empty bins, and 0 non-finite values), 'dm2_10000000000.00_sin2theta_square_0.78': Hist(40 bins in [0.09999999999999998,1.283], with sum 33.8123415046492, 0 empty bins, and 0 non-finite values), 'dm2_0.01_sin2theta_square_1.13': Hist(40 bins in [0.09999999999999998,1.283], with sum 33.8123415046492, 0 empty bins, and 0 non-finite values), 'dm2_0.04_sin2theta_square_1.13': Hist(40 bins in [0.09999999999999998,1.283], with sum 33.81234150464919, 0 empty bins, and 0 non-finite values), 'dm2_0.18_sin2theta_square_1.13': Hist(40 bins in [0.09999999999999998,1.283], with sum 33.812341504649204, 0 empty bins, and 0 non-finite values), 'dm2_0.78_sin2theta_square_1.13': Hist(40 bins in [0.09999999999999998,1.283], with sum 33.8123415046492, 12 empty bins, and 0 non-finite values), 'dm2_3.36_sin2theta_square_1.13': Hist(40 bins in [0.09999999999999998,1.283], with sum 33.8123415046492, 7 empty bins, and 0 non-finite values), 'dm2_14.38_sin2theta_square_1.13': Hist(40 bins in [0.09999999999999998,1.283], with sum 33.81234150464922, 0 empty bins, and 0 non-finite values), 'dm2_61.58_sin2theta_square_1.13': Hist(40 bins in [0.09999999999999998,1.283], with sum 33.812341504649204, 0 empty bins, and 0 non-finite values), 'dm2_263.67_sin2theta_square_1.13': Hist(40 bins in [0.09999999999999998,1.283], with sum 33.81234150464919, 0 empty bins, and 0 non-finite values), 'dm2_1128.84_sin2theta_square_1.13': Hist(40 bins in [0.09999999999999998,1.283], with sum 33.812341504649204, 0 empty bins, and 0 non-finite values), 'dm2_4832.93_sin2theta_square_1.13': Hist(40 bins in [0.09999999999999998,1.283], with sum 33.8123415046492, 0 empty bins, and 0 non-finite values), 'dm2_20691.38_sin2theta_square_1.13': Hist(40 bins in [0.09999999999999998,1.283], with sum 33.812341504649204, 0 empty bins, and 0 non-finite values), 'dm2_88586.68_sin2theta_square_1.13': Hist(40 bins in [0.09999999999999998,1.283], with sum 33.8123415046492, 0 empty bins, and 0 non-finite values), 'dm2_379269.02_sin2theta_square_1.13': Hist(40 bins in [0.09999999999999998,1.283], with sum 33.8123415046492, 0 empty bins, and 0 non-finite values), 'dm2_1623776.74_sin2theta_square_1.13': Hist(40 bins in [0.09999999999999998,1.283], with sum 33.8123415046492, 0 empty bins, and 0 non-finite values), 'dm2_6951927.96_sin2theta_square_1.13': Hist(40 bins in [0.09999999999999998,1.283], with sum 33.8123415046492, 0 empty bins, and 0 non-finite values), 'dm2_29763514.42_sin2theta_square_1.13': Hist(40 bins in [0.09999999999999998,1.283], with sum 33.8123415046492, 0 empty bins, and 0 non-finite values), 'dm2_127427498.57_sin2theta_square_1.13': Hist(40 bins in [0.09999999999999998,1.283], with sum 33.8123415046492, 0 empty bins, and 0 non-finite values), 'dm2_545559478.12_sin2theta_square_1.13': Hist(40 bins in [0.09999999999999998,1.283], with sum 33.8123415046492, 0 empty bins, and 0 non-finite values), 'dm2_2335721469.09_sin2theta_square_1.13': Hist(40 bins in [0.09999999999999998,1.283], with sum 33.8123415046492, 0 empty bins, and 0 non-finite values), 'dm2_10000000000.00_sin2theta_square_1.13': Hist(40 bins in [0.09999999999999998,1.283], with sum 33.8123415046492, 0 empty bins, and 0 non-finite values), 'dm2_0.01_sin2theta_square_1.62': Hist(40 bins in [0.09999999999999998,1.283], with sum 33.8123415046492, 0 empty bins, and 0 non-finite values), 'dm2_0.04_sin2theta_square_1.62': Hist(40 bins in [0.09999999999999998,1.283], with sum 33.8123415046492, 0 empty bins, and 0 non-finite values), 'dm2_0.18_sin2theta_square_1.62': Hist(40 bins in [0.09999999999999998,1.283], with sum 33.812341504649204, 0 empty bins, and 0 non-finite values), 'dm2_0.78_sin2theta_square_1.62': Hist(40 bins in [0.09999999999999998,1.283], with sum 33.8123415046492, 20 empty bins, and 0 non-finite values), 'dm2_3.36_sin2theta_square_1.62': Hist(40 bins in [0.09999999999999998,1.283], with sum 33.812341504649204, 14 empty bins, and 0 non-finite values), 'dm2_14.38_sin2theta_square_1.62': Hist(40 bins in [0.09999999999999998,1.283], with sum 33.81234150464922, 7 empty bins, and 0 non-finite values), 'dm2_61.58_sin2theta_square_1.62': Hist(40 bins in [0.09999999999999998,1.283], with sum 33.8123415046492, 0 empty bins, and 0 non-finite values), 'dm2_263.67_sin2theta_square_1.62': Hist(40 bins in [0.09999999999999998,1.283], with sum 33.8123415046492, 0 empty bins, and 0 non-finite values), 'dm2_1128.84_sin2theta_square_1.62': Hist(40 bins in [0.09999999999999998,1.283], with sum 33.8123415046492, 0 empty bins, and 0 non-finite values), 'dm2_4832.93_sin2theta_square_1.62': Hist(40 bins in [0.09999999999999998,1.283], with sum 33.8123415046492, 0 empty bins, and 0 non-finite values), 'dm2_20691.38_sin2theta_square_1.62': Hist(40 bins in [0.09999999999999998,1.283], with sum 33.8123415046492, 0 empty bins, and 0 non-finite values), 'dm2_88586.68_sin2theta_square_1.62': Hist(40 bins in [0.09999999999999998,1.283], with sum 33.8123415046492, 0 empty bins, and 0 non-finite values), 'dm2_379269.02_sin2theta_square_1.62': Hist(40 bins in [0.09999999999999998,1.283], with sum 33.81234150464919, 0 empty bins, and 0 non-finite values), 'dm2_1623776.74_sin2theta_square_1.62': Hist(40 bins in [0.09999999999999998,1.283], with sum 33.812341504649204, 0 empty bins, and 0 non-finite values), 'dm2_6951927.96_sin2theta_square_1.62': Hist(40 bins in [0.09999999999999998,1.283], with sum 33.812341504649204, 0 empty bins, and 0 non-finite values), 'dm2_29763514.42_sin2theta_square_1.62': Hist(40 bins in [0.09999999999999998,1.283], with sum 33.8123415046492, 0 empty bins, and 0 non-finite values), 'dm2_127427498.57_sin2theta_square_1.62': Hist(40 bins in [0.09999999999999998,1.283], with sum 33.8123415046492, 0 empty bins, and 0 non-finite values), 'dm2_545559478.12_sin2theta_square_1.62': Hist(40 bins in [0.09999999999999998,1.283], with sum 33.8123415046492, 0 empty bins, and 0 non-finite values), 'dm2_2335721469.09_sin2theta_square_1.62': Hist(40 bins in [0.09999999999999998,1.283], with sum 33.8123415046492, 0 empty bins, and 0 non-finite values), 'dm2_10000000000.00_sin2theta_square_1.62': Hist(40 bins in [0.09999999999999998,1.283], with sum 33.8123415046492, 0 empty bins, and 0 non-finite values), 'dm2_0.01_sin2theta_square_2.34': Hist(40 bins in [0.09999999999999998,1.283], with sum 33.8123415046492, 0 empty bins, and 0 non-finite values), 'dm2_0.04_sin2theta_square_2.34': Hist(40 bins in [0.09999999999999998,1.283], with sum 33.8123415046492, 0 empty bins, and 0 non-finite values), 'dm2_0.18_sin2theta_square_2.34': Hist(40 bins in [0.09999999999999998,1.283], with sum 33.8123415046492, 0 empty bins, and 0 non-finite values), 'dm2_0.78_sin2theta_square_2.34': Hist(40 bins in [0.09999999999999998,1.283], with sum 33.8123415046492, 25 empty bins, and 0 non-finite values), 'dm2_3.36_sin2theta_square_2.34': Hist(40 bins in [0.09999999999999998,1.283], with sum 33.812341504649204, 20 empty bins, and 0 non-finite values), 'dm2_14.38_sin2theta_square_2.34': Hist(40 bins in [0.09999999999999998,1.283], with sum 33.81234150464923, 13 empty bins, and 0 non-finite values), 'dm2_61.58_sin2theta_square_2.34': Hist(40 bins in [0.09999999999999998,1.283], with sum 33.8123415046492, 0 empty bins, and 0 non-finite values), 'dm2_263.67_sin2theta_square_2.34': Hist(40 bins in [0.09999999999999998,1.283], with sum 33.8123415046492, 0 empty bins, and 0 non-finite values), 'dm2_1128.84_sin2theta_square_2.34': Hist(40 bins in [0.09999999999999998,1.283], with sum 33.812341504649204, 0 empty bins, and 0 non-finite values), 'dm2_4832.93_sin2theta_square_2.34': Hist(40 bins in [0.09999999999999998,1.283], with sum 33.8123415046492, 0 empty bins, and 0 non-finite values), 'dm2_20691.38_sin2theta_square_2.34': Hist(40 bins in [0.09999999999999998,1.283], with sum 33.8123415046492, 0 empty bins, and 0 non-finite values), 'dm2_88586.68_sin2theta_square_2.34': Hist(40 bins in [0.09999999999999998,1.283], with sum 33.8123415046492, 0 empty bins, and 0 non-finite values), 'dm2_379269.02_sin2theta_square_2.34': Hist(40 bins in [0.09999999999999998,1.283], with sum 33.8123415046492, 0 empty bins, and 0 non-finite values), 'dm2_1623776.74_sin2theta_square_2.34': Hist(40 bins in [0.09999999999999998,1.283], with sum 33.81234150464919, 0 empty bins, and 0 non-finite values), 'dm2_6951927.96_sin2theta_square_2.34': Hist(40 bins in [0.09999999999999998,1.283], with sum 33.8123415046492, 0 empty bins, and 0 non-finite values), 'dm2_29763514.42_sin2theta_square_2.34': Hist(40 bins in [0.09999999999999998,1.283], with sum 33.8123415046492, 0 empty bins, and 0 non-finite values), 'dm2_127427498.57_sin2theta_square_2.34': Hist(40 bins in [0.09999999999999998,1.283], with sum 33.8123415046492, 0 empty bins, and 0 non-finite values), 'dm2_545559478.12_sin2theta_square_2.34': Hist(40 bins in [0.09999999999999998,1.283], with sum 33.8123415046492, 0 empty bins, and 0 non-finite values), 'dm2_2335721469.09_sin2theta_square_2.34': Hist(40 bins in [0.09999999999999998,1.283], with sum 33.8123415046492, 0 empty bins, and 0 non-finite values), 'dm2_10000000000.00_sin2theta_square_2.34': Hist(40 bins in [0.09999999999999998,1.283], with sum 33.8123415046492, 0 empty bins, and 0 non-finite values), 'dm2_0.01_sin2theta_square_3.36': Hist(40 bins in [0.09999999999999998,1.283], with sum 33.8123415046492, 0 empty bins, and 0 non-finite values), 'dm2_0.04_sin2theta_square_3.36': Hist(40 bins in [0.09999999999999998,1.283], with sum 33.8123415046492, 0 empty bins, and 0 non-finite values), 'dm2_0.18_sin2theta_square_3.36': Hist(40 bins in [0.09999999999999998,1.283], with sum 33.8123415046492, 0 empty bins, and 0 non-finite values), 'dm2_0.78_sin2theta_square_3.36': Hist(40 bins in [0.09999999999999998,1.283], with sum 33.8123415046492, 28 empty bins, and 0 non-finite values), 'dm2_3.36_sin2theta_square_3.36': Hist(40 bins in [0.09999999999999998,1.283], with sum 33.8123415046492, 24 empty bins, and 0 non-finite values), 'dm2_14.38_sin2theta_square_3.36': Hist(40 bins in [0.09999999999999998,1.283], with sum 33.81234150464923, 16 empty bins, and 0 non-finite values), 'dm2_61.58_sin2theta_square_3.36': Hist(40 bins in [0.09999999999999998,1.283], with sum 33.8123415046492, 0 empty bins, and 0 non-finite values), 'dm2_263.67_sin2theta_square_3.36': Hist(40 bins in [0.09999999999999998,1.283], with sum 33.8123415046492, 0 empty bins, and 0 non-finite values), 'dm2_1128.84_sin2theta_square_3.36': Hist(40 bins in [0.09999999999999998,1.283], with sum 33.812341504649204, 0 empty bins, and 0 non-finite values), 'dm2_4832.93_sin2theta_square_3.36': Hist(40 bins in [0.09999999999999998,1.283], with sum 33.8123415046492, 0 empty bins, and 0 non-finite values), 'dm2_20691.38_sin2theta_square_3.36': Hist(40 bins in [0.09999999999999998,1.283], with sum 33.8123415046492, 0 empty bins, and 0 non-finite values), 'dm2_88586.68_sin2theta_square_3.36': Hist(40 bins in [0.09999999999999998,1.283], with sum 33.8123415046492, 0 empty bins, and 0 non-finite values), 'dm2_379269.02_sin2theta_square_3.36': Hist(40 bins in [0.09999999999999998,1.283], with sum 33.8123415046492, 0 empty bins, and 0 non-finite values), 'dm2_1623776.74_sin2theta_square_3.36': Hist(40 bins in [0.09999999999999998,1.283], with sum 33.8123415046492, 0 empty bins, and 0 non-finite values), 'dm2_6951927.96_sin2theta_square_3.36': Hist(40 bins in [0.09999999999999998,1.283], with sum 33.8123415046492, 0 empty bins, and 0 non-finite values), 'dm2_29763514.42_sin2theta_square_3.36': Hist(40 bins in [0.09999999999999998,1.283], with sum 33.8123415046492, 0 empty bins, and 0 non-finite values), 'dm2_127427498.57_sin2theta_square_3.36': Hist(40 bins in [0.09999999999999998,1.283], with sum 33.8123415046492, 0 empty bins, and 0 non-finite values), 'dm2_545559478.12_sin2theta_square_3.36': Hist(40 bins in [0.09999999999999998,1.283], with sum 33.8123415046492, 0 empty bins, and 0 non-finite values), 'dm2_2335721469.09_sin2theta_square_3.36': Hist(40 bins in [0.09999999999999998,1.283], with sum 33.81234150464919, 0 empty bins, and 0 non-finite values), 'dm2_10000000000.00_sin2theta_square_3.36': Hist(40 bins in [0.09999999999999998,1.283], with sum 33.812341504649204, 0 empty bins, and 0 non-finite values), 'dm2_0.01_sin2theta_square_4.83': Hist(40 bins in [0.09999999999999998,1.283], with sum 33.8123415046492, 0 empty bins, and 0 non-finite values), 'dm2_0.04_sin2theta_square_4.83': Hist(40 bins in [0.09999999999999998,1.283], with sum 33.8123415046492, 0 empty bins, and 0 non-finite values), 'dm2_0.18_sin2theta_square_4.83': Hist(40 bins in [0.09999999999999998,1.283], with sum 33.8123415046492, 0 empty bins, and 0 non-finite values), 'dm2_0.78_sin2theta_square_4.83': Hist(40 bins in [0.09999999999999998,1.283], with sum 33.8123415046492, 31 empty bins, and 0 non-finite values), 'dm2_3.36_sin2theta_square_4.83': Hist(40 bins in [0.09999999999999998,1.283], with sum 33.81234150464919, 27 empty bins, and 0 non-finite values), 'dm2_14.38_sin2theta_square_4.83': Hist(40 bins in [0.09999999999999998,1.283], with sum 33.81234150464924, 19 empty bins, and 0 non-finite values), 'dm2_61.58_sin2theta_square_4.83': Hist(40 bins in [0.09999999999999998,1.283], with sum 33.8123415046492, 0 empty bins, and 0 non-finite values), 'dm2_263.67_sin2theta_square_4.83': Hist(40 bins in [0.09999999999999998,1.283], with sum 33.8123415046492, 0 empty bins, and 0 non-finite values), 'dm2_1128.84_sin2theta_square_4.83': Hist(40 bins in [0.09999999999999998,1.283], with sum 33.8123415046492, 0 empty bins, and 0 non-finite values), 'dm2_4832.93_sin2theta_square_4.83': Hist(40 bins in [0.09999999999999998,1.283], with sum 33.8123415046492, 0 empty bins, and 0 non-finite values), 'dm2_20691.38_sin2theta_square_4.83': Hist(40 bins in [0.09999999999999998,1.283], with sum 33.8123415046492, 0 empty bins, and 0 non-finite values), 'dm2_88586.68_sin2theta_square_4.83': Hist(40 bins in [0.09999999999999998,1.283], with sum 33.8123415046492, 0 empty bins, and 0 non-finite values), 'dm2_379269.02_sin2theta_square_4.83': Hist(40 bins in [0.09999999999999998,1.283], with sum 33.8123415046492, 0 empty bins, and 0 non-finite values), 'dm2_1623776.74_sin2theta_square_4.83': Hist(40 bins in [0.09999999999999998,1.283], with sum 33.8123415046492, 0 empty bins, and 0 non-finite values), 'dm2_6951927.96_sin2theta_square_4.83': Hist(40 bins in [0.09999999999999998,1.283], with sum 33.8123415046492, 0 empty bins, and 0 non-finite values), 'dm2_29763514.42_sin2theta_square_4.83': Hist(40 bins in [0.09999999999999998,1.283], with sum 33.8123415046492, 0 empty bins, and 0 non-finite values), 'dm2_127427498.57_sin2theta_square_4.83': Hist(40 bins in [0.09999999999999998,1.283], with sum 33.8123415046492, 0 empty bins, and 0 non-finite values), 'dm2_545559478.12_sin2theta_square_4.83': Hist(40 bins in [0.09999999999999998,1.283], with sum 33.8123415046492, 0 empty bins, and 0 non-finite values), 'dm2_2335721469.09_sin2theta_square_4.83': Hist(40 bins in [0.09999999999999998,1.283], with sum 33.8123415046492, 0 empty bins, and 0 non-finite values), 'dm2_10000000000.00_sin2theta_square_4.83': Hist(40 bins in [0.09999999999999998,1.283], with sum 33.8123415046492, 0 empty bins, and 0 non-finite values), 'dm2_0.01_sin2theta_square_6.95': Hist(40 bins in [0.09999999999999998,1.283], with sum 33.8123415046492, 0 empty bins, and 0 non-finite values), 'dm2_0.04_sin2theta_square_6.95': Hist(40 bins in [0.09999999999999998,1.283], with sum 33.8123415046492, 0 empty bins, and 0 non-finite values), 'dm2_0.18_sin2theta_square_6.95': Hist(40 bins in [0.09999999999999998,1.283], with sum 33.812341504649204, 1 empty bins, and 0 non-finite values), 'dm2_0.78_sin2theta_square_6.95': Hist(40 bins in [0.09999999999999998,1.283], with sum 33.8123415046492, 33 empty bins, and 0 non-finite values), 'dm2_3.36_sin2theta_square_6.95': Hist(40 bins in [0.09999999999999998,1.283], with sum 33.81234150464918, 28 empty bins, and 0 non-finite values), 'dm2_14.38_sin2theta_square_6.95': Hist(40 bins in [0.09999999999999998,1.283], with sum 33.81234150464924, 20 empty bins, and 0 non-finite values), 'dm2_61.58_sin2theta_square_6.95': Hist(40 bins in [0.09999999999999998,1.283], with sum 33.812341504649204, 0 empty bins, and 0 non-finite values), 'dm2_263.67_sin2theta_square_6.95': Hist(40 bins in [0.09999999999999998,1.283], with sum 33.8123415046492, 0 empty bins, and 0 non-finite values), 'dm2_1128.84_sin2theta_square_6.95': Hist(40 bins in [0.09999999999999998,1.283], with sum 33.8123415046492, 0 empty bins, and 0 non-finite values), 'dm2_4832.93_sin2theta_square_6.95': Hist(40 bins in [0.09999999999999998,1.283], with sum 33.8123415046492, 0 empty bins, and 0 non-finite values), 'dm2_20691.38_sin2theta_square_6.95': Hist(40 bins in [0.09999999999999998,1.283], with sum 33.8123415046492, 0 empty bins, and 0 non-finite values), 'dm2_88586.68_sin2theta_square_6.95': Hist(40 bins in [0.09999999999999998,1.283], with sum 33.812341504649204, 0 empty bins, and 0 non-finite values), 'dm2_379269.02_sin2theta_square_6.95': Hist(40 bins in [0.09999999999999998,1.283], with sum 33.8123415046492, 0 empty bins, and 0 non-finite values), 'dm2_1623776.74_sin2theta_square_6.95': Hist(40 bins in [0.09999999999999998,1.283], with sum 33.8123415046492, 0 empty bins, and 0 non-finite values), 'dm2_6951927.96_sin2theta_square_6.95': Hist(40 bins in [0.09999999999999998,1.283], with sum 33.8123415046492, 0 empty bins, and 0 non-finite values), 'dm2_29763514.42_sin2theta_square_6.95': Hist(40 bins in [0.09999999999999998,1.283], with sum 33.8123415046492, 0 empty bins, and 0 non-finite values), 'dm2_127427498.57_sin2theta_square_6.95': Hist(40 bins in [0.09999999999999998,1.283], with sum 33.8123415046492, 0 empty bins, and 0 non-finite values), 'dm2_545559478.12_sin2theta_square_6.95': Hist(40 bins in [0.09999999999999998,1.283], with sum 33.8123415046492, 0 empty bins, and 0 non-finite values), 'dm2_2335721469.09_sin2theta_square_6.95': Hist(40 bins in [0.09999999999999998,1.283], with sum 33.812341504649204, 0 empty bins, and 0 non-finite values), 'dm2_10000000000.00_sin2theta_square_6.95': Hist(40 bins in [0.09999999999999998,1.283], with sum 33.8123415046492, 0 empty bins, and 0 non-finite values), 'dm2_0.01_sin2theta_square_10.00': Hist(40 bins in [0.09999999999999998,1.283], with sum 33.8123415046492, 0 empty bins, and 0 non-finite values), 'dm2_0.04_sin2theta_square_10.00': Hist(40 bins in [0.09999999999999998,1.283], with sum 33.8123415046492, 0 empty bins, and 0 non-finite values), 'dm2_0.18_sin2theta_square_10.00': Hist(40 bins in [0.09999999999999998,1.283], with sum 33.8123415046492, 8 empty bins, and 0 non-finite values), 'dm2_0.78_sin2theta_square_10.00': Hist(40 bins in [0.09999999999999998,1.283], with sum 33.8123415046492, 35 empty bins, and 0 non-finite values), 'dm2_3.36_sin2theta_square_10.00': Hist(40 bins in [0.09999999999999998,1.283], with sum 33.812341504649176, 31 empty bins, and 0 non-finite values), 'dm2_14.38_sin2theta_square_10.00': Hist(40 bins in [0.09999999999999998,1.283], with sum 33.81234150464924, 22 empty bins, and 0 non-finite values), 'dm2_61.58_sin2theta_square_10.00': Hist(40 bins in [0.09999999999999998,1.283], with sum 33.8123415046492, 0 empty bins, and 0 non-finite values), 'dm2_263.67_sin2theta_square_10.00': Hist(40 bins in [0.09999999999999998,1.283], with sum 33.8123415046492, 0 empty bins, and 0 non-finite values), 'dm2_1128.84_sin2theta_square_10.00': Hist(40 bins in [0.09999999999999998,1.283], with sum 33.8123415046492, 0 empty bins, and 0 non-finite values), 'dm2_4832.93_sin2theta_square_10.00': Hist(40 bins in [0.09999999999999998,1.283], with sum 33.8123415046492, 0 empty bins, and 0 non-finite values), 'dm2_20691.38_sin2theta_square_10.00': Hist(40 bins in [0.09999999999999998,1.283], with sum 33.8123415046492, 0 empty bins, and 0 non-finite values), 'dm2_88586.68_sin2theta_square_10.00': Hist(40 bins in [0.09999999999999998,1.283], with sum 33.8123415046492, 0 empty bins, and 0 non-finite values), 'dm2_379269.02_sin2theta_square_10.00': Hist(40 bins in [0.09999999999999998,1.283], with sum 33.8123415046492, 0 empty bins, and 0 non-finite values), 'dm2_1623776.74_sin2theta_square_10.00': Hist(40 bins in [0.09999999999999998,1.283], with sum 33.8123415046492, 0 empty bins, and 0 non-finite values), 'dm2_6951927.96_sin2theta_square_10.00': Hist(40 bins in [0.09999999999999998,1.283], with sum 33.8123415046492, 0 empty bins, and 0 non-finite values), 'dm2_29763514.42_sin2theta_square_10.00': Hist(40 bins in [0.09999999999999998,1.283], with sum 33.8123415046492, 0 empty bins, and 0 non-finite values), 'dm2_127427498.57_sin2theta_square_10.00': Hist(40 bins in [0.09999999999999998,1.283], with sum 33.8123415046492, 0 empty bins, and 0 non-finite values), 'dm2_545559478.12_sin2theta_square_10.00': Hist(40 bins in [0.09999999999999998,1.283], with sum 33.8123415046492, 0 empty bins, and 0 non-finite values), 'dm2_2335721469.09_sin2theta_square_10.00': Hist(40 bins in [0.09999999999999998,1.283], with sum 33.8123415046492, 0 empty bins, and 0 non-finite values), 'dm2_10000000000.00_sin2theta_square_10.00': Hist(40 bins in [0.09999999999999998,1.283], with sum 33.8123415046492, 0 empty bins, and 0 non-finite values)}\n"
     ]
    }
   ],
   "source": [
    "dd = {}\n",
    "for name, pdf in zip(names, PDFs):\n",
    "    dd[name] = pdf\n",
    "    \n",
    "print(dd)"
   ]
  },
  {
   "cell_type": "code",
   "execution_count": 13,
   "metadata": {},
   "outputs": [],
   "source": [
    "fit.write_PDFs_intoFile(PDFs, pdffile)"
   ]
  },
  {
   "cell_type": "code",
   "execution_count": 3,
   "metadata": {},
   "outputs": [],
   "source": [
    "pdffile = '../../jobs/PDFs/dm21.0_sin2thetasquare0.1_Ev750keV_dist10cm_3cmbin.p'\n",
    "hs = fit.load_PDFs_fromFile(pdffile)"
   ]
  },
  {
   "cell_type": "code",
   "execution_count": 5,
   "metadata": {},
   "outputs": [
    {
     "data": {
      "image/png": "[encoded data removed]",
      "text/plain": [
       "<Figure size 600x400 with 1 Axes>"
      ]
     },
     "metadata": {},
     "output_type": "display_data"
    }
   ],
   "source": [
    "fig, ax = plt.subplots(figsize=(6, 4))\n",
    "hl.plot1d(ax, hs)"
   ]
  },
  {
   "cell_type": "code",
   "execution_count": null,
   "metadata": {},
   "outputs": [],
   "source": []
  }
 ],
 "metadata": {
  "kernelspec": {
   "display_name": "basic",
   "language": "python",
   "name": "python3"
  },
  "language_info": {
   "codemirror_mode": {
    "name": "ipython",
    "version": 3
   },
   "file_extension": ".py",
   "mimetype": "text/x-python",
   "name": "python",
   "nbconvert_exporter": "python",
   "pygments_lexer": "ipython3",
   "version": "3.12.2"
  }
 },
 "nbformat": 4,
 "nbformat_minor": 2
}
