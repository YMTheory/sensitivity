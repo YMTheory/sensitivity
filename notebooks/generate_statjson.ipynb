{
 "cells": [
  {
   "cell_type": "code",
   "execution_count": 1,
   "metadata": {},
   "outputs": [],
   "source": [
    "# nEXO exp\n",
    "import numpy as np\n",
    "import matplotlib.pyplot as plt\n",
    "from matplotlib import colors\n",
    "import histlite\n",
    "from tqdm.notebook import tqdm\n",
    "import seaborn as sns\n",
    "from tqdm import tqdm\n",
    "import json\n",
    "import pickle\n",
    "\n",
    "import sys\n",
    "sys.path.append('/p/lustre1/yu47/Sterile_Neutrino/sensitivity/')\n",
    "\n",
    "from weight import *\n"
   ]
  },
  {
   "cell_type": "code",
   "execution_count": 6,
   "metadata": {},
   "outputs": [
    {
     "name": "stdout",
     "output_type": "stream",
     "text": [
      "A Cr51 hot neutrino source with nominal 100000.0 in xx years with neutrino energies [0.75] and branch ratios [1.0] is created.\n",
      "A Cr51 hot neutrino source with nominal 100000.0 in xx years with neutrino energies [0.75] and branch ratios [1.0] is created.\n",
      "A Cr51 hot neutrino source with nominal 100000.0 in xx years with neutrino energies [0.75] and branch ratios [1.0] is created.\n"
     ]
    }
   ],
   "source": [
    "from neutrino_source import neutrino_source\n",
    "from detector import detector\n",
    "from MC_generator import MC_generator\n",
    "\n",
    "#from fitter import fitter\n",
    "source_nEXO = neutrino_source('Cr51', 1e5, [0.75], [1.0])\n",
    "det_nEXO = detector('nEXO')\n",
    "det_nEXO.update_geometry(1.183, 1.133)\n",
    "det_nEXO.position = (0, 0, 0)\n",
    "dist = 0.1\n",
    "source_nEXO.position = (0, 0, -det_nEXO.height/2-dist)\n",
    "dm2, sin2theta_square = 0.0, 0.0\n",
    "gen1 = MC_generator(source_nEXO, det_nEXO, dm2=dm2, sin2theta_square=sin2theta_square, int_type='CC'); \n",
    "\n",
    "\n",
    "source_LZ = neutrino_source('Cr51', 1e5, [0.75], [1.0])\n",
    "det_LZ = detector('LZ')\n",
    "det_LZ.update_geometry(1.38, 1.38)\n",
    "det_LZ.position = (0, 0, 0)\n",
    "dist = 1.0\n",
    "source_LZ.position = (0, 0, -det_LZ.height/2-dist)\n",
    "dm2, sin2theta_square = 0.0, 0.0\n",
    "gen2 = MC_generator(source_LZ, det_LZ, dm2=dm2, sin2theta_square=sin2theta_square, int_type='ES'); \n",
    "\n",
    "source_XLZD = neutrino_source('Cr51', 1e5, [0.75], [1.0])\n",
    "det_XLZD = detector('XLZD')\n",
    "det_XLZD.update_geometry(2.6, 2.6)\n",
    "det_XLZD.position = (0, 0, 0)\n",
    "dist = 1.0\n",
    "source_XLZD.position = (0, 0, -det_XLZD.height/2-dist)\n",
    "dm2, sin2theta_square = 0.0, 0.0\n",
    "gen3 = MC_generator(source_XLZD, det_XLZD, dm2=dm2, sin2theta_square=sin2theta_square, int_type='CC'); \n",
    "\n",
    "\n",
    "nEXO_exp = {'source': source_nEXO, 'detector': det_nEXO, 'generator': gen1}\n",
    "LZ_exp = {'source': source_LZ, 'detector': det_LZ, 'generator': gen2}\n",
    "XLZD_exp = {'source': source_XLZD, 'detector': det_XLZD, 'generator': gen3}\n",
    "\n",
    "with open('nEXO_exp.p', 'wb') as f:\n",
    "    pickle.dump(nEXO_exp, f)\n",
    "with open('LZ_exp.p', 'wb') as f:\n",
    "    pickle.dump(LZ_exp, f)\n",
    "with open('XLZD_exp.p', 'wb') as f:\n",
    "    pickle.dump(XLZD_exp, f)\n",
    "\n"
   ]
  },
  {
   "cell_type": "code",
   "execution_count": 2,
   "metadata": {},
   "outputs": [],
   "source": [
    "Nsig_LZ_nominal = 12518"
   ]
  },
  {
   "cell_type": "code",
   "execution_count": 3,
   "metadata": {},
   "outputs": [],
   "source": [
    "def load_histogram(file):\n",
    "    with open(file, 'rb') as f:\n",
    "        h = pickle.load(f)\n",
    "    return h\n",
    "\n",
    "file0 = '/p/lustre1/yu47/Sterile_Neutrino/jobs/MC/dmsquare0.00000eV2/MC_dmsquare0.00000sinsquare0.00000_source14cm_smear0.01m_pre_smeared_nEXO_dist10cm_start0end100.p'\n",
    "h0 = load_histogram(file0)\n",
    "file1 = '/p/lustre1/yu47/Sterile_Neutrino/jobs/MC/dmsquare0.00000eV2/MC_dmsquare0.00000sinsquare0.00000_source14cm_smear0.01m_pre_smeared_nEXO_dist100cm_start0end100.p'\n",
    "h1 = load_histogram(file1)\n",
    "file2 = '/p/lustre1/yu47/Sterile_Neutrino/jobs/MC/dmsquare0.00000eV2/MC_dmsquare0.00000sinsquare0.00000_source14cm_smear0.01m_pre_smeared_LZ_dist100cm_start0end100.p'\n",
    "h2 = load_histogram(file2)\n",
    "file3 = '/p/lustre1/yu47/Sterile_Neutrino/jobs/MC/dmsquare0.00000eV2/MC_dmsquare0.00000sinsquare0.00000_source14cm_smear0.01m_pre_smeared_XLZD_dist100cm_start0end100.p'\n",
    "h3 = load_histogram(file3)\n",
    "\n",
    "N0 = np.sum(h0.values)\n",
    "N1 = np.sum(h1.values)\n",
    "N2 = np.sum(h2.values)\n",
    "N3 = np.sum(h3.values)\n"
   ]
  },
  {
   "cell_type": "code",
   "execution_count": 4,
   "metadata": {},
   "outputs": [
    {
     "name": "stdout",
     "output_type": "stream",
     "text": [
      "| Detector   |   Volume [m^3] |\n",
      "|------------|----------------|\n",
      "| nEXO       |           1.19 |\n",
      "| LZ         |           2.06 |\n",
      "| XLZD       |          13.8  |\n"
     ]
    }
   ],
   "source": [
    "path = '/p/lustre1/yu47/Sterile_Neutrino/sensitivity/exp_class/'\n",
    "with open(path+'nEXO_exp.p', 'rb') as f:\n",
    "    d = pickle.load(f)\n",
    "det_nEXO = d['detector']\n",
    "with open(path+'LZ_exp.p', 'rb') as f:\n",
    "    d = pickle.load(f)\n",
    "det_LZ = d['detector']\n",
    "with open(path+'XLZD_exp.p', 'rb') as f:\n",
    "    d = pickle.load(f)\n",
    "det_XLZD = d['detector']\n",
    "\n",
    "from tabulate import tabulate\n",
    "\n",
    "print(tabulate([ ['nEXO', f'{det_nEXO.volume:.2f}'], \\\n",
    "                 ['LZ' , f'{det_LZ.volume:.2f}'], \\\n",
    "                 ['XLZD', f'{det_XLZD.volume:.2f}'], \\\n",
    "                 ], headers=[\"Detector\", \"Volume [m^3]\"], tablefmt='github' ))"
   ]
  },
  {
   "cell_type": "code",
   "execution_count": 5,
   "metadata": {},
   "outputs": [
    {
     "name": "stdout",
     "output_type": "stream",
     "text": [
      "0.0682200998433603\n",
      "0.07807919506465821\n",
      "| Configuration   |   Signal count |\n",
      "|-----------------|----------------|\n",
      "| nEXO (10 cm)    |        6003.2  |\n",
      "| nEXO (100 cm)   |         959.81 |\n",
      "| LZ (100 cm)     |       12518    |\n",
      "| XLZD (100 cm)   |         550.56 |\n"
     ]
    }
   ],
   "source": [
    "ratio_nEXOtoLZ = weight_exps(['CC', 'ES'], [1.0, 1.0], [0.9, 0.9], [5, 5], [100, 100], [det_nEXO.volume, det_LZ.volume])\n",
    "ratio_XLZDtoLZ = weight_exps(['CC', 'ES'], [1.0, 1.0], [0.089, 0.9], [5, 5], [100, 100], [det_XLZD.volume, det_LZ.volume])\n",
    "print(ratio_nEXOtoLZ)\n",
    "print(ratio_XLZDtoLZ)\n",
    "\n",
    "Nsig_nEXO_10cm  = N0 * (Nsig_LZ_nominal / N2) * ratio_nEXOtoLZ\n",
    "Nsig_nEXO_100cm = N1 * (Nsig_LZ_nominal / N2) * ratio_nEXOtoLZ\n",
    "Nsig_XLZD_100cm = N3 * (Nsig_LZ_nominal / N2) * ratio_XLZDtoLZ\n",
    "\n",
    "print(tabulate([ ['nEXO (10 cm)', f'{Nsig_nEXO_10cm:.2f}'], \\\n",
    "                 ['nEXO (100 cm)', f'{Nsig_nEXO_100cm:.2f}'], \\\n",
    "                 ['LZ (100 cm)' , f'{Nsig_LZ_nominal:.2f}'], \\\n",
    "                 ['XLZD (100 cm)', f'{Nsig_XLZD_100cm:.2f}'], \\\n",
    "                 ], headers=[\"Configuration\", \"Signal count\"], tablefmt='github' ))\n"
   ]
  },
  {
   "cell_type": "code",
   "execution_count": 8,
   "metadata": {},
   "outputs": [],
   "source": [
    "data_XLZD = {\"14cnSource_100cmDist\" : Nsig_XLZD_100cm}\n",
    "with open('/p/lustre1/yu47/Sterile_Neutrino/sensitivity/config/statistics_XLZD.json', 'a') as f:\n",
    "    f.write(json.dumps(data_XLZD, ensure_ascii=False, indent=4))"
   ]
  },
  {
   "cell_type": "code",
   "execution_count": 24,
   "metadata": {},
   "outputs": [],
   "source": [
    "def scale_histogram(h, N):\n",
    "    scaled_h = histlite.Hist(h.bins[0], h.values/np.sum(h.values)*N)\n",
    "    return scaled_h"
   ]
  },
  {
   "cell_type": "code",
   "execution_count": 25,
   "metadata": {},
   "outputs": [],
   "source": [
    "h_LZ = scale_histogram(h2, Nsig_LZ_nominal)\n",
    "h_nEXO10cm = scale_histogram(h0, Nsig_nEXO_10cm)\n",
    "h_nEXO100cm = scale_histogram(h1, Nsig_nEXO_100cm)\n",
    "h_XLZD = scale_histogram(h3, Nsig_XLZD_100cm)"
   ]
  },
  {
   "cell_type": "code",
   "execution_count": 30,
   "metadata": {},
   "outputs": [
    {
     "data": {
      "text/plain": [
       "Text(0, 0.5, 'Signa count per 3cm bin')"
      ]
     },
     "execution_count": 30,
     "metadata": {},
     "output_type": "execute_result"
    },
    {
     "data": {
      "image/png": "[encoded data removed]",
      "text/plain": [
       "<Figure size 900x600 with 1 Axes>"
      ]
     },
     "metadata": {},
     "output_type": "display_data"
    }
   ],
   "source": [
    "plt.style.use('fast')\n",
    "fig, ax = plt.subplots(figsize=(9, 6))\n",
    "histlite.plot1d(ax, h_LZ, label='LZ, 1 m')\n",
    "histlite.plot1d(ax, h_XLZD, label='XLZD, 1 m')\n",
    "histlite.plot1d(ax, h_nEXO10cm, label='nEXO, 10 cm')\n",
    "histlite.plot1d(ax, h_nEXO100cm, label='nEXO, 1 m')\n",
    "ax.semilogy()\n",
    "ax.legend()\n",
    "ax.set_xlabel('Baseline [m]', fontsize=14)\n",
    "ax.set_ylabel('Signa count per 3cm bin', fontsize=14)"
   ]
  },
  {
   "cell_type": "code",
   "execution_count": null,
   "metadata": {},
   "outputs": [],
   "source": []
  }
 ],
 "metadata": {
  "kernelspec": {
   "display_name": "sterile_nu",
   "language": "python",
   "name": "python3"
  },
  "language_info": {
   "codemirror_mode": {
    "name": "ipython",
    "version": 3
   },
   "file_extension": ".py",
   "mimetype": "text/x-python",
   "name": "python",
   "nbconvert_exporter": "python",
   "pygments_lexer": "ipython3",
   "version": "3.12.4"
  }
 },
 "nbformat": 4,
 "nbformat_minor": 2
}
