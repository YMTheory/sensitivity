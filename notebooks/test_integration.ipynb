{
 "cells": [
  {
   "cell_type": "code",
   "execution_count": 2,
   "metadata": {},
   "outputs": [],
   "source": [
    "import numpy as np\n",
    "import matplotlib.pyplot as plt\n",
    "from scipy.integrate import quad"
   ]
  },
  {
   "cell_type": "code",
   "execution_count": 1,
   "metadata": {},
   "outputs": [
    {
     "name": "stdout",
     "output_type": "stream",
     "text": [
      "A Cr51 hot neutrino source with nominal 100000.0 in xx years with neutrino energies [0.75] and branch ratios [1.0] is created.\n"
     ]
    }
   ],
   "source": [
    "import sys\n",
    "sys.path.append('/p/lustre1/yu47/Sterile_Neutrino/sensitivity/')\n",
    "\n",
    "from neutrino_source import neutrino_source\n",
    "from detector import detector\n",
    "from MC_generator import gen_LZ\n",
    "from MC_generator import MC_generator\n",
    "from oscillation import *"
   ]
  },
  {
   "cell_type": "code",
   "execution_count": 3,
   "metadata": {},
   "outputs": [
    {
     "name": "stdout",
     "output_type": "stream",
     "text": [
      "A Cr51 hot neutrino source with nominal 100000.0 in xx years with neutrino energies [0.75] and branch ratios [1.0] is created.\n"
     ]
    }
   ],
   "source": [
    "# nEXO exp\n",
    "source_nEXO = neutrino_source('Cr51', 1e5, [0.75], [1.0])\n",
    "det_nEXO = detector('nEXO')\n",
    "det_nEXO.update_geometry(1.183, 1.133)\n",
    "det_nEXO.position = (0, 0, 0)\n",
    "dist = 0.1\n",
    "source_nEXO.position = (0, 0, -det_nEXO.height/2-dist)\n",
    "\n",
    "det_nEXO.run_time = 100 # days\n",
    "\n",
    "dm2, sin2theta_square = 0.0, 0.0\n",
    "gen1 = MC_generator(source_nEXO, det_nEXO, dm2=dm2, sin2theta_square=sin2theta_square, int_type='CC'); \n"
   ]
  },
  {
   "cell_type": "code",
   "execution_count": 4,
   "metadata": {},
   "outputs": [],
   "source": [
    "rate = []\n",
    "for r in range(gen1.baseline_min, gen1.baseline_max, 0.03):\n",
    "    res, err = gen1.expected_rate_DetectorSphericalAngularIntegral_withSourceGeometry_1(r, 0.75, 0.0, 0.0)\n",
    "    rate.append(res)"
   ]
  },
  {
   "cell_type": "code",
   "execution_count": 5,
   "metadata": {},
   "outputs": [
    {
     "name": "stdout",
     "output_type": "stream",
     "text": [
      "0.0003281959224315362 2.30469957664889e-09\n"
     ]
    }
   ],
   "source": []
  },
  {
   "cell_type": "code",
   "execution_count": null,
   "metadata": {},
   "outputs": [],
   "source": []
  }
 ],
 "metadata": {
  "kernelspec": {
   "display_name": "sterile_nu",
   "language": "python",
   "name": "python3"
  },
  "language_info": {
   "codemirror_mode": {
    "name": "ipython",
    "version": 3
   },
   "file_extension": ".py",
   "mimetype": "text/x-python",
   "name": "python",
   "nbconvert_exporter": "python",
   "pygments_lexer": "ipython3",
   "version": "3.12.4"
  }
 },
 "nbformat": 4,
 "nbformat_minor": 2
}
