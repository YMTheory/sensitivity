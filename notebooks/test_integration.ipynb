{
 "cells": [
  {
   "cell_type": "code",
   "execution_count": 60,
   "metadata": {},
   "outputs": [],
   "source": [
    "import numpy as np\n",
    "import matplotlib.pyplot as plt\n",
    "from scipy.integrate import quad"
   ]
  },
  {
   "cell_type": "code",
   "execution_count": 67,
   "metadata": {},
   "outputs": [],
   "source": [
    "def spheric_theta_limits(rs, r_det=1.133/2., h_det=1.183, z_source=-0.6915):\n",
    "    z_min, z_max = -h_det/2., h_det/2.\n",
    "    rs_min, rs_max = -z_source-h_det/2., np.sqrt((-z_source+h_det/2.)**2 + r_det**2)\n",
    "    dist = z_min - z_source\n",
    "    theta_max = np.arctan(r_det / (dist))\n",
    "\n",
    "    if False:\n",
    "        print('******************** General limits on rs and theta **********************')\n",
    "        print(f'theta_c in [0, {theta_max/np.pi*180:.4f}]')\n",
    "        print(f'r_c in [{rs_min:.3f}, {rs_max:.3f}] ')\n",
    "        print('**************************************************************************')\n",
    "    \n",
    "    \n",
    "    if rs >= rs_max or rs <= rs_min:\n",
    "        print(f'Radius is out of range [{rs_min:.3f}, {rs_max:.3f}].')\n",
    "        return\n",
    "\n",
    "    theta_uplimt0 = -100.\n",
    "    if r_det < rs:\n",
    "        #print('Cylindrical radisu condition should be satisfied !')\n",
    "        theta_uplimt0 = np.arcsin(r_det/rs)\n",
    "    \n",
    "    theta_uplimt1 = -100.\n",
    "    up_cond = (-h_det/2.-z_source) / rs\n",
    "    if 0<= up_cond <= 1:\n",
    "        #print('Lower cylindrical height condition should be satisfied !')\n",
    "        theta_uplimt1 = np.arccos(up_cond)\n",
    "    theta_lowlimt1 = -100\n",
    "    low_cond = (h_det/2.-z_source) / rs\n",
    "    if 0<= low_cond <= 1:\n",
    "        #print('Upper cylindrical height condition should be satisfied !')\n",
    "        theta_lowlimt1 = np.arccos(low_cond)\n",
    "\n",
    "    if False:\n",
    "        print('******************** Strict limits on rs and theta **********************')\n",
    "        print(f'Upper limits of theta: {theta_uplimt0:.4f}, {theta_uplimt1:.4f}.')\n",
    "        print(f\"Lower limits of theta: {theta_lowlimt1:.4f}.\") \n",
    "    \n",
    "    \n",
    "    uplimit = min([theta_max, theta_uplimt0, theta_uplimt1])\n",
    "    lowlimit = max([0, theta_lowlimt1])\n",
    "    return lowlimit, uplimit"
   ]
  },
  {
   "cell_type": "code",
   "execution_count": 68,
   "metadata": {},
   "outputs": [
    {
     "name": "stdout",
     "output_type": "stream",
     "text": [
      "-0.6915\n"
     ]
    },
    {
     "data": {
      "text/plain": [
       "(0.3932042238581342, 0.4200951944487617)"
      ]
     },
     "execution_count": 68,
     "metadata": {},
     "output_type": "execute_result"
    }
   ],
   "source": [
    "r_det = 1.133/2.\n",
    "h_det = 1.183\n",
    "z_source = -0.1 - h_det/2.\n",
    "print(z_source)\n",
    "rs = 1.389\n",
    "spheric_theta_limits(rs, r_det, h_det, z_source)"
   ]
  },
  {
   "cell_type": "code",
   "execution_count": 71,
   "metadata": {},
   "outputs": [
    {
     "name": "stdout",
     "output_type": "stream",
     "text": [
      "0.6808380454889427 7.558820741426138e-15\n"
     ]
    }
   ],
   "source": [
    "f = lambda theta, L: 1 \n",
    "L = 0.9\n",
    "res, err = quad(f, spheric_theta_limits(L)[0], spheric_theta_limits(L)[1], args=(L,))\n",
    "print(res, err)"
   ]
  },
  {
   "cell_type": "code",
   "execution_count": null,
   "metadata": {},
   "outputs": [],
   "source": []
  }
 ],
 "metadata": {
  "kernelspec": {
   "display_name": "sterile_nu",
   "language": "python",
   "name": "python3"
  },
  "language_info": {
   "codemirror_mode": {
    "name": "ipython",
    "version": 3
   },
   "file_extension": ".py",
   "mimetype": "text/x-python",
   "name": "python",
   "nbconvert_exporter": "python",
   "pygments_lexer": "ipython3",
   "version": "3.12.4"
  }
 },
 "nbformat": 4,
 "nbformat_minor": 2
}
